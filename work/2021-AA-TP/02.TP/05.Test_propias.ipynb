{
 "cells": [
  {
   "cell_type": "markdown",
   "metadata": {
    "id": "7ejoNk2RTghk"
   },
   "source": [
    "# Preparación del entorno y carga de datos"
   ]
  },
  {
   "cell_type": "code",
   "execution_count": 3,
   "metadata": {
    "colab": {
     "base_uri": "https://localhost:8080/"
    },
    "id": "0a6HQ9JVDJCp",
    "outputId": "94fe65e3-8209-48fd-ec05-914ecd28cc47",
    "scrolled": true
   },
   "outputs": [
    {
     "name": "stderr",
     "output_type": "stream",
     "text": [
      "'sudo' is not recognized as an internal or external command,\n",
      "operable program or batch file.\n",
      "'sudo' is not recognized as an internal or external command,\n",
      "operable program or batch file.\n"
     ]
    },
    {
     "name": "stdout",
     "output_type": "stream",
     "text": [
      "^C\n"
     ]
    }
   ],
   "source": [
    "!sudo apt-get install unzip\n",
    "!sudo apt-get install sox\n",
    "!pip install opensmile"
   ]
  },
  {
   "cell_type": "code",
   "execution_count": 33,
   "metadata": {},
   "outputs": [],
   "source": [
    "import datetime\n",
    "import glob\n",
    "import math\n",
    "import numpy as np\n",
    "import matplotlib.pyplot as plt\n",
    "import opensmile\n",
    "import os\n",
    "import pandas as pd\n",
    "import pickle\n",
    "import seaborn as sns\n",
    "import sox \n",
    "import sweetviz as sv\n",
    "import time\n",
    "import tqdm\n",
    "from matplotlib import pyplot\n",
    "from numpy import mean, std\n",
    "from pathlib import Path\n",
    "from urllib.parse import urlparse"
   ]
  },
  {
   "cell_type": "code",
   "execution_count": 2,
   "metadata": {},
   "outputs": [],
   "source": [
    "from scipy import stats\n",
    "from scipy.stats import chi2_contingency\n",
    "from scipy.stats import randint as sp_randint\n",
    "\n",
    "from sklearn.calibration import calibration_curve\n",
    "from sklearn.ensemble import (\n",
    "    BaggingClassifier,\n",
    "    RandomForestClassifier,\n",
    "    AdaBoostClassifier,\n",
    ")\n",
    "from sklearn.impute import KNNImputer\n",
    "from sklearn.feature_selection import RFE\n",
    "from sklearn.metrics import (\n",
    "    roc_curve,\n",
    "    auc,\n",
    "    make_scorer,\n",
    "    accuracy_score,\n",
    "    fbeta_score,\n",
    "    precision_score,\n",
    "    recall_score,\n",
    "    f1_score,\n",
    "    classification_report,\n",
    "    confusion_matrix,\n",
    ")\n",
    "from sklearn.model_selection import (\n",
    "    train_test_split,\n",
    "    cross_val_score,\n",
    "    StratifiedKFold,\n",
    "    KFold,\n",
    "    GridSearchCV,\n",
    "    RandomizedSearchCV,\n",
    "    RepeatedStratifiedKFold,\n",
    ")\n",
    "from sklearn.pipeline import Pipeline\n",
    "from sklearn.preprocessing import OneHotEncoder\n",
    "from sklearn.tree import DecisionTreeClassifier, plot_tree\n",
    "from sklearn import tree\n",
    "from sklearn.model_selection import KFold, cross_val_score, LeaveOneGroupOut"
   ]
  },
  {
   "cell_type": "markdown",
   "metadata": {
    "id": "Bnazn8RS-nRZ"
   },
   "source": [
    "## Instancias a dataset a predecir"
   ]
  },
  {
   "cell_type": "code",
   "execution_count": 6,
   "metadata": {
    "colab": {
     "base_uri": "https://localhost:8080/"
    },
    "id": "w7R_K4fMgE-u",
    "outputId": "62991d9b-20e2-4f52-8e9e-d6fb2d1ca7a7",
    "scrolled": true
   },
   "outputs": [
    {
     "name": "stderr",
     "output_type": "stream",
     "text": [
      "'unzip' is not recognized as an internal or external command,\n",
      "operable program or batch file.\n"
     ]
    }
   ],
   "source": [
    "!unzip ./Propios/audios_propios.zip -d ./Propios/ravdess_propios"
   ]
  },
  {
   "cell_type": "markdown",
   "metadata": {
    "id": "5_f1Mzp8HNzT"
   },
   "source": [
    "**Recorrer estructuras de archivos y extraer metadata**"
   ]
  },
  {
   "cell_type": "code",
   "execution_count": 7,
   "metadata": {
    "id": "vL-Bn6VBHOq_"
   },
   "outputs": [],
   "source": [
    "ravdess = []\n",
    "for file_path in glob.glob(\"./Propios/ravdess_propios/*.wav\"):\n",
    "    filename = Path(file_path).stem\n",
    "    filename_parts = filename.split(\"-\")\n",
    "    metadata = {\n",
    "        \"file_path\": file_path,\n",
    "        \"modality\": filename_parts[0],\n",
    "        \"vocal_channel\": filename_parts[1],\n",
    "        \"emotion\": filename_parts[2],\n",
    "        \"emotional_intensity\": filename_parts[3],\n",
    "        \"statement\": filename_parts[4],\n",
    "        \"repetition\": filename_parts[5],\n",
    "        \"actor\": filename_parts[6],\n",
    "    }\n",
    "    ravdess.append(metadata)\n",
    "\n",
    "df_ravdess_propios = pd.DataFrame(ravdess)"
   ]
  },
  {
   "cell_type": "code",
   "execution_count": 8,
   "metadata": {
    "colab": {
     "base_uri": "https://localhost:8080/"
    },
    "collapsed": true,
    "id": "1xDfuHv8H-xL",
    "outputId": "0e416ca7-21f0-47ac-ee81-59348402d70b"
   },
   "outputs": [
    {
     "name": "stdout",
     "output_type": "stream",
     "text": [
      "./Propios/ravdess_propios/03-01-01-01-01-01-05.wav\n"
     ]
    },
    {
     "ename": "FileNotFoundError",
     "evalue": "[WinError 2] The system cannot find the file specified",
     "output_type": "error",
     "traceback": [
      "\u001b[1;31m---------------------------------------------------------------------------\u001b[0m",
      "\u001b[1;31mFileNotFoundError\u001b[0m                         Traceback (most recent call last)",
      "\u001b[1;32m<ipython-input-8-f6e1e8c337bc>\u001b[0m in \u001b[0;36m<module>\u001b[1;34m\u001b[0m\n\u001b[0;32m      6\u001b[0m     \u001b[0mprint\u001b[0m\u001b[1;33m(\u001b[0m\u001b[1;34m\"./Propios/ravdess_propios/\"\u001b[0m \u001b[1;33m+\u001b[0m \u001b[0mj\u001b[0m\u001b[1;33m)\u001b[0m\u001b[1;33m\u001b[0m\u001b[1;33m\u001b[0m\u001b[0m\n\u001b[0;32m      7\u001b[0m \u001b[1;33m\u001b[0m\u001b[0m\n\u001b[1;32m----> 8\u001b[1;33m     \u001b[0mch\u001b[0m \u001b[1;33m=\u001b[0m \u001b[0msox\u001b[0m\u001b[1;33m.\u001b[0m\u001b[0mfile_info\u001b[0m\u001b[1;33m.\u001b[0m\u001b[0mchannels\u001b[0m\u001b[1;33m(\u001b[0m\u001b[0mfilename\u001b[0m\u001b[1;33m)\u001b[0m\u001b[1;33m\u001b[0m\u001b[1;33m\u001b[0m\u001b[0m\n\u001b[0m\u001b[0;32m      9\u001b[0m     \u001b[0mprint\u001b[0m\u001b[1;33m(\u001b[0m\u001b[1;34mf\"channel: {ch}\"\u001b[0m\u001b[1;33m)\u001b[0m\u001b[1;33m\u001b[0m\u001b[1;33m\u001b[0m\u001b[0m\n\u001b[0;32m     10\u001b[0m     smile = opensmile.Smile(\n",
      "\u001b[1;32m~\\Anaconda3\\lib\\site-packages\\sox\\file_info.py\u001b[0m in \u001b[0;36mchannels\u001b[1;34m(input_filepath)\u001b[0m\n\u001b[0;32m     80\u001b[0m     '''\n\u001b[0;32m     81\u001b[0m     \u001b[0mvalidate_input_file\u001b[0m\u001b[1;33m(\u001b[0m\u001b[0minput_filepath\u001b[0m\u001b[1;33m)\u001b[0m\u001b[1;33m\u001b[0m\u001b[1;33m\u001b[0m\u001b[0m\n\u001b[1;32m---> 82\u001b[1;33m     \u001b[0moutput\u001b[0m \u001b[1;33m=\u001b[0m \u001b[0msoxi\u001b[0m\u001b[1;33m(\u001b[0m\u001b[0minput_filepath\u001b[0m\u001b[1;33m,\u001b[0m \u001b[1;34m'c'\u001b[0m\u001b[1;33m)\u001b[0m\u001b[1;33m\u001b[0m\u001b[1;33m\u001b[0m\u001b[0m\n\u001b[0m\u001b[0;32m     83\u001b[0m     \u001b[1;32mreturn\u001b[0m \u001b[0mint\u001b[0m\u001b[1;33m(\u001b[0m\u001b[0moutput\u001b[0m\u001b[1;33m)\u001b[0m\u001b[1;33m\u001b[0m\u001b[1;33m\u001b[0m\u001b[0m\n\u001b[0;32m     84\u001b[0m \u001b[1;33m\u001b[0m\u001b[0m\n",
      "\u001b[1;32m~\\Anaconda3\\lib\\site-packages\\sox\\core.py\u001b[0m in \u001b[0;36msoxi\u001b[1;34m(filepath, argument)\u001b[0m\n\u001b[0;32m    147\u001b[0m         shell_output = subprocess.check_output(\n\u001b[0;32m    148\u001b[0m             \u001b[0margs\u001b[0m\u001b[1;33m,\u001b[0m\u001b[1;33m\u001b[0m\u001b[1;33m\u001b[0m\u001b[0m\n\u001b[1;32m--> 149\u001b[1;33m             \u001b[0mstderr\u001b[0m\u001b[1;33m=\u001b[0m\u001b[0msubprocess\u001b[0m\u001b[1;33m.\u001b[0m\u001b[0mPIPE\u001b[0m\u001b[1;33m\u001b[0m\u001b[1;33m\u001b[0m\u001b[0m\n\u001b[0m\u001b[0;32m    150\u001b[0m         )\n\u001b[0;32m    151\u001b[0m     \u001b[1;32mexcept\u001b[0m \u001b[0mCalledProcessError\u001b[0m \u001b[1;32mas\u001b[0m \u001b[0mcpe\u001b[0m\u001b[1;33m:\u001b[0m\u001b[1;33m\u001b[0m\u001b[1;33m\u001b[0m\u001b[0m\n",
      "\u001b[1;32m~\\Anaconda3\\lib\\subprocess.py\u001b[0m in \u001b[0;36mcheck_output\u001b[1;34m(timeout, *popenargs, **kwargs)\u001b[0m\n\u001b[0;32m    409\u001b[0m \u001b[1;33m\u001b[0m\u001b[0m\n\u001b[0;32m    410\u001b[0m     return run(*popenargs, stdout=PIPE, timeout=timeout, check=True,\n\u001b[1;32m--> 411\u001b[1;33m                **kwargs).stdout\n\u001b[0m\u001b[0;32m    412\u001b[0m \u001b[1;33m\u001b[0m\u001b[0m\n\u001b[0;32m    413\u001b[0m \u001b[1;33m\u001b[0m\u001b[0m\n",
      "\u001b[1;32m~\\Anaconda3\\lib\\subprocess.py\u001b[0m in \u001b[0;36mrun\u001b[1;34m(input, capture_output, timeout, check, *popenargs, **kwargs)\u001b[0m\n\u001b[0;32m    486\u001b[0m         \u001b[0mkwargs\u001b[0m\u001b[1;33m[\u001b[0m\u001b[1;34m'stderr'\u001b[0m\u001b[1;33m]\u001b[0m \u001b[1;33m=\u001b[0m \u001b[0mPIPE\u001b[0m\u001b[1;33m\u001b[0m\u001b[1;33m\u001b[0m\u001b[0m\n\u001b[0;32m    487\u001b[0m \u001b[1;33m\u001b[0m\u001b[0m\n\u001b[1;32m--> 488\u001b[1;33m     \u001b[1;32mwith\u001b[0m \u001b[0mPopen\u001b[0m\u001b[1;33m(\u001b[0m\u001b[1;33m*\u001b[0m\u001b[0mpopenargs\u001b[0m\u001b[1;33m,\u001b[0m \u001b[1;33m**\u001b[0m\u001b[0mkwargs\u001b[0m\u001b[1;33m)\u001b[0m \u001b[1;32mas\u001b[0m \u001b[0mprocess\u001b[0m\u001b[1;33m:\u001b[0m\u001b[1;33m\u001b[0m\u001b[1;33m\u001b[0m\u001b[0m\n\u001b[0m\u001b[0;32m    489\u001b[0m         \u001b[1;32mtry\u001b[0m\u001b[1;33m:\u001b[0m\u001b[1;33m\u001b[0m\u001b[1;33m\u001b[0m\u001b[0m\n\u001b[0;32m    490\u001b[0m             \u001b[0mstdout\u001b[0m\u001b[1;33m,\u001b[0m \u001b[0mstderr\u001b[0m \u001b[1;33m=\u001b[0m \u001b[0mprocess\u001b[0m\u001b[1;33m.\u001b[0m\u001b[0mcommunicate\u001b[0m\u001b[1;33m(\u001b[0m\u001b[0minput\u001b[0m\u001b[1;33m,\u001b[0m \u001b[0mtimeout\u001b[0m\u001b[1;33m=\u001b[0m\u001b[0mtimeout\u001b[0m\u001b[1;33m)\u001b[0m\u001b[1;33m\u001b[0m\u001b[1;33m\u001b[0m\u001b[0m\n",
      "\u001b[1;32m~\\Anaconda3\\lib\\subprocess.py\u001b[0m in \u001b[0;36m__init__\u001b[1;34m(self, args, bufsize, executable, stdin, stdout, stderr, preexec_fn, close_fds, shell, cwd, env, universal_newlines, startupinfo, creationflags, restore_signals, start_new_session, pass_fds, encoding, errors, text)\u001b[0m\n\u001b[0;32m    798\u001b[0m                                 \u001b[0mc2pread\u001b[0m\u001b[1;33m,\u001b[0m \u001b[0mc2pwrite\u001b[0m\u001b[1;33m,\u001b[0m\u001b[1;33m\u001b[0m\u001b[1;33m\u001b[0m\u001b[0m\n\u001b[0;32m    799\u001b[0m                                 \u001b[0merrread\u001b[0m\u001b[1;33m,\u001b[0m \u001b[0merrwrite\u001b[0m\u001b[1;33m,\u001b[0m\u001b[1;33m\u001b[0m\u001b[1;33m\u001b[0m\u001b[0m\n\u001b[1;32m--> 800\u001b[1;33m                                 restore_signals, start_new_session)\n\u001b[0m\u001b[0;32m    801\u001b[0m         \u001b[1;32mexcept\u001b[0m\u001b[1;33m:\u001b[0m\u001b[1;33m\u001b[0m\u001b[1;33m\u001b[0m\u001b[0m\n\u001b[0;32m    802\u001b[0m             \u001b[1;31m# Cleanup if the child failed starting.\u001b[0m\u001b[1;33m\u001b[0m\u001b[1;33m\u001b[0m\u001b[1;33m\u001b[0m\u001b[0m\n",
      "\u001b[1;32m~\\Anaconda3\\lib\\subprocess.py\u001b[0m in \u001b[0;36m_execute_child\u001b[1;34m(self, args, executable, preexec_fn, close_fds, pass_fds, cwd, env, startupinfo, creationflags, shell, p2cread, p2cwrite, c2pread, c2pwrite, errread, errwrite, unused_restore_signals, unused_start_new_session)\u001b[0m\n\u001b[0;32m   1205\u001b[0m                                          \u001b[0menv\u001b[0m\u001b[1;33m,\u001b[0m\u001b[1;33m\u001b[0m\u001b[1;33m\u001b[0m\u001b[0m\n\u001b[0;32m   1206\u001b[0m                                          \u001b[0mos\u001b[0m\u001b[1;33m.\u001b[0m\u001b[0mfspath\u001b[0m\u001b[1;33m(\u001b[0m\u001b[0mcwd\u001b[0m\u001b[1;33m)\u001b[0m \u001b[1;32mif\u001b[0m \u001b[0mcwd\u001b[0m \u001b[1;32mis\u001b[0m \u001b[1;32mnot\u001b[0m \u001b[1;32mNone\u001b[0m \u001b[1;32melse\u001b[0m \u001b[1;32mNone\u001b[0m\u001b[1;33m,\u001b[0m\u001b[1;33m\u001b[0m\u001b[1;33m\u001b[0m\u001b[0m\n\u001b[1;32m-> 1207\u001b[1;33m                                          startupinfo)\n\u001b[0m\u001b[0;32m   1208\u001b[0m             \u001b[1;32mfinally\u001b[0m\u001b[1;33m:\u001b[0m\u001b[1;33m\u001b[0m\u001b[1;33m\u001b[0m\u001b[0m\n\u001b[0;32m   1209\u001b[0m                 \u001b[1;31m# Child is launched. Close the parent's copy of those pipe\u001b[0m\u001b[1;33m\u001b[0m\u001b[1;33m\u001b[0m\u001b[1;33m\u001b[0m\u001b[0m\n",
      "\u001b[1;31mFileNotFoundError\u001b[0m: [WinError 2] The system cannot find the file specified"
     ]
    }
   ],
   "source": [
    "start = time.time()\n",
    "\n",
    "feat_aux = []\n",
    "for j in os.listdir(\"./Propios/ravdess_propios\"):\n",
    "    filename = \"./Propios/ravdess_propios/\" + j\n",
    "    print(\"./Propios/ravdess_propios/\" + j)\n",
    "\n",
    "    ch = sox.file_info.channels(filename)\n",
    "    print(f\"channel: {ch}\")\n",
    "    smile = opensmile.Smile(\n",
    "        feature_set=opensmile.FeatureSet.eGeMAPSv02,\n",
    "        feature_level=opensmile.FeatureLevel.Functionals,\n",
    "        num_channels=ch,\n",
    "    )\n",
    "\n",
    "    feats = smile.process_file(filename)\n",
    "    feats = feats.reset_index()\n",
    "    feat_aux.append(feats)\n",
    "\n",
    "end = time.time()\n",
    "print(f\"Tiempo: { round(end - start, 2) } segundos\")"
   ]
  },
  {
   "cell_type": "code",
   "execution_count": null,
   "metadata": {
    "colab": {
     "base_uri": "https://localhost:8080/"
    },
    "id": "Sd3g9CqVHkgh",
    "outputId": "0f01fee2-7d73-4afa-9536-faabaa5f23a5"
   },
   "outputs": [],
   "source": [
    "df_ravdess_propios.shape"
   ]
  },
  {
   "cell_type": "markdown",
   "metadata": {
    "id": "r5q5cWanHNIP"
   },
   "source": [
    "**Calculamos los atributos de alto nivel (Functionals)**"
   ]
  },
  {
   "cell_type": "code",
   "execution_count": null,
   "metadata": {
    "id": "XnhRy_ERN48j"
   },
   "outputs": [],
   "source": [
    "df_feats = pd.concat(feat_aux)\n",
    "df_feats = df_feats.rename(columns={\"file\": \"file_path\"})"
   ]
  },
  {
   "cell_type": "code",
   "execution_count": null,
   "metadata": {
    "colab": {
     "base_uri": "https://localhost:8080/",
     "height": 353
    },
    "id": "jVmYZlJfN6bS",
    "outputId": "0c0856ec-76b2-4f57-99c5-504b7a036d1d"
   },
   "outputs": [],
   "source": [
    "df_feats.head()"
   ]
  },
  {
   "cell_type": "code",
   "execution_count": null,
   "metadata": {
    "id": "V0BuM9-5OJ_I"
   },
   "outputs": [],
   "source": [
    "df_propios = pd.merge(df_ravdess_propios, df_feats, on=\"file_path\", how=\"left\")"
   ]
  },
  {
   "cell_type": "code",
   "execution_count": null,
   "metadata": {
    "colab": {
     "base_uri": "https://localhost:8080/"
    },
    "id": "O_P9RRzRR7gd",
    "outputId": "15d45e39-02b1-40b1-a4e5-d4b65d4c9593",
    "scrolled": true
   },
   "outputs": [],
   "source": [
    "num_columns = [col for col in df_propios.columns if df_propios[col].dtype != \"object\"]\n",
    "num_columns"
   ]
  },
  {
   "cell_type": "code",
   "execution_count": null,
   "metadata": {
    "colab": {
     "base_uri": "https://localhost:8080/"
    },
    "id": "2dQkYj90ORdU",
    "outputId": "e59c5bc7-760a-46c4-f78b-7b4205d6f2d9",
    "scrolled": true
   },
   "outputs": [],
   "source": [
    "df_propios.shape"
   ]
  },
  {
   "cell_type": "code",
   "execution_count": 3,
   "metadata": {
    "id": "kadlV4d7R0JU"
   },
   "outputs": [],
   "source": [
    "drop_columns = [\n",
    "    \"file_path\",\n",
    "    \"start\",\n",
    "    \"end\",\n",
    "    #     \"Unnamed: 0\",\n",
    "    #     'Unnamed: 0.1',\n",
    "    \"modality\",  # 03 = audio-only\n",
    "    \"vocal_channel\",  # (01 = speech, 02 = song).\n",
    "    #     \"emotion\",\n",
    "    \"emotional_intensity\",  # (01 = normal, 02 = strong)\n",
    "    \"statement\",  # (01 = \"Kids are talking by the door\", 02 = \"Dogs are sitting by the door\").\n",
    "    \"repetition\",  # (01 = 1st repetition, 02 = 2nd repetition).\n",
    "    \"actor\",  # (01 to 24. Odd numbered actors are male, even numbered actors are female).\n",
    "]"
   ]
  },
  {
   "cell_type": "code",
   "execution_count": 4,
   "metadata": {
    "id": "VbZiwy6bQev4"
   },
   "outputs": [
    {
     "ename": "NameError",
     "evalue": "name 'df_propios' is not defined",
     "output_type": "error",
     "traceback": [
      "\u001b[1;31m---------------------------------------------------------------------------\u001b[0m",
      "\u001b[1;31mNameError\u001b[0m                                 Traceback (most recent call last)",
      "\u001b[1;32m<ipython-input-4-76b4d30a3c50>\u001b[0m in \u001b[0;36m<module>\u001b[1;34m\u001b[0m\n\u001b[1;32m----> 1\u001b[1;33m \u001b[0mdf_propios\u001b[0m \u001b[1;33m=\u001b[0m \u001b[0mdf_propios\u001b[0m\u001b[1;33m.\u001b[0m\u001b[0mdrop\u001b[0m\u001b[1;33m(\u001b[0m\u001b[0mdrop_columns\u001b[0m\u001b[1;33m,\u001b[0m \u001b[0maxis\u001b[0m\u001b[1;33m=\u001b[0m\u001b[1;36m1\u001b[0m\u001b[1;33m)\u001b[0m\u001b[1;33m\u001b[0m\u001b[1;33m\u001b[0m\u001b[0m\n\u001b[0m\u001b[0;32m      2\u001b[0m \u001b[1;31m# df_propios.to_csv('05.01.df_propios.csv')\u001b[0m\u001b[1;33m\u001b[0m\u001b[1;33m\u001b[0m\u001b[1;33m\u001b[0m\u001b[0m\n",
      "\u001b[1;31mNameError\u001b[0m: name 'df_propios' is not defined"
     ]
    }
   ],
   "source": [
    "df_propios = df_propios.drop(drop_columns, axis=1)\n",
    "# df_propios.to_csv('05.01.df_propios.csv')"
   ]
  },
  {
   "cell_type": "code",
   "execution_count": 5,
   "metadata": {
    "id": "MpLlEEC8WGLU"
   },
   "outputs": [],
   "source": [
    "df_propios = pd.read_csv(\"05.01.df_propios.csv\")"
   ]
  },
  {
   "cell_type": "code",
   "execution_count": 6,
   "metadata": {
    "scrolled": true
   },
   "outputs": [
    {
     "data": {
      "text/plain": [
       "<BarContainer object of 7 artists>"
      ]
     },
     "execution_count": 6,
     "metadata": {},
     "output_type": "execute_result"
    },
    {
     "data": {
      "image/png": "[encoded data removed]",
      "text/plain": [
       "<Figure size 432x288 with 1 Axes>"
      ]
     },
     "metadata": {
      "needs_background": "light"
     },
     "output_type": "display_data"
    }
   ],
   "source": [
    "plt.bar(\n",
    "    df_propios.groupby([\"emotion\"]).loudness_sma3_amean.count().index,\n",
    "    df_propios.groupby([\"emotion\"]).loudness_sma3_amean.count(),\n",
    ")"
   ]
  },
  {
   "cell_type": "code",
   "execution_count": 7,
   "metadata": {
    "id": "UxG99vy1VeUc"
   },
   "outputs": [],
   "source": [
    "x_propios = df_propios.loc[:, df_propios.columns != \"emotion\"]"
   ]
  },
  {
   "cell_type": "code",
   "execution_count": 8,
   "metadata": {
    "id": "fHgFmx1oVSv4"
   },
   "outputs": [],
   "source": [
    "y_propios = np.int64(df_propios[\"emotion\"])"
   ]
  },
  {
   "cell_type": "code",
   "execution_count": 9,
   "metadata": {
    "id": "HmAqBJYlZHWy"
   },
   "outputs": [],
   "source": [
    "drop_columns = [\n",
    "    \"file_path\",\n",
    "    \"start\",\n",
    "    \"end\",\n",
    "    \"Unnamed: 0\",\n",
    "    \"Unnamed: 0.1\",\n",
    "    \"modality\",  # 03 = audio-only\n",
    "    \"vocal_channel\",  # (01 = speech, 02 = song).\n",
    "    #     \"emotion\",\n",
    "    \"emotional_intensity\",  # (01 = normal, 02 = strong)\n",
    "    \"statement\",  # (01 = \"Kids are talking by the door\", 02 = \"Dogs are sitting by the door\").\n",
    "    \"repetition\",  # (01 = 1st repetition, 02 = 2nd repetition).\n",
    "    \"actor\",  # (01 to 24. Odd numbered actors are male, even numbered actors are female).\n",
    "]"
   ]
  },
  {
   "cell_type": "code",
   "execution_count": 10,
   "metadata": {},
   "outputs": [],
   "source": [
    "df_propios = df_propios.drop([\"Unnamed: 0\"], axis=1)"
   ]
  },
  {
   "cell_type": "code",
   "execution_count": 11,
   "metadata": {},
   "outputs": [],
   "source": [
    "PARAM_RANDOM_STATE = 42"
   ]
  },
  {
   "cell_type": "markdown",
   "metadata": {
    "id": "r53f5jdAVhhY"
   },
   "source": [
    "## Dataset original"
   ]
  },
  {
   "cell_type": "code",
   "execution_count": 12,
   "metadata": {},
   "outputs": [],
   "source": [
    "df_original = pd.read_csv(\"01.df.procesado.csv\")"
   ]
  },
  {
   "cell_type": "code",
   "execution_count": 14,
   "metadata": {},
   "outputs": [],
   "source": [
    "drop_columns = [\n",
    "    \"file_path\",\n",
    "    \"start\",\n",
    "    \"end\",\n",
    "    \"Unnamed: 0\",\n",
    "    #     'Unnamed: 0.1',\n",
    "    \"modality\",  # 03 = audio-only\n",
    "    \"vocal_channel\",  # (01 = speech, 02 = song).\n",
    "    #     \"emotion\",\n",
    "    \"emotional_intensity\",  # (01 = normal, 02 = strong)\n",
    "    \"statement\",  # (01 = \"Kids are talking by the door\", 02 = \"Dogs are sitting by the door\").\n",
    "    \"repetition\",  # (01 = 1st repetition, 02 = 2nd repetition).\n",
    "    \"actor\", #(01 to 24. Odd numbered actors are male, even numbered actors are female).\n",
    "]"
   ]
  },
  {
   "cell_type": "code",
   "execution_count": 16,
   "metadata": {},
   "outputs": [],
   "source": [
    "df_original = df_original.drop(drop_columns, axis=1)"
   ]
  },
  {
   "cell_type": "code",
   "execution_count": 17,
   "metadata": {
    "scrolled": false
   },
   "outputs": [
    {
     "data": {
      "text/html": [
       "<div>\n",
       "<style scoped>\n",
       "    .dataframe tbody tr th:only-of-type {\n",
       "        vertical-align: middle;\n",
       "    }\n",
       "\n",
       "    .dataframe tbody tr th {\n",
       "        vertical-align: top;\n",
       "    }\n",
       "\n",
       "    .dataframe thead th {\n",
       "        text-align: right;\n",
       "    }\n",
       "</style>\n",
       "<table border=\"1\" class=\"dataframe\">\n",
       "  <thead>\n",
       "    <tr style=\"text-align: right;\">\n",
       "      <th></th>\n",
       "      <th>emotion</th>\n",
       "      <th>F0semitoneFrom27.5Hz_sma3nz_amean</th>\n",
       "      <th>F0semitoneFrom27.5Hz_sma3nz_stddevNorm</th>\n",
       "      <th>F0semitoneFrom27.5Hz_sma3nz_percentile20.0</th>\n",
       "      <th>F0semitoneFrom27.5Hz_sma3nz_percentile50.0</th>\n",
       "      <th>F0semitoneFrom27.5Hz_sma3nz_percentile80.0</th>\n",
       "      <th>F0semitoneFrom27.5Hz_sma3nz_pctlrange0-2</th>\n",
       "      <th>F0semitoneFrom27.5Hz_sma3nz_meanRisingSlope</th>\n",
       "      <th>F0semitoneFrom27.5Hz_sma3nz_stddevRisingSlope</th>\n",
       "      <th>F0semitoneFrom27.5Hz_sma3nz_meanFallingSlope</th>\n",
       "      <th>...</th>\n",
       "      <th>slopeUV0-500_sma3nz_amean</th>\n",
       "      <th>slopeUV500-1500_sma3nz_amean</th>\n",
       "      <th>spectralFluxUV_sma3nz_amean</th>\n",
       "      <th>loudnessPeaksPerSec</th>\n",
       "      <th>VoicedSegmentsPerSec</th>\n",
       "      <th>MeanVoicedSegmentLengthSec</th>\n",
       "      <th>StddevVoicedSegmentLengthSec</th>\n",
       "      <th>MeanUnvoicedSegmentLength</th>\n",
       "      <th>StddevUnvoicedSegmentLength</th>\n",
       "      <th>equivalentSoundLevel_dBp</th>\n",
       "    </tr>\n",
       "  </thead>\n",
       "  <tbody>\n",
       "    <tr>\n",
       "      <th>0</th>\n",
       "      <td>7</td>\n",
       "      <td>31.162280</td>\n",
       "      <td>0.103659</td>\n",
       "      <td>28.436132</td>\n",
       "      <td>31.203695</td>\n",
       "      <td>34.530006</td>\n",
       "      <td>6.093874</td>\n",
       "      <td>71.695320</td>\n",
       "      <td>42.723774</td>\n",
       "      <td>66.826570</td>\n",
       "      <td>...</td>\n",
       "      <td>0.075190</td>\n",
       "      <td>0.014015</td>\n",
       "      <td>0.022255</td>\n",
       "      <td>2.150538</td>\n",
       "      <td>1.089918</td>\n",
       "      <td>0.282500</td>\n",
       "      <td>0.126763</td>\n",
       "      <td>0.490000</td>\n",
       "      <td>0.397291</td>\n",
       "      <td>-36.658245</td>\n",
       "    </tr>\n",
       "    <tr>\n",
       "      <th>1</th>\n",
       "      <td>3</td>\n",
       "      <td>32.832066</td>\n",
       "      <td>0.058510</td>\n",
       "      <td>31.873330</td>\n",
       "      <td>32.315525</td>\n",
       "      <td>34.425636</td>\n",
       "      <td>2.552307</td>\n",
       "      <td>74.677790</td>\n",
       "      <td>91.683740</td>\n",
       "      <td>26.730692</td>\n",
       "      <td>...</td>\n",
       "      <td>0.020998</td>\n",
       "      <td>0.009869</td>\n",
       "      <td>0.018871</td>\n",
       "      <td>1.492537</td>\n",
       "      <td>0.646552</td>\n",
       "      <td>0.820000</td>\n",
       "      <td>0.277248</td>\n",
       "      <td>0.527500</td>\n",
       "      <td>0.438770</td>\n",
       "      <td>-29.391884</td>\n",
       "    </tr>\n",
       "    <tr>\n",
       "      <th>2</th>\n",
       "      <td>4</td>\n",
       "      <td>27.816698</td>\n",
       "      <td>0.067164</td>\n",
       "      <td>26.149890</td>\n",
       "      <td>27.284214</td>\n",
       "      <td>29.173655</td>\n",
       "      <td>3.023764</td>\n",
       "      <td>62.032460</td>\n",
       "      <td>63.740650</td>\n",
       "      <td>15.968684</td>\n",
       "      <td>...</td>\n",
       "      <td>0.047365</td>\n",
       "      <td>0.011048</td>\n",
       "      <td>0.011381</td>\n",
       "      <td>2.247191</td>\n",
       "      <td>0.569801</td>\n",
       "      <td>0.590000</td>\n",
       "      <td>0.160000</td>\n",
       "      <td>0.760000</td>\n",
       "      <td>0.296985</td>\n",
       "      <td>-43.332924</td>\n",
       "    </tr>\n",
       "    <tr>\n",
       "      <th>3</th>\n",
       "      <td>4</td>\n",
       "      <td>32.421530</td>\n",
       "      <td>0.047639</td>\n",
       "      <td>31.190117</td>\n",
       "      <td>31.982471</td>\n",
       "      <td>34.491623</td>\n",
       "      <td>3.301506</td>\n",
       "      <td>40.428272</td>\n",
       "      <td>57.734535</td>\n",
       "      <td>13.244412</td>\n",
       "      <td>...</td>\n",
       "      <td>0.041743</td>\n",
       "      <td>0.012340</td>\n",
       "      <td>0.007390</td>\n",
       "      <td>1.394422</td>\n",
       "      <td>0.603622</td>\n",
       "      <td>0.930000</td>\n",
       "      <td>0.885701</td>\n",
       "      <td>0.527500</td>\n",
       "      <td>0.420260</td>\n",
       "      <td>-37.549572</td>\n",
       "    </tr>\n",
       "    <tr>\n",
       "      <th>4</th>\n",
       "      <td>2</td>\n",
       "      <td>27.446953</td>\n",
       "      <td>0.111269</td>\n",
       "      <td>24.586010</td>\n",
       "      <td>26.893717</td>\n",
       "      <td>29.436794</td>\n",
       "      <td>4.850784</td>\n",
       "      <td>44.066093</td>\n",
       "      <td>39.952390</td>\n",
       "      <td>21.916230</td>\n",
       "      <td>...</td>\n",
       "      <td>0.053580</td>\n",
       "      <td>0.011590</td>\n",
       "      <td>0.005245</td>\n",
       "      <td>1.535088</td>\n",
       "      <td>0.886918</td>\n",
       "      <td>0.387500</td>\n",
       "      <td>0.206079</td>\n",
       "      <td>0.574000</td>\n",
       "      <td>0.424999</td>\n",
       "      <td>-43.261425</td>\n",
       "    </tr>\n",
       "    <tr>\n",
       "      <th>...</th>\n",
       "      <td>...</td>\n",
       "      <td>...</td>\n",
       "      <td>...</td>\n",
       "      <td>...</td>\n",
       "      <td>...</td>\n",
       "      <td>...</td>\n",
       "      <td>...</td>\n",
       "      <td>...</td>\n",
       "      <td>...</td>\n",
       "      <td>...</td>\n",
       "      <td>...</td>\n",
       "      <td>...</td>\n",
       "      <td>...</td>\n",
       "      <td>...</td>\n",
       "      <td>...</td>\n",
       "      <td>...</td>\n",
       "      <td>...</td>\n",
       "      <td>...</td>\n",
       "      <td>...</td>\n",
       "      <td>...</td>\n",
       "      <td>...</td>\n",
       "    </tr>\n",
       "    <tr>\n",
       "      <th>2447</th>\n",
       "      <td>2</td>\n",
       "      <td>44.724255</td>\n",
       "      <td>0.055627</td>\n",
       "      <td>43.542274</td>\n",
       "      <td>44.176483</td>\n",
       "      <td>47.529156</td>\n",
       "      <td>3.986881</td>\n",
       "      <td>23.181704</td>\n",
       "      <td>18.640396</td>\n",
       "      <td>15.596910</td>\n",
       "      <td>...</td>\n",
       "      <td>0.098631</td>\n",
       "      <td>0.014208</td>\n",
       "      <td>0.011939</td>\n",
       "      <td>1.257862</td>\n",
       "      <td>0.633914</td>\n",
       "      <td>1.045000</td>\n",
       "      <td>1.346189</td>\n",
       "      <td>0.408000</td>\n",
       "      <td>0.423386</td>\n",
       "      <td>-33.219906</td>\n",
       "    </tr>\n",
       "    <tr>\n",
       "      <th>2448</th>\n",
       "      <td>1</td>\n",
       "      <td>44.418040</td>\n",
       "      <td>0.024290</td>\n",
       "      <td>43.707050</td>\n",
       "      <td>44.154526</td>\n",
       "      <td>45.815815</td>\n",
       "      <td>2.108765</td>\n",
       "      <td>15.689703</td>\n",
       "      <td>13.250390</td>\n",
       "      <td>13.949742</td>\n",
       "      <td>...</td>\n",
       "      <td>0.063631</td>\n",
       "      <td>0.011066</td>\n",
       "      <td>0.007059</td>\n",
       "      <td>1.890756</td>\n",
       "      <td>0.636943</td>\n",
       "      <td>0.863333</td>\n",
       "      <td>0.839259</td>\n",
       "      <td>0.512500</td>\n",
       "      <td>0.468955</td>\n",
       "      <td>-33.061134</td>\n",
       "    </tr>\n",
       "    <tr>\n",
       "      <th>2449</th>\n",
       "      <td>6</td>\n",
       "      <td>43.976646</td>\n",
       "      <td>0.041726</td>\n",
       "      <td>42.377773</td>\n",
       "      <td>43.613705</td>\n",
       "      <td>45.572548</td>\n",
       "      <td>3.194775</td>\n",
       "      <td>143.827970</td>\n",
       "      <td>199.705580</td>\n",
       "      <td>38.838680</td>\n",
       "      <td>...</td>\n",
       "      <td>0.061096</td>\n",
       "      <td>0.006023</td>\n",
       "      <td>0.019152</td>\n",
       "      <td>2.228412</td>\n",
       "      <td>0.847458</td>\n",
       "      <td>0.490000</td>\n",
       "      <td>0.074833</td>\n",
       "      <td>0.663333</td>\n",
       "      <td>0.407458</td>\n",
       "      <td>-29.857113</td>\n",
       "    </tr>\n",
       "    <tr>\n",
       "      <th>2450</th>\n",
       "      <td>2</td>\n",
       "      <td>44.940365</td>\n",
       "      <td>0.041737</td>\n",
       "      <td>43.666428</td>\n",
       "      <td>44.095394</td>\n",
       "      <td>47.886055</td>\n",
       "      <td>4.219627</td>\n",
       "      <td>10.682227</td>\n",
       "      <td>5.287782</td>\n",
       "      <td>6.613421</td>\n",
       "      <td>...</td>\n",
       "      <td>0.076382</td>\n",
       "      <td>0.012524</td>\n",
       "      <td>0.007605</td>\n",
       "      <td>2.079395</td>\n",
       "      <td>0.763359</td>\n",
       "      <td>0.762500</td>\n",
       "      <td>0.600432</td>\n",
       "      <td>0.522500</td>\n",
       "      <td>0.453672</td>\n",
       "      <td>-35.297977</td>\n",
       "    </tr>\n",
       "    <tr>\n",
       "      <th>2451</th>\n",
       "      <td>4</td>\n",
       "      <td>34.550385</td>\n",
       "      <td>0.065362</td>\n",
       "      <td>32.651540</td>\n",
       "      <td>33.670290</td>\n",
       "      <td>36.523140</td>\n",
       "      <td>3.871601</td>\n",
       "      <td>119.747910</td>\n",
       "      <td>89.763600</td>\n",
       "      <td>20.576452</td>\n",
       "      <td>...</td>\n",
       "      <td>0.061844</td>\n",
       "      <td>0.008044</td>\n",
       "      <td>0.008713</td>\n",
       "      <td>2.168022</td>\n",
       "      <td>1.373627</td>\n",
       "      <td>0.272000</td>\n",
       "      <td>0.198232</td>\n",
       "      <td>0.361667</td>\n",
       "      <td>0.452969</td>\n",
       "      <td>-45.019146</td>\n",
       "    </tr>\n",
       "  </tbody>\n",
       "</table>\n",
       "<p>2452 rows × 89 columns</p>\n",
       "</div>"
      ],
      "text/plain": [
       "      emotion  F0semitoneFrom27.5Hz_sma3nz_amean  \\\n",
       "0           7                          31.162280   \n",
       "1           3                          32.832066   \n",
       "2           4                          27.816698   \n",
       "3           4                          32.421530   \n",
       "4           2                          27.446953   \n",
       "...       ...                                ...   \n",
       "2447        2                          44.724255   \n",
       "2448        1                          44.418040   \n",
       "2449        6                          43.976646   \n",
       "2450        2                          44.940365   \n",
       "2451        4                          34.550385   \n",
       "\n",
       "      F0semitoneFrom27.5Hz_sma3nz_stddevNorm  \\\n",
       "0                                   0.103659   \n",
       "1                                   0.058510   \n",
       "2                                   0.067164   \n",
       "3                                   0.047639   \n",
       "4                                   0.111269   \n",
       "...                                      ...   \n",
       "2447                                0.055627   \n",
       "2448                                0.024290   \n",
       "2449                                0.041726   \n",
       "2450                                0.041737   \n",
       "2451                                0.065362   \n",
       "\n",
       "      F0semitoneFrom27.5Hz_sma3nz_percentile20.0  \\\n",
       "0                                      28.436132   \n",
       "1                                      31.873330   \n",
       "2                                      26.149890   \n",
       "3                                      31.190117   \n",
       "4                                      24.586010   \n",
       "...                                          ...   \n",
       "2447                                   43.542274   \n",
       "2448                                   43.707050   \n",
       "2449                                   42.377773   \n",
       "2450                                   43.666428   \n",
       "2451                                   32.651540   \n",
       "\n",
       "      F0semitoneFrom27.5Hz_sma3nz_percentile50.0  \\\n",
       "0                                      31.203695   \n",
       "1                                      32.315525   \n",
       "2                                      27.284214   \n",
       "3                                      31.982471   \n",
       "4                                      26.893717   \n",
       "...                                          ...   \n",
       "2447                                   44.176483   \n",
       "2448                                   44.154526   \n",
       "2449                                   43.613705   \n",
       "2450                                   44.095394   \n",
       "2451                                   33.670290   \n",
       "\n",
       "      F0semitoneFrom27.5Hz_sma3nz_percentile80.0  \\\n",
       "0                                      34.530006   \n",
       "1                                      34.425636   \n",
       "2                                      29.173655   \n",
       "3                                      34.491623   \n",
       "4                                      29.436794   \n",
       "...                                          ...   \n",
       "2447                                   47.529156   \n",
       "2448                                   45.815815   \n",
       "2449                                   45.572548   \n",
       "2450                                   47.886055   \n",
       "2451                                   36.523140   \n",
       "\n",
       "      F0semitoneFrom27.5Hz_sma3nz_pctlrange0-2  \\\n",
       "0                                     6.093874   \n",
       "1                                     2.552307   \n",
       "2                                     3.023764   \n",
       "3                                     3.301506   \n",
       "4                                     4.850784   \n",
       "...                                        ...   \n",
       "2447                                  3.986881   \n",
       "2448                                  2.108765   \n",
       "2449                                  3.194775   \n",
       "2450                                  4.219627   \n",
       "2451                                  3.871601   \n",
       "\n",
       "      F0semitoneFrom27.5Hz_sma3nz_meanRisingSlope  \\\n",
       "0                                       71.695320   \n",
       "1                                       74.677790   \n",
       "2                                       62.032460   \n",
       "3                                       40.428272   \n",
       "4                                       44.066093   \n",
       "...                                           ...   \n",
       "2447                                    23.181704   \n",
       "2448                                    15.689703   \n",
       "2449                                   143.827970   \n",
       "2450                                    10.682227   \n",
       "2451                                   119.747910   \n",
       "\n",
       "      F0semitoneFrom27.5Hz_sma3nz_stddevRisingSlope  \\\n",
       "0                                         42.723774   \n",
       "1                                         91.683740   \n",
       "2                                         63.740650   \n",
       "3                                         57.734535   \n",
       "4                                         39.952390   \n",
       "...                                             ...   \n",
       "2447                                      18.640396   \n",
       "2448                                      13.250390   \n",
       "2449                                     199.705580   \n",
       "2450                                       5.287782   \n",
       "2451                                      89.763600   \n",
       "\n",
       "      F0semitoneFrom27.5Hz_sma3nz_meanFallingSlope  ...  \\\n",
       "0                                        66.826570  ...   \n",
       "1                                        26.730692  ...   \n",
       "2                                        15.968684  ...   \n",
       "3                                        13.244412  ...   \n",
       "4                                        21.916230  ...   \n",
       "...                                            ...  ...   \n",
       "2447                                     15.596910  ...   \n",
       "2448                                     13.949742  ...   \n",
       "2449                                     38.838680  ...   \n",
       "2450                                      6.613421  ...   \n",
       "2451                                     20.576452  ...   \n",
       "\n",
       "      slopeUV0-500_sma3nz_amean  slopeUV500-1500_sma3nz_amean  \\\n",
       "0                      0.075190                      0.014015   \n",
       "1                      0.020998                      0.009869   \n",
       "2                      0.047365                      0.011048   \n",
       "3                      0.041743                      0.012340   \n",
       "4                      0.053580                      0.011590   \n",
       "...                         ...                           ...   \n",
       "2447                   0.098631                      0.014208   \n",
       "2448                   0.063631                      0.011066   \n",
       "2449                   0.061096                      0.006023   \n",
       "2450                   0.076382                      0.012524   \n",
       "2451                   0.061844                      0.008044   \n",
       "\n",
       "      spectralFluxUV_sma3nz_amean  loudnessPeaksPerSec  VoicedSegmentsPerSec  \\\n",
       "0                        0.022255             2.150538              1.089918   \n",
       "1                        0.018871             1.492537              0.646552   \n",
       "2                        0.011381             2.247191              0.569801   \n",
       "3                        0.007390             1.394422              0.603622   \n",
       "4                        0.005245             1.535088              0.886918   \n",
       "...                           ...                  ...                   ...   \n",
       "2447                     0.011939             1.257862              0.633914   \n",
       "2448                     0.007059             1.890756              0.636943   \n",
       "2449                     0.019152             2.228412              0.847458   \n",
       "2450                     0.007605             2.079395              0.763359   \n",
       "2451                     0.008713             2.168022              1.373627   \n",
       "\n",
       "      MeanVoicedSegmentLengthSec  StddevVoicedSegmentLengthSec  \\\n",
       "0                       0.282500                      0.126763   \n",
       "1                       0.820000                      0.277248   \n",
       "2                       0.590000                      0.160000   \n",
       "3                       0.930000                      0.885701   \n",
       "4                       0.387500                      0.206079   \n",
       "...                          ...                           ...   \n",
       "2447                    1.045000                      1.346189   \n",
       "2448                    0.863333                      0.839259   \n",
       "2449                    0.490000                      0.074833   \n",
       "2450                    0.762500                      0.600432   \n",
       "2451                    0.272000                      0.198232   \n",
       "\n",
       "      MeanUnvoicedSegmentLength  StddevUnvoicedSegmentLength  \\\n",
       "0                      0.490000                     0.397291   \n",
       "1                      0.527500                     0.438770   \n",
       "2                      0.760000                     0.296985   \n",
       "3                      0.527500                     0.420260   \n",
       "4                      0.574000                     0.424999   \n",
       "...                         ...                          ...   \n",
       "2447                   0.408000                     0.423386   \n",
       "2448                   0.512500                     0.468955   \n",
       "2449                   0.663333                     0.407458   \n",
       "2450                   0.522500                     0.453672   \n",
       "2451                   0.361667                     0.452969   \n",
       "\n",
       "      equivalentSoundLevel_dBp  \n",
       "0                   -36.658245  \n",
       "1                   -29.391884  \n",
       "2                   -43.332924  \n",
       "3                   -37.549572  \n",
       "4                   -43.261425  \n",
       "...                        ...  \n",
       "2447                -33.219906  \n",
       "2448                -33.061134  \n",
       "2449                -29.857113  \n",
       "2450                -35.297977  \n",
       "2451                -45.019146  \n",
       "\n",
       "[2452 rows x 89 columns]"
      ]
     },
     "execution_count": 17,
     "metadata": {},
     "output_type": "execute_result"
    }
   ],
   "source": [
    "df_original"
   ]
  },
  {
   "cell_type": "code",
   "execution_count": 18,
   "metadata": {
    "scrolled": false
   },
   "outputs": [
    {
     "data": {
      "text/plain": [
       "<BarContainer object of 8 artists>"
      ]
     },
     "execution_count": 18,
     "metadata": {},
     "output_type": "execute_result"
    },
    {
     "data": {
      "image/png": "[encoded data removed]",
      "text/plain": [
       "<Figure size 432x288 with 1 Axes>"
      ]
     },
     "metadata": {
      "needs_background": "light"
     },
     "output_type": "display_data"
    }
   ],
   "source": [
    "plt.bar(\n",
    "    df_original.groupby([\"emotion\"]).loudness_sma3_amean.count().index,\n",
    "    df_original.groupby([\"emotion\"]).loudness_sma3_amean.count(),\n",
    ")"
   ]
  },
  {
   "cell_type": "markdown",
   "metadata": {},
   "source": [
    "## Grupos para leave one group out"
   ]
  },
  {
   "cell_type": "code",
   "execution_count": 19,
   "metadata": {},
   "outputs": [],
   "source": [
    "# logo = LeaveOneGroupOut()"
   ]
  },
  {
   "cell_type": "code",
   "execution_count": 20,
   "metadata": {},
   "outputs": [],
   "source": [
    "# groups = (df_.actor // 2) + (df_propios.actor % 2)"
   ]
  },
  {
   "cell_type": "code",
   "execution_count": 21,
   "metadata": {},
   "outputs": [],
   "source": [
    "# sorted(groups.unique())\n",
    "# groups.value_counts()"
   ]
  },
  {
   "cell_type": "code",
   "execution_count": 22,
   "metadata": {
    "scrolled": false
   },
   "outputs": [],
   "source": [
    "# groups.sort_values().plot(kind=\"bar\")"
   ]
  },
  {
   "cell_type": "code",
   "execution_count": 23,
   "metadata": {},
   "outputs": [],
   "source": [
    "# X_train = df_proc.loc[groups <= 10, df_proc.columns != \"emotion\"]\n",
    "# X_val = df_proc.loc[groups == 11, df_proc.columns != \"emotion\"]\n",
    "# X_train_val = df_proc.loc[groups <= 11, df_proc.columns != \"emotion\"]\n",
    "# X_test = df_proc.loc[groups == 12, df_proc.columns != \"emotion\"]\n",
    "\n",
    "# y_train = df_proc.loc[groups <= 10, \"emotion\"]\n",
    "# y_val = df_proc.loc[groups == 11, \"emotion\"]\n",
    "# y_train_val = df_proc.loc[groups <= 11, \"emotion\"]\n",
    "# y_test = df_proc.loc[groups == 12, \"emotion\"]\n",
    "\n",
    "# group_train = [x for x in groups if x <= 10]\n",
    "# group_val = [x for x in groups if x == 11]\n",
    "# group_train_val = [x for x in groups if x <= 11]\n",
    "# group_test = [x for x in groups if x == 12]"
   ]
  },
  {
   "cell_type": "markdown",
   "metadata": {
    "id": "WSEB-70qTnHq"
   },
   "source": [
    "# Entrenando el mejor modelo (RF)"
   ]
  },
  {
   "cell_type": "markdown",
   "metadata": {
    "id": "9gOVZCDoq1Dq"
   },
   "source": [
    "Al comparar las performance del bagging , el AdaBoost y el Random Forest se obtuvo un mejor desempeño por parte del RF con los siguientes hiperparámetros:"
   ]
  },
  {
   "cell_type": "code",
   "execution_count": 24,
   "metadata": {},
   "outputs": [
    {
     "data": {
      "text/plain": [
       "(42, 89)"
      ]
     },
     "execution_count": 24,
     "metadata": {},
     "output_type": "execute_result"
    }
   ],
   "source": [
    "df_propios.shape"
   ]
  },
  {
   "cell_type": "code",
   "execution_count": 25,
   "metadata": {},
   "outputs": [
    {
     "data": {
      "text/html": [
       "<div>\n",
       "<style scoped>\n",
       "    .dataframe tbody tr th:only-of-type {\n",
       "        vertical-align: middle;\n",
       "    }\n",
       "\n",
       "    .dataframe tbody tr th {\n",
       "        vertical-align: top;\n",
       "    }\n",
       "\n",
       "    .dataframe thead th {\n",
       "        text-align: right;\n",
       "    }\n",
       "</style>\n",
       "<table border=\"1\" class=\"dataframe\">\n",
       "  <thead>\n",
       "    <tr style=\"text-align: right;\">\n",
       "      <th></th>\n",
       "      <th>emotion</th>\n",
       "      <th>F0semitoneFrom27.5Hz_sma3nz_amean</th>\n",
       "      <th>F0semitoneFrom27.5Hz_sma3nz_stddevNorm</th>\n",
       "      <th>F0semitoneFrom27.5Hz_sma3nz_percentile20.0</th>\n",
       "      <th>F0semitoneFrom27.5Hz_sma3nz_percentile50.0</th>\n",
       "      <th>F0semitoneFrom27.5Hz_sma3nz_percentile80.0</th>\n",
       "      <th>F0semitoneFrom27.5Hz_sma3nz_pctlrange0-2</th>\n",
       "      <th>F0semitoneFrom27.5Hz_sma3nz_meanRisingSlope</th>\n",
       "      <th>F0semitoneFrom27.5Hz_sma3nz_stddevRisingSlope</th>\n",
       "      <th>F0semitoneFrom27.5Hz_sma3nz_meanFallingSlope</th>\n",
       "      <th>...</th>\n",
       "      <th>slopeUV0-500_sma3nz_amean</th>\n",
       "      <th>slopeUV500-1500_sma3nz_amean</th>\n",
       "      <th>spectralFluxUV_sma3nz_amean</th>\n",
       "      <th>loudnessPeaksPerSec</th>\n",
       "      <th>VoicedSegmentsPerSec</th>\n",
       "      <th>MeanVoicedSegmentLengthSec</th>\n",
       "      <th>StddevVoicedSegmentLengthSec</th>\n",
       "      <th>MeanUnvoicedSegmentLength</th>\n",
       "      <th>StddevUnvoicedSegmentLength</th>\n",
       "      <th>equivalentSoundLevel_dBp</th>\n",
       "    </tr>\n",
       "  </thead>\n",
       "  <tbody>\n",
       "    <tr>\n",
       "      <th>0</th>\n",
       "      <td>8</td>\n",
       "      <td>33.700836</td>\n",
       "      <td>0.151614</td>\n",
       "      <td>30.896828</td>\n",
       "      <td>35.477130</td>\n",
       "      <td>37.888770</td>\n",
       "      <td>6.991943</td>\n",
       "      <td>79.057495</td>\n",
       "      <td>34.982346</td>\n",
       "      <td>49.753742</td>\n",
       "      <td>...</td>\n",
       "      <td>0.006385</td>\n",
       "      <td>-0.002518</td>\n",
       "      <td>0.105235</td>\n",
       "      <td>3.582090</td>\n",
       "      <td>1.212121</td>\n",
       "      <td>0.595000</td>\n",
       "      <td>0.495404</td>\n",
       "      <td>0.166000</td>\n",
       "      <td>0.204020</td>\n",
       "      <td>-15.474176</td>\n",
       "    </tr>\n",
       "    <tr>\n",
       "      <th>1</th>\n",
       "      <td>5</td>\n",
       "      <td>39.358730</td>\n",
       "      <td>0.271838</td>\n",
       "      <td>36.973915</td>\n",
       "      <td>43.282550</td>\n",
       "      <td>46.085873</td>\n",
       "      <td>9.111958</td>\n",
       "      <td>97.191170</td>\n",
       "      <td>119.932250</td>\n",
       "      <td>105.989296</td>\n",
       "      <td>...</td>\n",
       "      <td>0.019754</td>\n",
       "      <td>0.010666</td>\n",
       "      <td>0.077570</td>\n",
       "      <td>3.084833</td>\n",
       "      <td>1.822917</td>\n",
       "      <td>0.347143</td>\n",
       "      <td>0.470371</td>\n",
       "      <td>0.178571</td>\n",
       "      <td>0.218137</td>\n",
       "      <td>-18.720428</td>\n",
       "    </tr>\n",
       "    <tr>\n",
       "      <th>2</th>\n",
       "      <td>3</td>\n",
       "      <td>42.000824</td>\n",
       "      <td>0.080393</td>\n",
       "      <td>39.967102</td>\n",
       "      <td>42.566326</td>\n",
       "      <td>44.228740</td>\n",
       "      <td>4.261639</td>\n",
       "      <td>61.089214</td>\n",
       "      <td>53.859688</td>\n",
       "      <td>20.160406</td>\n",
       "      <td>...</td>\n",
       "      <td>0.009773</td>\n",
       "      <td>0.010525</td>\n",
       "      <td>0.207873</td>\n",
       "      <td>3.603604</td>\n",
       "      <td>1.829268</td>\n",
       "      <td>0.363333</td>\n",
       "      <td>0.240463</td>\n",
       "      <td>0.194000</td>\n",
       "      <td>0.309102</td>\n",
       "      <td>-15.210293</td>\n",
       "    </tr>\n",
       "    <tr>\n",
       "      <th>3</th>\n",
       "      <td>5</td>\n",
       "      <td>43.330635</td>\n",
       "      <td>0.144818</td>\n",
       "      <td>40.813780</td>\n",
       "      <td>44.283394</td>\n",
       "      <td>47.908993</td>\n",
       "      <td>7.095211</td>\n",
       "      <td>153.982450</td>\n",
       "      <td>112.198630</td>\n",
       "      <td>51.583763</td>\n",
       "      <td>...</td>\n",
       "      <td>0.031997</td>\n",
       "      <td>0.010086</td>\n",
       "      <td>0.215785</td>\n",
       "      <td>3.278689</td>\n",
       "      <td>2.006689</td>\n",
       "      <td>0.296667</td>\n",
       "      <td>0.305050</td>\n",
       "      <td>0.204000</td>\n",
       "      <td>0.188743</td>\n",
       "      <td>-17.321493</td>\n",
       "    </tr>\n",
       "    <tr>\n",
       "      <th>4</th>\n",
       "      <td>3</td>\n",
       "      <td>37.003696</td>\n",
       "      <td>0.061324</td>\n",
       "      <td>35.190372</td>\n",
       "      <td>37.020550</td>\n",
       "      <td>38.557076</td>\n",
       "      <td>3.366703</td>\n",
       "      <td>63.024178</td>\n",
       "      <td>79.459946</td>\n",
       "      <td>27.501400</td>\n",
       "      <td>...</td>\n",
       "      <td>0.055411</td>\n",
       "      <td>-0.002039</td>\n",
       "      <td>0.098568</td>\n",
       "      <td>2.569593</td>\n",
       "      <td>1.731602</td>\n",
       "      <td>0.333750</td>\n",
       "      <td>0.267906</td>\n",
       "      <td>0.221250</td>\n",
       "      <td>0.298515</td>\n",
       "      <td>-19.152788</td>\n",
       "    </tr>\n",
       "  </tbody>\n",
       "</table>\n",
       "<p>5 rows × 89 columns</p>\n",
       "</div>"
      ],
      "text/plain": [
       "   emotion  F0semitoneFrom27.5Hz_sma3nz_amean  \\\n",
       "0        8                          33.700836   \n",
       "1        5                          39.358730   \n",
       "2        3                          42.000824   \n",
       "3        5                          43.330635   \n",
       "4        3                          37.003696   \n",
       "\n",
       "   F0semitoneFrom27.5Hz_sma3nz_stddevNorm  \\\n",
       "0                                0.151614   \n",
       "1                                0.271838   \n",
       "2                                0.080393   \n",
       "3                                0.144818   \n",
       "4                                0.061324   \n",
       "\n",
       "   F0semitoneFrom27.5Hz_sma3nz_percentile20.0  \\\n",
       "0                                   30.896828   \n",
       "1                                   36.973915   \n",
       "2                                   39.967102   \n",
       "3                                   40.813780   \n",
       "4                                   35.190372   \n",
       "\n",
       "   F0semitoneFrom27.5Hz_sma3nz_percentile50.0  \\\n",
       "0                                   35.477130   \n",
       "1                                   43.282550   \n",
       "2                                   42.566326   \n",
       "3                                   44.283394   \n",
       "4                                   37.020550   \n",
       "\n",
       "   F0semitoneFrom27.5Hz_sma3nz_percentile80.0  \\\n",
       "0                                   37.888770   \n",
       "1                                   46.085873   \n",
       "2                                   44.228740   \n",
       "3                                   47.908993   \n",
       "4                                   38.557076   \n",
       "\n",
       "   F0semitoneFrom27.5Hz_sma3nz_pctlrange0-2  \\\n",
       "0                                  6.991943   \n",
       "1                                  9.111958   \n",
       "2                                  4.261639   \n",
       "3                                  7.095211   \n",
       "4                                  3.366703   \n",
       "\n",
       "   F0semitoneFrom27.5Hz_sma3nz_meanRisingSlope  \\\n",
       "0                                    79.057495   \n",
       "1                                    97.191170   \n",
       "2                                    61.089214   \n",
       "3                                   153.982450   \n",
       "4                                    63.024178   \n",
       "\n",
       "   F0semitoneFrom27.5Hz_sma3nz_stddevRisingSlope  \\\n",
       "0                                      34.982346   \n",
       "1                                     119.932250   \n",
       "2                                      53.859688   \n",
       "3                                     112.198630   \n",
       "4                                      79.459946   \n",
       "\n",
       "   F0semitoneFrom27.5Hz_sma3nz_meanFallingSlope  ...  \\\n",
       "0                                     49.753742  ...   \n",
       "1                                    105.989296  ...   \n",
       "2                                     20.160406  ...   \n",
       "3                                     51.583763  ...   \n",
       "4                                     27.501400  ...   \n",
       "\n",
       "   slopeUV0-500_sma3nz_amean  slopeUV500-1500_sma3nz_amean  \\\n",
       "0                   0.006385                     -0.002518   \n",
       "1                   0.019754                      0.010666   \n",
       "2                   0.009773                      0.010525   \n",
       "3                   0.031997                      0.010086   \n",
       "4                   0.055411                     -0.002039   \n",
       "\n",
       "   spectralFluxUV_sma3nz_amean  loudnessPeaksPerSec  VoicedSegmentsPerSec  \\\n",
       "0                     0.105235             3.582090              1.212121   \n",
       "1                     0.077570             3.084833              1.822917   \n",
       "2                     0.207873             3.603604              1.829268   \n",
       "3                     0.215785             3.278689              2.006689   \n",
       "4                     0.098568             2.569593              1.731602   \n",
       "\n",
       "   MeanVoicedSegmentLengthSec  StddevVoicedSegmentLengthSec  \\\n",
       "0                    0.595000                      0.495404   \n",
       "1                    0.347143                      0.470371   \n",
       "2                    0.363333                      0.240463   \n",
       "3                    0.296667                      0.305050   \n",
       "4                    0.333750                      0.267906   \n",
       "\n",
       "   MeanUnvoicedSegmentLength  StddevUnvoicedSegmentLength  \\\n",
       "0                   0.166000                     0.204020   \n",
       "1                   0.178571                     0.218137   \n",
       "2                   0.194000                     0.309102   \n",
       "3                   0.204000                     0.188743   \n",
       "4                   0.221250                     0.298515   \n",
       "\n",
       "   equivalentSoundLevel_dBp  \n",
       "0                -15.474176  \n",
       "1                -18.720428  \n",
       "2                -15.210293  \n",
       "3                -17.321493  \n",
       "4                -19.152788  \n",
       "\n",
       "[5 rows x 89 columns]"
      ]
     },
     "execution_count": 25,
     "metadata": {},
     "output_type": "execute_result"
    }
   ],
   "source": [
    "df_propios.head()"
   ]
  },
  {
   "cell_type": "code",
   "execution_count": 52,
   "metadata": {
    "id": "tznidUpMQ6q_",
    "scrolled": true
   },
   "outputs": [],
   "source": [
    "# X_train, x_test, y_train, y_test = train_test_split(\n",
    "#     df_original.loc[:, df_original.columns != \"emotion\"],\n",
    "#     df_original[\"emotion\"],\n",
    "#     stratify=df_original[\"emotion\"],\n",
    "#     random_state=PARAM_RANDOM_STATE,\n",
    "# )"
   ]
  },
  {
   "cell_type": "code",
   "execution_count": 26,
   "metadata": {
    "id": "2MKKhN5aL5BC"
   },
   "outputs": [
    {
     "name": "stderr",
     "output_type": "stream",
     "text": [
      "C:\\Users\\lbertolini\\Anaconda3\\lib\\site-packages\\sklearn\\base.py:318: UserWarning: Trying to unpickle estimator DecisionTreeClassifier from version 0.24.2 when using version 0.22.1. This might lead to breaking code or invalid results. Use at your own risk.\n",
      "  UserWarning)\n",
      "C:\\Users\\lbertolini\\Anaconda3\\lib\\site-packages\\sklearn\\base.py:318: UserWarning: Trying to unpickle estimator RandomForestClassifier from version 0.24.2 when using version 0.22.1. This might lead to breaking code or invalid results. Use at your own risk.\n",
      "  UserWarning)\n"
     ]
    }
   ],
   "source": [
    "# rf = RandomForestClassifier(n_estimators=360, random_state=PARAM_RANDOM_STATE)\n",
    "# rf.fit(X_train, y_train)\n",
    "rf = pickle.load(open(\"03.04.Random_forest.pkl\", \"rb\"))"
   ]
  },
  {
   "cell_type": "markdown",
   "metadata": {
    "id": "OcsgWy0mTp6r"
   },
   "source": [
    "# Resultados"
   ]
  },
  {
   "cell_type": "code",
   "execution_count": 45,
   "metadata": {
    "id": "xsxWjw_ysp05",
    "scrolled": true
   },
   "outputs": [],
   "source": [
    "y_pred_propios = rf.predict(df_propios.loc[:, df_propios.columns != \"emotion\"])"
   ]
  },
  {
   "cell_type": "code",
   "execution_count": 46,
   "metadata": {
    "id": "ggKXGZHE-5b0"
   },
   "outputs": [],
   "source": [
    "# labels_cm = ['Neu.', 'Calm','Hap.','Sad','Angry','Fear.','Disg.','Surpr.']\n",
    "labels_cm = [\"Neu.\", \"Calm\", \"Hap.\", \"Sad\", \"Angry\", \"Fear.\", \"Disg.\", \"Surpr.\"]"
   ]
  },
  {
   "cell_type": "code",
   "execution_count": 47,
   "metadata": {},
   "outputs": [
    {
     "data": {
      "text/plain": [
       "{1: 3, 2: 2, 3: 12, 4: 6, 5: 7, 7: 1, 8: 11}"
      ]
     },
     "execution_count": 47,
     "metadata": {},
     "output_type": "execute_result"
    }
   ],
   "source": [
    "unique, counts = np.unique(y_propios, return_counts=True)\n",
    "dict(zip(unique, counts))"
   ]
  },
  {
   "cell_type": "code",
   "execution_count": 48,
   "metadata": {},
   "outputs": [
    {
     "data": {
      "text/plain": [
       "{3: 3, 4: 1, 5: 19, 6: 18, 7: 1}"
      ]
     },
     "execution_count": 48,
     "metadata": {},
     "output_type": "execute_result"
    }
   ],
   "source": [
    "unique, counts = np.unique(y_pred_propios, return_counts=True)\n",
    "dict(zip(unique, counts))"
   ]
  },
  {
   "cell_type": "code",
   "execution_count": 49,
   "metadata": {
    "colab": {
     "base_uri": "https://localhost:8080/",
     "height": 466
    },
    "id": "izgj3TccV9gM",
    "outputId": "2181598c-e11a-4083-82e4-6c6ff7923a17"
   },
   "outputs": [
    {
     "data": {
      "image/png": "[encoded data removed]",
      "text/plain": [
       "<Figure size 432x288 with 2 Axes>"
      ]
     },
     "metadata": {
      "needs_background": "light"
     },
     "output_type": "display_data"
    }
   ],
   "source": [
    "ax = plt.subplot()\n",
    "cm = confusion_matrix(y_propios, y_pred_propios)\n",
    "heat_rf_propios = sns.heatmap(cm, cmap=\"Blues\", annot=True, fmt=\"g\")\n",
    "plt.xlabel(\"Predicted\")\n",
    "plt.ylabel(\"True\")\n",
    "ax.set_title(\"Random Forest\")\n",
    "ax.xaxis.set_ticklabels(labels_cm)\n",
    "ax.yaxis.set_ticklabels(labels_cm)\n",
    "\n",
    "heat_rf_propios.figure.savefig(\"05.01.Matriz_propios.random.png\", bbox_inches=\"tight\")"
   ]
  },
  {
   "cell_type": "code",
   "execution_count": 50,
   "metadata": {},
   "outputs": [
    {
     "name": "stdout",
     "output_type": "stream",
     "text": [
      "Test acc: 0.14285714285714285\n",
      "Test recall: 0.14285714285714285\n",
      "Test F1: 0.07692307692307693\n",
      "Test F2: 0.10638297872340424\n"
     ]
    },
    {
     "name": "stderr",
     "output_type": "stream",
     "text": [
      "C:\\Users\\lbertolini\\Anaconda3\\lib\\site-packages\\sklearn\\metrics\\_classification.py:1272: UndefinedMetricWarning: Recall is ill-defined and being set to 0.0 in labels with no true samples. Use `zero_division` parameter to control this behavior.\n",
      "  _warn_prf(average, modifier, msg_start, len(result))\n"
     ]
    }
   ],
   "source": [
    "# evaluación\n",
    "print(\"Test acc: {}\".format(accuracy_score(y_propios, y_pred_propios)))\n",
    "print(\"Test recall: {}\".format(recall_score(y_propios, y_pred_propios, average=\"weighted\")))\n",
    "print(\n",
    "    \"Test F1: {}\".format(fbeta_score(y_propios, y_pred_propios, beta=1, average=\"weighted\"))\n",
    ")\n",
    "print(\n",
    "    \"Test F2: {}\".format(fbeta_score(y_propios, y_pred_propios, beta=2, average=\"weighted\"))\n",
    ")"
   ]
  },
  {
   "cell_type": "code",
   "execution_count": 51,
   "metadata": {
    "colab": {
     "base_uri": "https://localhost:8080/"
    },
    "id": "Imf_GPMoYGDb",
    "outputId": "a52408cc-2b51-426e-daf4-c2af9b38bc8e"
   },
   "outputs": [
    {
     "name": "stdout",
     "output_type": "stream",
     "text": [
      "              precision    recall  f1-score   support\n",
      "\n",
      "           1       0.00      0.00      0.00         3\n",
      "           2       0.00      0.00      0.00         2\n",
      "           3       0.00      0.00      0.00        12\n",
      "           4       0.00      0.00      0.00         6\n",
      "           5       0.32      0.86      0.46         7\n",
      "           6       0.00      0.00      0.00         0\n",
      "           7       0.00      0.00      0.00         1\n",
      "           8       0.00      0.00      0.00        11\n",
      "\n",
      "    accuracy                           0.14        42\n",
      "   macro avg       0.04      0.11      0.06        42\n",
      "weighted avg       0.05      0.14      0.08        42\n",
      "\n"
     ]
    },
    {
     "name": "stderr",
     "output_type": "stream",
     "text": [
      "C:\\Users\\lbertolini\\Anaconda3\\lib\\site-packages\\sklearn\\metrics\\_classification.py:1272: UndefinedMetricWarning: Precision and F-score are ill-defined and being set to 0.0 in labels with no predicted samples. Use `zero_division` parameter to control this behavior.\n",
      "  _warn_prf(average, modifier, msg_start, len(result))\n",
      "C:\\Users\\lbertolini\\Anaconda3\\lib\\site-packages\\sklearn\\metrics\\_classification.py:1272: UndefinedMetricWarning: Recall and F-score are ill-defined and being set to 0.0 in labels with no true samples. Use `zero_division` parameter to control this behavior.\n",
      "  _warn_prf(average, modifier, msg_start, len(result))\n"
     ]
    }
   ],
   "source": [
    "print(classification_report(y_propios, y_pred_propios))"
   ]
  },
  {
   "cell_type": "markdown",
   "metadata": {
    "id": "MCcAA4EbnAKo"
   },
   "source": [
    "## Probando con Adaboost"
   ]
  },
  {
   "cell_type": "code",
   "execution_count": 52,
   "metadata": {
    "colab": {
     "base_uri": "https://localhost:8080/"
    },
    "id": "rL-FOKE2r0ic",
    "outputId": "5be24427-96a5-4561-b534-2ba48cd604d2"
   },
   "outputs": [
    {
     "name": "stderr",
     "output_type": "stream",
     "text": [
      "C:\\Users\\lbertolini\\Anaconda3\\lib\\site-packages\\sklearn\\base.py:318: UserWarning: Trying to unpickle estimator DecisionTreeClassifier from version 0.24.2 when using version 0.22.1. This might lead to breaking code or invalid results. Use at your own risk.\n",
      "  UserWarning)\n",
      "C:\\Users\\lbertolini\\Anaconda3\\lib\\site-packages\\sklearn\\base.py:318: UserWarning: Trying to unpickle estimator AdaBoostClassifier from version 0.24.2 when using version 0.22.1. This might lead to breaking code or invalid results. Use at your own risk.\n",
      "  UserWarning)\n"
     ]
    }
   ],
   "source": [
    "# best_adaboost = AdaBoostClassifier(\n",
    "#     DecisionTreeClassifier(class_weight=\"balanced\"),\n",
    "#     n_estimators=1335,\n",
    "#     learning_rate=1.6709999999999996,\n",
    "#     random_state=PARAM_RANDOM_STATE,\n",
    "# )\n",
    "# best_adaboost.fit(X_train, y_train)\n",
    "best_adaboost = pickle.load(open(\"03.05.AdaBoost.pkl\", \"rb\"))"
   ]
  },
  {
   "cell_type": "code",
   "execution_count": 53,
   "metadata": {
    "id": "0oh9lXigsW7u"
   },
   "outputs": [],
   "source": [
    "y_pred_propios_ada = best_adaboost.predict(df_propios.loc[:, df_propios.columns != \"emotion\"])"
   ]
  },
  {
   "cell_type": "code",
   "execution_count": 54,
   "metadata": {},
   "outputs": [
    {
     "name": "stdout",
     "output_type": "stream",
     "text": [
      "Test acc: 0.3333333333333333\n",
      "Test recall: 0.3333333333333333\n",
      "Test F1: 0.258217296580468\n",
      "Test F2: 0.2885072728278303\n"
     ]
    },
    {
     "name": "stderr",
     "output_type": "stream",
     "text": [
      "C:\\Users\\lbertolini\\Anaconda3\\lib\\site-packages\\sklearn\\metrics\\_classification.py:1272: UndefinedMetricWarning: Recall is ill-defined and being set to 0.0 in labels with no true samples. Use `zero_division` parameter to control this behavior.\n",
      "  _warn_prf(average, modifier, msg_start, len(result))\n"
     ]
    }
   ],
   "source": [
    "# evaluación\n",
    "print(\"Test acc: {}\".format(accuracy_score(y_propios, y_pred_propios_ada)))\n",
    "print(\"Test recall: {}\".format(recall_score(y_propios, y_pred_propios_ada, average=\"weighted\")))\n",
    "print(\n",
    "    \"Test F1: {}\".format(fbeta_score(y_propios, y_pred_propios_ada, beta=1, average=\"weighted\"))\n",
    ")\n",
    "print(\n",
    "    \"Test F2: {}\".format(fbeta_score(y_propios, y_pred_propios_ada, beta=2, average=\"weighted\"))\n",
    ")"
   ]
  },
  {
   "cell_type": "code",
   "execution_count": 55,
   "metadata": {
    "colab": {
     "base_uri": "https://localhost:8080/"
    },
    "id": "_8gtXENJtNgS",
    "outputId": "e4dce837-e523-45cc-a467-44d7eac092e3"
   },
   "outputs": [
    {
     "name": "stdout",
     "output_type": "stream",
     "text": [
      "              precision    recall  f1-score   support\n",
      "\n",
      "           1       0.00      0.00      0.00         3\n",
      "           2       0.00      0.00      0.00         2\n",
      "           3       0.36      0.67      0.47        12\n",
      "           4       0.24      0.67      0.35         6\n",
      "           5       1.00      0.29      0.44         7\n",
      "           6       0.00      0.00      0.00         0\n",
      "           7       0.00      0.00      0.00         1\n",
      "           8       0.00      0.00      0.00        11\n",
      "\n",
      "    accuracy                           0.33        42\n",
      "   macro avg       0.20      0.20      0.16        42\n",
      "weighted avg       0.30      0.33      0.26        42\n",
      "\n"
     ]
    },
    {
     "name": "stderr",
     "output_type": "stream",
     "text": [
      "C:\\Users\\lbertolini\\Anaconda3\\lib\\site-packages\\sklearn\\metrics\\_classification.py:1272: UndefinedMetricWarning: Precision and F-score are ill-defined and being set to 0.0 in labels with no predicted samples. Use `zero_division` parameter to control this behavior.\n",
      "  _warn_prf(average, modifier, msg_start, len(result))\n",
      "C:\\Users\\lbertolini\\Anaconda3\\lib\\site-packages\\sklearn\\metrics\\_classification.py:1272: UndefinedMetricWarning: Recall and F-score are ill-defined and being set to 0.0 in labels with no true samples. Use `zero_division` parameter to control this behavior.\n",
      "  _warn_prf(average, modifier, msg_start, len(result))\n"
     ]
    }
   ],
   "source": [
    "print(classification_report(y_propios, y_pred_propios_ada))"
   ]
  },
  {
   "cell_type": "code",
   "execution_count": 56,
   "metadata": {
    "colab": {
     "base_uri": "https://localhost:8080/",
     "height": 466
    },
    "id": "bNfUfwWutJnK",
    "outputId": "4c2346a3-f925-4b67-da5c-72c8539fdfe6"
   },
   "outputs": [
    {
     "data": {
      "image/png": "[encoded data removed]",
      "text/plain": [
       "<Figure size 432x288 with 2 Axes>"
      ]
     },
     "metadata": {
      "needs_background": "light"
     },
     "output_type": "display_data"
    }
   ],
   "source": [
    "ax = plt.subplot()\n",
    "cm = confusion_matrix(y_propios, y_pred_propios_ada)\n",
    "heat_ad_propios = sns.heatmap(cm, cmap=\"Blues\", annot=True, fmt=\"g\")\n",
    "plt.xlabel(\"Predicted\")\n",
    "plt.ylabel(\"True\")\n",
    "ax.set_title(\"AdaBoost\")\n",
    "ax.xaxis.set_ticklabels(labels_cm)\n",
    "ax.yaxis.set_ticklabels(labels_cm)\n",
    "\n",
    "heat_ad_propios.figure.savefig(\"05.02.Matriz_propios.ada.png\", bbox_inches=\"tight\")"
   ]
  },
  {
   "cell_type": "code",
   "execution_count": 57,
   "metadata": {
    "colab": {
     "base_uri": "https://localhost:8080/"
    },
    "id": "uQvzT5XOvTsU",
    "outputId": "a94b9d30-b10b-46d3-c754-9768c53ddc63"
   },
   "outputs": [
    {
     "name": "stderr",
     "output_type": "stream",
     "text": [
      "C:\\Users\\lbertolini\\Anaconda3\\lib\\site-packages\\sklearn\\base.py:197: FutureWarning: From version 0.24, get_params will raise an AttributeError if a parameter cannot be retrieved as an instance attribute. Previously it would return None.\n",
      "  FutureWarning)\n"
     ]
    },
    {
     "data": {
      "text/plain": [
       "AdaBoostClassifier(algorithm='SAMME.R',\n",
       "                   base_estimator=DecisionTreeClassifier(ccp_alpha=0.0,\n",
       "                                                         class_weight='balanced',\n",
       "                                                         criterion='gini',\n",
       "                                                         max_depth=3,\n",
       "                                                         max_features='auto',\n",
       "                                                         max_leaf_nodes=None,\n",
       "                                                         min_impurity_decrease=0.0,\n",
       "                                                         min_impurity_split=None,\n",
       "                                                         min_samples_leaf=1,\n",
       "                                                         min_samples_split=2,\n",
       "                                                         min_weight_fraction_leaf=0.0,\n",
       "                                                         presort=None,\n",
       "                                                         random_state=None,\n",
       "                                                         splitter='best'),\n",
       "                   learning_rate=1.6709999999999996, n_estimators=1335,\n",
       "                   random_state=None)"
      ]
     },
     "execution_count": 57,
     "metadata": {},
     "output_type": "execute_result"
    }
   ],
   "source": [
    "best_adaboost"
   ]
  }
 ],
 "metadata": {
  "colab": {
   "collapsed_sections": [],
   "name": "05 Test grabaciones propias.ipynb",
   "provenance": []
  },
  "kernelspec": {
   "display_name": "Python 3",
   "language": "python",
   "name": "python3"
  },
  "language_info": {
   "codemirror_mode": {
    "name": "ipython",
    "version": 3
   },
   "file_extension": ".py",
   "mimetype": "text/x-python",
   "name": "python",
   "nbconvert_exporter": "python",
   "pygments_lexer": "ipython3",
   "version": "3.7.6"
  }
 },
 "nbformat": 4,
 "nbformat_minor": 1
}
