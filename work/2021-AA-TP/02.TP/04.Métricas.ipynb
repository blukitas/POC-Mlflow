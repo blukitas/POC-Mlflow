{
 "cells": [
  {
   "cell_type": "markdown",
   "metadata": {},
   "source": [
    "# TP 2 - algoritmos de ensambles "
   ]
  },
  {
   "cell_type": "markdown",
   "metadata": {},
   "source": [
    "## Cargar librerias\n"
   ]
  },
  {
   "cell_type": "code",
   "execution_count": 1,
   "metadata": {},
   "outputs": [],
   "source": [
    "import datetime\n",
    "import IPython\n",
    "import math\n",
    "import numpy as np\n",
    "import matplotlib.pyplot as plt\n",
    "import pandas as pd\n",
    "import seaborn as sns\n",
    "import sweetviz as sv\n",
    "import time\n",
    "from matplotlib import pyplot\n",
    "from numpy import mean\n",
    "from numpy import std\n",
    "from urllib.parse import urlparse"
   ]
  },
  {
   "cell_type": "code",
   "execution_count": 2,
   "metadata": {},
   "outputs": [],
   "source": [
    "from sklearn.feature_extraction.text import CountVectorizer, TfidfVectorizer\n",
    "from sklearn.model_selection import train_test_split\n",
    "from sklearn.naive_bayes import MultinomialNB, GaussianNB\n",
    "from sklearn.metrics import classification_report\n",
    "import matplotlib.pyplot as plt"
   ]
  },
  {
   "cell_type": "code",
   "execution_count": 3,
   "metadata": {},
   "outputs": [],
   "source": [
    "from scipy import stats\n",
    "from scipy.stats import chi2_contingency\n",
    "from sklearn.calibration import calibration_curve\n",
    "from sklearn.impute import KNNImputer\n",
    "from sklearn.feature_selection import RFE\n",
    "from sklearn.metrics import (\n",
    "    roc_curve,\n",
    "    make_scorer,\n",
    "    accuracy_score,\n",
    "    fbeta_score,\n",
    "    precision_score,\n",
    "    recall_score,\n",
    "    f1_score,\n",
    "    classification_report,\n",
    "    confusion_matrix,\n",
    ")\n",
    "from sklearn.model_selection import (\n",
    "    train_test_split,\n",
    "    cross_val_score,\n",
    "    StratifiedKFold,\n",
    "    KFold,\n",
    "    GridSearchCV,\n",
    "    RandomizedSearchCV,\n",
    "    RepeatedStratifiedKFold,\n",
    ")\n",
    "from sklearn.pipeline import Pipeline\n",
    "from sklearn.preprocessing import OneHotEncoder\n",
    "from sklearn.tree import DecisionTreeClassifier, plot_tree\n",
    "from sklearn import tree\n",
    "import pickle\n",
    "from sklearn.model_selection import LeaveOneGroupOut\n",
    "\n",
    "from sklearn.ensemble import BaggingClassifier\n",
    "from sklearn.model_selection import KFold, cross_val_score"
   ]
  },
  {
   "cell_type": "code",
   "execution_count": 4,
   "metadata": {},
   "outputs": [],
   "source": [
    "# # Observación: Descomentar en caso de que quieran versionar los modelos y la búsqueda de hiperparámetros.\n",
    "# import mlflow\n",
    "# import mlflow.sklearn\n",
    "# from mlflow.tracking import MlflowClient"
   ]
  },
  {
   "cell_type": "code",
   "execution_count": 5,
   "metadata": {},
   "outputs": [],
   "source": [
    "PARAM_RANDOM_STATE = 42"
   ]
  },
  {
   "cell_type": "markdown",
   "metadata": {},
   "source": [
    "## Cargar dataset"
   ]
  },
  {
   "cell_type": "code",
   "execution_count": 6,
   "metadata": {},
   "outputs": [
    {
     "data": {
      "text/html": [
       "<div>\n",
       "<style scoped>\n",
       "    .dataframe tbody tr th:only-of-type {\n",
       "        vertical-align: middle;\n",
       "    }\n",
       "\n",
       "    .dataframe tbody tr th {\n",
       "        vertical-align: top;\n",
       "    }\n",
       "\n",
       "    .dataframe thead th {\n",
       "        text-align: right;\n",
       "    }\n",
       "</style>\n",
       "<table border=\"1\" class=\"dataframe\">\n",
       "  <thead>\n",
       "    <tr style=\"text-align: right;\">\n",
       "      <th></th>\n",
       "      <th>Unnamed: 0</th>\n",
       "      <th>file_path</th>\n",
       "      <th>modality</th>\n",
       "      <th>vocal_channel</th>\n",
       "      <th>emotion</th>\n",
       "      <th>emotional_intensity</th>\n",
       "      <th>statement</th>\n",
       "      <th>repetition</th>\n",
       "      <th>actor</th>\n",
       "      <th>start</th>\n",
       "      <th>...</th>\n",
       "      <th>slopeUV0-500_sma3nz_amean</th>\n",
       "      <th>slopeUV500-1500_sma3nz_amean</th>\n",
       "      <th>spectralFluxUV_sma3nz_amean</th>\n",
       "      <th>loudnessPeaksPerSec</th>\n",
       "      <th>VoicedSegmentsPerSec</th>\n",
       "      <th>MeanVoicedSegmentLengthSec</th>\n",
       "      <th>StddevVoicedSegmentLengthSec</th>\n",
       "      <th>MeanUnvoicedSegmentLength</th>\n",
       "      <th>StddevUnvoicedSegmentLength</th>\n",
       "      <th>equivalentSoundLevel_dBp</th>\n",
       "    </tr>\n",
       "  </thead>\n",
       "  <tbody>\n",
       "    <tr>\n",
       "      <th>0</th>\n",
       "      <td>0</td>\n",
       "      <td>./audios/ravdess/Actor_23/03-01-07-02-02-01-23...</td>\n",
       "      <td>3</td>\n",
       "      <td>1</td>\n",
       "      <td>7</td>\n",
       "      <td>2</td>\n",
       "      <td>2</td>\n",
       "      <td>1</td>\n",
       "      <td>23</td>\n",
       "      <td>0 days 00:00:00</td>\n",
       "      <td>...</td>\n",
       "      <td>0.075190</td>\n",
       "      <td>0.014015</td>\n",
       "      <td>0.022255</td>\n",
       "      <td>2.150538</td>\n",
       "      <td>1.089918</td>\n",
       "      <td>0.2825</td>\n",
       "      <td>0.126763</td>\n",
       "      <td>0.4900</td>\n",
       "      <td>0.397291</td>\n",
       "      <td>-36.658245</td>\n",
       "    </tr>\n",
       "    <tr>\n",
       "      <th>1</th>\n",
       "      <td>1</td>\n",
       "      <td>./audios/ravdess/Actor_23/03-02-03-02-02-01-23...</td>\n",
       "      <td>3</td>\n",
       "      <td>2</td>\n",
       "      <td>3</td>\n",
       "      <td>2</td>\n",
       "      <td>2</td>\n",
       "      <td>1</td>\n",
       "      <td>23</td>\n",
       "      <td>0 days 00:00:00</td>\n",
       "      <td>...</td>\n",
       "      <td>0.020998</td>\n",
       "      <td>0.009869</td>\n",
       "      <td>0.018871</td>\n",
       "      <td>1.492537</td>\n",
       "      <td>0.646552</td>\n",
       "      <td>0.8200</td>\n",
       "      <td>0.277248</td>\n",
       "      <td>0.5275</td>\n",
       "      <td>0.438770</td>\n",
       "      <td>-29.391884</td>\n",
       "    </tr>\n",
       "    <tr>\n",
       "      <th>2</th>\n",
       "      <td>2</td>\n",
       "      <td>./audios/ravdess/Actor_23/03-01-04-01-02-01-23...</td>\n",
       "      <td>3</td>\n",
       "      <td>1</td>\n",
       "      <td>4</td>\n",
       "      <td>1</td>\n",
       "      <td>2</td>\n",
       "      <td>1</td>\n",
       "      <td>23</td>\n",
       "      <td>0 days 00:00:00</td>\n",
       "      <td>...</td>\n",
       "      <td>0.047365</td>\n",
       "      <td>0.011048</td>\n",
       "      <td>0.011381</td>\n",
       "      <td>2.247191</td>\n",
       "      <td>0.569801</td>\n",
       "      <td>0.5900</td>\n",
       "      <td>0.160000</td>\n",
       "      <td>0.7600</td>\n",
       "      <td>0.296985</td>\n",
       "      <td>-43.332924</td>\n",
       "    </tr>\n",
       "    <tr>\n",
       "      <th>3</th>\n",
       "      <td>3</td>\n",
       "      <td>./audios/ravdess/Actor_23/03-02-04-02-02-01-23...</td>\n",
       "      <td>3</td>\n",
       "      <td>2</td>\n",
       "      <td>4</td>\n",
       "      <td>2</td>\n",
       "      <td>2</td>\n",
       "      <td>1</td>\n",
       "      <td>23</td>\n",
       "      <td>0 days 00:00:00</td>\n",
       "      <td>...</td>\n",
       "      <td>0.041743</td>\n",
       "      <td>0.012340</td>\n",
       "      <td>0.007390</td>\n",
       "      <td>1.394422</td>\n",
       "      <td>0.603622</td>\n",
       "      <td>0.9300</td>\n",
       "      <td>0.885701</td>\n",
       "      <td>0.5275</td>\n",
       "      <td>0.420260</td>\n",
       "      <td>-37.549572</td>\n",
       "    </tr>\n",
       "    <tr>\n",
       "      <th>4</th>\n",
       "      <td>4</td>\n",
       "      <td>./audios/ravdess/Actor_23/03-01-02-02-02-02-23...</td>\n",
       "      <td>3</td>\n",
       "      <td>1</td>\n",
       "      <td>2</td>\n",
       "      <td>2</td>\n",
       "      <td>2</td>\n",
       "      <td>2</td>\n",
       "      <td>23</td>\n",
       "      <td>0 days 00:00:00</td>\n",
       "      <td>...</td>\n",
       "      <td>0.053580</td>\n",
       "      <td>0.011590</td>\n",
       "      <td>0.005245</td>\n",
       "      <td>1.535088</td>\n",
       "      <td>0.886918</td>\n",
       "      <td>0.3875</td>\n",
       "      <td>0.206079</td>\n",
       "      <td>0.5740</td>\n",
       "      <td>0.424999</td>\n",
       "      <td>-43.261425</td>\n",
       "    </tr>\n",
       "  </tbody>\n",
       "</table>\n",
       "<p>5 rows × 99 columns</p>\n",
       "</div>"
      ],
      "text/plain": [
       "   Unnamed: 0                                          file_path  modality  \\\n",
       "0           0  ./audios/ravdess/Actor_23/03-01-07-02-02-01-23...         3   \n",
       "1           1  ./audios/ravdess/Actor_23/03-02-03-02-02-01-23...         3   \n",
       "2           2  ./audios/ravdess/Actor_23/03-01-04-01-02-01-23...         3   \n",
       "3           3  ./audios/ravdess/Actor_23/03-02-04-02-02-01-23...         3   \n",
       "4           4  ./audios/ravdess/Actor_23/03-01-02-02-02-02-23...         3   \n",
       "\n",
       "   vocal_channel  emotion  emotional_intensity  statement  repetition  actor  \\\n",
       "0              1        7                    2          2           1     23   \n",
       "1              2        3                    2          2           1     23   \n",
       "2              1        4                    1          2           1     23   \n",
       "3              2        4                    2          2           1     23   \n",
       "4              1        2                    2          2           2     23   \n",
       "\n",
       "             start  ... slopeUV0-500_sma3nz_amean  \\\n",
       "0  0 days 00:00:00  ...                  0.075190   \n",
       "1  0 days 00:00:00  ...                  0.020998   \n",
       "2  0 days 00:00:00  ...                  0.047365   \n",
       "3  0 days 00:00:00  ...                  0.041743   \n",
       "4  0 days 00:00:00  ...                  0.053580   \n",
       "\n",
       "   slopeUV500-1500_sma3nz_amean  spectralFluxUV_sma3nz_amean  \\\n",
       "0                      0.014015                     0.022255   \n",
       "1                      0.009869                     0.018871   \n",
       "2                      0.011048                     0.011381   \n",
       "3                      0.012340                     0.007390   \n",
       "4                      0.011590                     0.005245   \n",
       "\n",
       "   loudnessPeaksPerSec  VoicedSegmentsPerSec  MeanVoicedSegmentLengthSec  \\\n",
       "0             2.150538              1.089918                      0.2825   \n",
       "1             1.492537              0.646552                      0.8200   \n",
       "2             2.247191              0.569801                      0.5900   \n",
       "3             1.394422              0.603622                      0.9300   \n",
       "4             1.535088              0.886918                      0.3875   \n",
       "\n",
       "   StddevVoicedSegmentLengthSec  MeanUnvoicedSegmentLength  \\\n",
       "0                      0.126763                     0.4900   \n",
       "1                      0.277248                     0.5275   \n",
       "2                      0.160000                     0.7600   \n",
       "3                      0.885701                     0.5275   \n",
       "4                      0.206079                     0.5740   \n",
       "\n",
       "   StddevUnvoicedSegmentLength  equivalentSoundLevel_dBp  \n",
       "0                     0.397291                -36.658245  \n",
       "1                     0.438770                -29.391884  \n",
       "2                     0.296985                -43.332924  \n",
       "3                     0.420260                -37.549572  \n",
       "4                     0.424999                -43.261425  \n",
       "\n",
       "[5 rows x 99 columns]"
      ]
     },
     "execution_count": 6,
     "metadata": {},
     "output_type": "execute_result"
    }
   ],
   "source": [
    "df_original = pd.read_csv(\"01.df.procesado.csv\")\n",
    "# df_original = pd.read_csv(\"https://raw.githubusercontent.com/blukitas/AA-2021/main/TPs/02.TP/01.df.procesado.csv\")\n",
    "df_original.head()"
   ]
  },
  {
   "cell_type": "code",
   "execution_count": 7,
   "metadata": {
    "scrolled": true
   },
   "outputs": [
    {
     "data": {
      "text/plain": [
       "['Unnamed: 0',\n",
       " 'modality',\n",
       " 'vocal_channel',\n",
       " 'emotion',\n",
       " 'emotional_intensity',\n",
       " 'statement',\n",
       " 'repetition',\n",
       " 'actor',\n",
       " 'F0semitoneFrom27.5Hz_sma3nz_amean',\n",
       " 'F0semitoneFrom27.5Hz_sma3nz_stddevNorm',\n",
       " 'F0semitoneFrom27.5Hz_sma3nz_percentile20.0',\n",
       " 'F0semitoneFrom27.5Hz_sma3nz_percentile50.0',\n",
       " 'F0semitoneFrom27.5Hz_sma3nz_percentile80.0',\n",
       " 'F0semitoneFrom27.5Hz_sma3nz_pctlrange0-2',\n",
       " 'F0semitoneFrom27.5Hz_sma3nz_meanRisingSlope',\n",
       " 'F0semitoneFrom27.5Hz_sma3nz_stddevRisingSlope',\n",
       " 'F0semitoneFrom27.5Hz_sma3nz_meanFallingSlope',\n",
       " 'F0semitoneFrom27.5Hz_sma3nz_stddevFallingSlope',\n",
       " 'loudness_sma3_amean',\n",
       " 'loudness_sma3_stddevNorm',\n",
       " 'loudness_sma3_percentile20.0',\n",
       " 'loudness_sma3_percentile50.0',\n",
       " 'loudness_sma3_percentile80.0',\n",
       " 'loudness_sma3_pctlrange0-2',\n",
       " 'loudness_sma3_meanRisingSlope',\n",
       " 'loudness_sma3_stddevRisingSlope',\n",
       " 'loudness_sma3_meanFallingSlope',\n",
       " 'loudness_sma3_stddevFallingSlope',\n",
       " 'spectralFlux_sma3_amean',\n",
       " 'spectralFlux_sma3_stddevNorm',\n",
       " 'mfcc1_sma3_amean',\n",
       " 'mfcc1_sma3_stddevNorm',\n",
       " 'mfcc2_sma3_amean',\n",
       " 'mfcc2_sma3_stddevNorm',\n",
       " 'mfcc3_sma3_amean',\n",
       " 'mfcc3_sma3_stddevNorm',\n",
       " 'mfcc4_sma3_amean',\n",
       " 'mfcc4_sma3_stddevNorm',\n",
       " 'jitterLocal_sma3nz_amean',\n",
       " 'jitterLocal_sma3nz_stddevNorm',\n",
       " 'shimmerLocaldB_sma3nz_amean',\n",
       " 'shimmerLocaldB_sma3nz_stddevNorm',\n",
       " 'HNRdBACF_sma3nz_amean',\n",
       " 'HNRdBACF_sma3nz_stddevNorm',\n",
       " 'logRelF0-H1-H2_sma3nz_amean',\n",
       " 'logRelF0-H1-H2_sma3nz_stddevNorm',\n",
       " 'logRelF0-H1-A3_sma3nz_amean',\n",
       " 'logRelF0-H1-A3_sma3nz_stddevNorm',\n",
       " 'F1frequency_sma3nz_amean',\n",
       " 'F1frequency_sma3nz_stddevNorm',\n",
       " 'F1bandwidth_sma3nz_amean',\n",
       " 'F1bandwidth_sma3nz_stddevNorm',\n",
       " 'F1amplitudeLogRelF0_sma3nz_amean',\n",
       " 'F1amplitudeLogRelF0_sma3nz_stddevNorm',\n",
       " 'F2frequency_sma3nz_amean',\n",
       " 'F2frequency_sma3nz_stddevNorm',\n",
       " 'F2bandwidth_sma3nz_amean',\n",
       " 'F2bandwidth_sma3nz_stddevNorm',\n",
       " 'F2amplitudeLogRelF0_sma3nz_amean',\n",
       " 'F2amplitudeLogRelF0_sma3nz_stddevNorm',\n",
       " 'F3frequency_sma3nz_amean',\n",
       " 'F3frequency_sma3nz_stddevNorm',\n",
       " 'F3bandwidth_sma3nz_amean',\n",
       " 'F3bandwidth_sma3nz_stddevNorm',\n",
       " 'F3amplitudeLogRelF0_sma3nz_amean',\n",
       " 'F3amplitudeLogRelF0_sma3nz_stddevNorm',\n",
       " 'alphaRatioV_sma3nz_amean',\n",
       " 'alphaRatioV_sma3nz_stddevNorm',\n",
       " 'hammarbergIndexV_sma3nz_amean',\n",
       " 'hammarbergIndexV_sma3nz_stddevNorm',\n",
       " 'slopeV0-500_sma3nz_amean',\n",
       " 'slopeV0-500_sma3nz_stddevNorm',\n",
       " 'slopeV500-1500_sma3nz_amean',\n",
       " 'slopeV500-1500_sma3nz_stddevNorm',\n",
       " 'spectralFluxV_sma3nz_amean',\n",
       " 'spectralFluxV_sma3nz_stddevNorm',\n",
       " 'mfcc1V_sma3nz_amean',\n",
       " 'mfcc1V_sma3nz_stddevNorm',\n",
       " 'mfcc2V_sma3nz_amean',\n",
       " 'mfcc2V_sma3nz_stddevNorm',\n",
       " 'mfcc3V_sma3nz_amean',\n",
       " 'mfcc3V_sma3nz_stddevNorm',\n",
       " 'mfcc4V_sma3nz_amean',\n",
       " 'mfcc4V_sma3nz_stddevNorm',\n",
       " 'alphaRatioUV_sma3nz_amean',\n",
       " 'hammarbergIndexUV_sma3nz_amean',\n",
       " 'slopeUV0-500_sma3nz_amean',\n",
       " 'slopeUV500-1500_sma3nz_amean',\n",
       " 'spectralFluxUV_sma3nz_amean',\n",
       " 'loudnessPeaksPerSec',\n",
       " 'VoicedSegmentsPerSec',\n",
       " 'MeanVoicedSegmentLengthSec',\n",
       " 'StddevVoicedSegmentLengthSec',\n",
       " 'MeanUnvoicedSegmentLength',\n",
       " 'StddevUnvoicedSegmentLength',\n",
       " 'equivalentSoundLevel_dBp']"
      ]
     },
     "execution_count": 7,
     "metadata": {},
     "output_type": "execute_result"
    }
   ],
   "source": [
    "num_columns = [col for col in df_original.columns if df_original[col].dtype != \"object\"]\n",
    "num_columns"
   ]
  },
  {
   "cell_type": "code",
   "execution_count": 8,
   "metadata": {
    "scrolled": true
   },
   "outputs": [
    {
     "data": {
      "text/plain": [
       "['emotion',\n",
       " 'F0semitoneFrom27.5Hz_sma3nz_amean',\n",
       " 'F0semitoneFrom27.5Hz_sma3nz_stddevNorm',\n",
       " 'F0semitoneFrom27.5Hz_sma3nz_percentile20.0',\n",
       " 'F0semitoneFrom27.5Hz_sma3nz_percentile50.0',\n",
       " 'F0semitoneFrom27.5Hz_sma3nz_percentile80.0',\n",
       " 'F0semitoneFrom27.5Hz_sma3nz_pctlrange0-2',\n",
       " 'F0semitoneFrom27.5Hz_sma3nz_meanRisingSlope',\n",
       " 'F0semitoneFrom27.5Hz_sma3nz_stddevRisingSlope',\n",
       " 'F0semitoneFrom27.5Hz_sma3nz_meanFallingSlope',\n",
       " 'F0semitoneFrom27.5Hz_sma3nz_stddevFallingSlope',\n",
       " 'loudness_sma3_amean',\n",
       " 'loudness_sma3_stddevNorm',\n",
       " 'loudness_sma3_percentile20.0',\n",
       " 'loudness_sma3_percentile50.0',\n",
       " 'loudness_sma3_percentile80.0',\n",
       " 'loudness_sma3_pctlrange0-2',\n",
       " 'loudness_sma3_meanRisingSlope',\n",
       " 'loudness_sma3_stddevRisingSlope',\n",
       " 'loudness_sma3_meanFallingSlope',\n",
       " 'loudness_sma3_stddevFallingSlope',\n",
       " 'spectralFlux_sma3_amean',\n",
       " 'spectralFlux_sma3_stddevNorm',\n",
       " 'mfcc1_sma3_amean',\n",
       " 'mfcc1_sma3_stddevNorm',\n",
       " 'mfcc2_sma3_amean',\n",
       " 'mfcc2_sma3_stddevNorm',\n",
       " 'mfcc3_sma3_amean',\n",
       " 'mfcc3_sma3_stddevNorm',\n",
       " 'mfcc4_sma3_amean',\n",
       " 'mfcc4_sma3_stddevNorm',\n",
       " 'jitterLocal_sma3nz_amean',\n",
       " 'jitterLocal_sma3nz_stddevNorm',\n",
       " 'shimmerLocaldB_sma3nz_amean',\n",
       " 'shimmerLocaldB_sma3nz_stddevNorm',\n",
       " 'HNRdBACF_sma3nz_amean',\n",
       " 'HNRdBACF_sma3nz_stddevNorm',\n",
       " 'logRelF0-H1-H2_sma3nz_amean',\n",
       " 'logRelF0-H1-H2_sma3nz_stddevNorm',\n",
       " 'logRelF0-H1-A3_sma3nz_amean',\n",
       " 'logRelF0-H1-A3_sma3nz_stddevNorm',\n",
       " 'F1frequency_sma3nz_amean',\n",
       " 'F1frequency_sma3nz_stddevNorm',\n",
       " 'F1bandwidth_sma3nz_amean',\n",
       " 'F1bandwidth_sma3nz_stddevNorm',\n",
       " 'F1amplitudeLogRelF0_sma3nz_amean',\n",
       " 'F1amplitudeLogRelF0_sma3nz_stddevNorm',\n",
       " 'F2frequency_sma3nz_amean',\n",
       " 'F2frequency_sma3nz_stddevNorm',\n",
       " 'F2bandwidth_sma3nz_amean',\n",
       " 'F2bandwidth_sma3nz_stddevNorm',\n",
       " 'F2amplitudeLogRelF0_sma3nz_amean',\n",
       " 'F2amplitudeLogRelF0_sma3nz_stddevNorm',\n",
       " 'F3frequency_sma3nz_amean',\n",
       " 'F3frequency_sma3nz_stddevNorm',\n",
       " 'F3bandwidth_sma3nz_amean',\n",
       " 'F3bandwidth_sma3nz_stddevNorm',\n",
       " 'F3amplitudeLogRelF0_sma3nz_amean',\n",
       " 'F3amplitudeLogRelF0_sma3nz_stddevNorm',\n",
       " 'alphaRatioV_sma3nz_amean',\n",
       " 'alphaRatioV_sma3nz_stddevNorm',\n",
       " 'hammarbergIndexV_sma3nz_amean',\n",
       " 'hammarbergIndexV_sma3nz_stddevNorm',\n",
       " 'slopeV0-500_sma3nz_amean',\n",
       " 'slopeV0-500_sma3nz_stddevNorm',\n",
       " 'slopeV500-1500_sma3nz_amean',\n",
       " 'slopeV500-1500_sma3nz_stddevNorm',\n",
       " 'spectralFluxV_sma3nz_amean',\n",
       " 'spectralFluxV_sma3nz_stddevNorm',\n",
       " 'mfcc1V_sma3nz_amean',\n",
       " 'mfcc1V_sma3nz_stddevNorm',\n",
       " 'mfcc2V_sma3nz_amean',\n",
       " 'mfcc2V_sma3nz_stddevNorm',\n",
       " 'mfcc3V_sma3nz_amean',\n",
       " 'mfcc3V_sma3nz_stddevNorm',\n",
       " 'mfcc4V_sma3nz_amean',\n",
       " 'mfcc4V_sma3nz_stddevNorm',\n",
       " 'alphaRatioUV_sma3nz_amean',\n",
       " 'hammarbergIndexUV_sma3nz_amean',\n",
       " 'slopeUV0-500_sma3nz_amean',\n",
       " 'slopeUV500-1500_sma3nz_amean',\n",
       " 'spectralFluxUV_sma3nz_amean',\n",
       " 'loudnessPeaksPerSec',\n",
       " 'VoicedSegmentsPerSec',\n",
       " 'MeanVoicedSegmentLengthSec',\n",
       " 'StddevVoicedSegmentLengthSec',\n",
       " 'MeanUnvoicedSegmentLength',\n",
       " 'StddevUnvoicedSegmentLength',\n",
       " 'equivalentSoundLevel_dBp']"
      ]
     },
     "execution_count": 8,
     "metadata": {},
     "output_type": "execute_result"
    }
   ],
   "source": [
    "drop_columns = [\n",
    "    \"file_path\",\n",
    "    \"Unnamed: 0\",\n",
    "    \"modality\",\n",
    "    \"vocal_channel\",\n",
    "    #     \"emotion\",\n",
    "    \"emotional_intensity\",\n",
    "    \"statement\",\n",
    "    \"repetition\",\n",
    "    \"actor\",\n",
    "]\n",
    "num_columns = [x for x in num_columns if x not in drop_columns]\n",
    "num_columns"
   ]
  },
  {
   "cell_type": "code",
   "execution_count": 9,
   "metadata": {},
   "outputs": [],
   "source": [
    "df_proc = df_original[num_columns]  # .head(10000)"
   ]
  },
  {
   "cell_type": "markdown",
   "metadata": {},
   "source": [
    "## Split del dataset\n",
    "\n",
    "**TBD** -> Cambiar el split para la métrica usando leave two. Con eso reacomodaríamos."
   ]
  },
  {
   "cell_type": "code",
   "execution_count": 10,
   "metadata": {},
   "outputs": [],
   "source": [
    "from sklearn.model_selection import train_test_split\n",
    "\n",
    "X_train, X_test, y_train, y_test = train_test_split(\n",
    "    df_proc.loc[:, df_proc.columns != \"emotion\"],\n",
    "    df_proc[\"emotion\"],\n",
    "    stratify=df_proc[\"emotion\"],\n",
    "    random_state=PARAM_RANDOM_STATE,\n",
    ")"
   ]
  },
  {
   "cell_type": "code",
   "execution_count": 11,
   "metadata": {},
   "outputs": [],
   "source": [
    "labels_cm = [\"Neu.\", \"Calm\", \"Hap.\", \"Sad\", \"Angry\", \"Fear.\", \"Disg.\", \"Surpr.\"]"
   ]
  },
  {
   "cell_type": "markdown",
   "metadata": {},
   "source": [
    "## Groups"
   ]
  },
  {
   "cell_type": "code",
   "execution_count": 12,
   "metadata": {},
   "outputs": [],
   "source": [
    "# groups = (X_train.actor // 2) + (X_train.actor % 2)\n",
    "# logo = LeaveOneGroupOut()\n",
    "# logo.get_n_splits(X_train, y_train, groups)"
   ]
  },
  {
   "cell_type": "code",
   "execution_count": 13,
   "metadata": {},
   "outputs": [],
   "source": [
    "groups = (df_original.actor // 2) + (df_original.actor % 2)"
   ]
  },
  {
   "cell_type": "code",
   "execution_count": 14,
   "metadata": {},
   "outputs": [
    {
     "data": {
      "text/plain": [
       "11    208\n",
       "7     208\n",
       "5     208\n",
       "3     208\n",
       "1     208\n",
       "12    208\n",
       "10    208\n",
       "8     208\n",
       "6     208\n",
       "4     208\n",
       "2     208\n",
       "9     164\n",
       "Name: actor, dtype: int64"
      ]
     },
     "execution_count": 14,
     "metadata": {},
     "output_type": "execute_result"
    }
   ],
   "source": [
    "# sorted(groups)\n",
    "sorted(groups.unique())\n",
    "groups.value_counts()"
   ]
  },
  {
   "cell_type": "code",
   "execution_count": 15,
   "metadata": {
    "scrolled": false
   },
   "outputs": [
    {
     "data": {
      "text/plain": [
       "<AxesSubplot:>"
      ]
     },
     "execution_count": 15,
     "metadata": {},
     "output_type": "execute_result"
    },
    {
     "data": {
      "image/png": "[encoded data removed]",
      "text/plain": [
       "<Figure size 432x288 with 1 Axes>"
      ]
     },
     "metadata": {
      "needs_background": "light"
     },
     "output_type": "display_data"
    }
   ],
   "source": [
    "groups.sort_values().plot(kind=\"bar\")"
   ]
  },
  {
   "cell_type": "code",
   "execution_count": 16,
   "metadata": {},
   "outputs": [],
   "source": [
    "X_train = df_proc.loc[groups <= 10, df_proc.columns != \"emotion\"]\n",
    "X_val = df_proc.loc[groups == 11, df_proc.columns != \"emotion\"]\n",
    "X_train_val = df_proc.loc[groups <= 11, df_proc.columns != \"emotion\"]\n",
    "X_test = df_proc.loc[groups == 12, df_proc.columns != \"emotion\"]\n",
    "\n",
    "y_train = df_proc.loc[groups <= 10, \"emotion\"]\n",
    "y_val = df_proc.loc[groups == 11, \"emotion\"]\n",
    "y_train_val = df_proc.loc[groups <= 11, \"emotion\"]\n",
    "y_test = df_proc.loc[groups == 12, \"emotion\"]\n",
    "\n",
    "group_train = [x for x in groups if x <= 10]\n",
    "group_val = [x for x in groups if x == 11]\n",
    "group_train_val = [x for x in groups if x <= 11]\n",
    "group_test = [x for x in groups if x == 12]"
   ]
  },
  {
   "cell_type": "code",
   "execution_count": 17,
   "metadata": {
    "scrolled": false
   },
   "outputs": [
    {
     "data": {
      "text/html": [
       "<div>\n",
       "<style scoped>\n",
       "    .dataframe tbody tr th:only-of-type {\n",
       "        vertical-align: middle;\n",
       "    }\n",
       "\n",
       "    .dataframe tbody tr th {\n",
       "        vertical-align: top;\n",
       "    }\n",
       "\n",
       "    .dataframe thead th {\n",
       "        text-align: right;\n",
       "    }\n",
       "</style>\n",
       "<table border=\"1\" class=\"dataframe\">\n",
       "  <thead>\n",
       "    <tr style=\"text-align: right;\">\n",
       "      <th></th>\n",
       "      <th>F0semitoneFrom27.5Hz_sma3nz_amean</th>\n",
       "      <th>F0semitoneFrom27.5Hz_sma3nz_stddevNorm</th>\n",
       "      <th>F0semitoneFrom27.5Hz_sma3nz_percentile20.0</th>\n",
       "      <th>F0semitoneFrom27.5Hz_sma3nz_percentile50.0</th>\n",
       "      <th>F0semitoneFrom27.5Hz_sma3nz_percentile80.0</th>\n",
       "      <th>F0semitoneFrom27.5Hz_sma3nz_pctlrange0-2</th>\n",
       "      <th>F0semitoneFrom27.5Hz_sma3nz_meanRisingSlope</th>\n",
       "      <th>F0semitoneFrom27.5Hz_sma3nz_stddevRisingSlope</th>\n",
       "      <th>F0semitoneFrom27.5Hz_sma3nz_meanFallingSlope</th>\n",
       "      <th>F0semitoneFrom27.5Hz_sma3nz_stddevFallingSlope</th>\n",
       "      <th>...</th>\n",
       "      <th>slopeUV0-500_sma3nz_amean</th>\n",
       "      <th>slopeUV500-1500_sma3nz_amean</th>\n",
       "      <th>spectralFluxUV_sma3nz_amean</th>\n",
       "      <th>loudnessPeaksPerSec</th>\n",
       "      <th>VoicedSegmentsPerSec</th>\n",
       "      <th>MeanVoicedSegmentLengthSec</th>\n",
       "      <th>StddevVoicedSegmentLengthSec</th>\n",
       "      <th>MeanUnvoicedSegmentLength</th>\n",
       "      <th>StddevUnvoicedSegmentLength</th>\n",
       "      <th>equivalentSoundLevel_dBp</th>\n",
       "    </tr>\n",
       "  </thead>\n",
       "  <tbody>\n",
       "    <tr>\n",
       "      <th>0</th>\n",
       "      <td>31.162280</td>\n",
       "      <td>0.103659</td>\n",
       "      <td>28.436132</td>\n",
       "      <td>31.203695</td>\n",
       "      <td>34.530006</td>\n",
       "      <td>6.093874</td>\n",
       "      <td>71.695320</td>\n",
       "      <td>42.723774</td>\n",
       "      <td>66.826570</td>\n",
       "      <td>39.508957</td>\n",
       "      <td>...</td>\n",
       "      <td>0.075190</td>\n",
       "      <td>0.014015</td>\n",
       "      <td>0.022255</td>\n",
       "      <td>2.150538</td>\n",
       "      <td>1.089918</td>\n",
       "      <td>0.282500</td>\n",
       "      <td>0.126763</td>\n",
       "      <td>0.490000</td>\n",
       "      <td>0.397291</td>\n",
       "      <td>-36.658245</td>\n",
       "    </tr>\n",
       "    <tr>\n",
       "      <th>1</th>\n",
       "      <td>32.832066</td>\n",
       "      <td>0.058510</td>\n",
       "      <td>31.873330</td>\n",
       "      <td>32.315525</td>\n",
       "      <td>34.425636</td>\n",
       "      <td>2.552307</td>\n",
       "      <td>74.677790</td>\n",
       "      <td>91.683740</td>\n",
       "      <td>26.730692</td>\n",
       "      <td>17.436796</td>\n",
       "      <td>...</td>\n",
       "      <td>0.020998</td>\n",
       "      <td>0.009869</td>\n",
       "      <td>0.018871</td>\n",
       "      <td>1.492537</td>\n",
       "      <td>0.646552</td>\n",
       "      <td>0.820000</td>\n",
       "      <td>0.277248</td>\n",
       "      <td>0.527500</td>\n",
       "      <td>0.438770</td>\n",
       "      <td>-29.391884</td>\n",
       "    </tr>\n",
       "    <tr>\n",
       "      <th>2</th>\n",
       "      <td>27.816698</td>\n",
       "      <td>0.067164</td>\n",
       "      <td>26.149890</td>\n",
       "      <td>27.284214</td>\n",
       "      <td>29.173655</td>\n",
       "      <td>3.023764</td>\n",
       "      <td>62.032460</td>\n",
       "      <td>63.740650</td>\n",
       "      <td>15.968684</td>\n",
       "      <td>9.053174</td>\n",
       "      <td>...</td>\n",
       "      <td>0.047365</td>\n",
       "      <td>0.011048</td>\n",
       "      <td>0.011381</td>\n",
       "      <td>2.247191</td>\n",
       "      <td>0.569801</td>\n",
       "      <td>0.590000</td>\n",
       "      <td>0.160000</td>\n",
       "      <td>0.760000</td>\n",
       "      <td>0.296985</td>\n",
       "      <td>-43.332924</td>\n",
       "    </tr>\n",
       "    <tr>\n",
       "      <th>3</th>\n",
       "      <td>32.421530</td>\n",
       "      <td>0.047639</td>\n",
       "      <td>31.190117</td>\n",
       "      <td>31.982471</td>\n",
       "      <td>34.491623</td>\n",
       "      <td>3.301506</td>\n",
       "      <td>40.428272</td>\n",
       "      <td>57.734535</td>\n",
       "      <td>13.244412</td>\n",
       "      <td>10.956038</td>\n",
       "      <td>...</td>\n",
       "      <td>0.041743</td>\n",
       "      <td>0.012340</td>\n",
       "      <td>0.007390</td>\n",
       "      <td>1.394422</td>\n",
       "      <td>0.603622</td>\n",
       "      <td>0.930000</td>\n",
       "      <td>0.885701</td>\n",
       "      <td>0.527500</td>\n",
       "      <td>0.420260</td>\n",
       "      <td>-37.549572</td>\n",
       "    </tr>\n",
       "    <tr>\n",
       "      <th>4</th>\n",
       "      <td>27.446953</td>\n",
       "      <td>0.111269</td>\n",
       "      <td>24.586010</td>\n",
       "      <td>26.893717</td>\n",
       "      <td>29.436794</td>\n",
       "      <td>4.850784</td>\n",
       "      <td>44.066093</td>\n",
       "      <td>39.952390</td>\n",
       "      <td>21.916230</td>\n",
       "      <td>7.514049</td>\n",
       "      <td>...</td>\n",
       "      <td>0.053580</td>\n",
       "      <td>0.011590</td>\n",
       "      <td>0.005245</td>\n",
       "      <td>1.535088</td>\n",
       "      <td>0.886918</td>\n",
       "      <td>0.387500</td>\n",
       "      <td>0.206079</td>\n",
       "      <td>0.574000</td>\n",
       "      <td>0.424999</td>\n",
       "      <td>-43.261425</td>\n",
       "    </tr>\n",
       "    <tr>\n",
       "      <th>...</th>\n",
       "      <td>...</td>\n",
       "      <td>...</td>\n",
       "      <td>...</td>\n",
       "      <td>...</td>\n",
       "      <td>...</td>\n",
       "      <td>...</td>\n",
       "      <td>...</td>\n",
       "      <td>...</td>\n",
       "      <td>...</td>\n",
       "      <td>...</td>\n",
       "      <td>...</td>\n",
       "      <td>...</td>\n",
       "      <td>...</td>\n",
       "      <td>...</td>\n",
       "      <td>...</td>\n",
       "      <td>...</td>\n",
       "      <td>...</td>\n",
       "      <td>...</td>\n",
       "      <td>...</td>\n",
       "      <td>...</td>\n",
       "      <td>...</td>\n",
       "    </tr>\n",
       "    <tr>\n",
       "      <th>2239</th>\n",
       "      <td>33.384823</td>\n",
       "      <td>0.129291</td>\n",
       "      <td>29.832968</td>\n",
       "      <td>34.702780</td>\n",
       "      <td>36.774480</td>\n",
       "      <td>6.941511</td>\n",
       "      <td>182.749420</td>\n",
       "      <td>97.858444</td>\n",
       "      <td>94.744020</td>\n",
       "      <td>83.644226</td>\n",
       "      <td>...</td>\n",
       "      <td>0.120215</td>\n",
       "      <td>0.007377</td>\n",
       "      <td>0.020331</td>\n",
       "      <td>1.970443</td>\n",
       "      <td>1.246883</td>\n",
       "      <td>0.304000</td>\n",
       "      <td>0.177831</td>\n",
       "      <td>0.474000</td>\n",
       "      <td>0.398979</td>\n",
       "      <td>-38.670864</td>\n",
       "    </tr>\n",
       "    <tr>\n",
       "      <th>2240</th>\n",
       "      <td>44.803856</td>\n",
       "      <td>0.036632</td>\n",
       "      <td>43.755340</td>\n",
       "      <td>44.315247</td>\n",
       "      <td>46.523070</td>\n",
       "      <td>2.767731</td>\n",
       "      <td>19.188236</td>\n",
       "      <td>3.504527</td>\n",
       "      <td>7.420811</td>\n",
       "      <td>6.073164</td>\n",
       "      <td>...</td>\n",
       "      <td>0.124252</td>\n",
       "      <td>0.006430</td>\n",
       "      <td>0.009222</td>\n",
       "      <td>1.829268</td>\n",
       "      <td>1.437372</td>\n",
       "      <td>0.334286</td>\n",
       "      <td>0.253932</td>\n",
       "      <td>0.338571</td>\n",
       "      <td>0.450315</td>\n",
       "      <td>-41.181730</td>\n",
       "    </tr>\n",
       "    <tr>\n",
       "      <th>2241</th>\n",
       "      <td>45.137970</td>\n",
       "      <td>0.160381</td>\n",
       "      <td>38.204502</td>\n",
       "      <td>43.318493</td>\n",
       "      <td>54.491745</td>\n",
       "      <td>16.287243</td>\n",
       "      <td>297.005070</td>\n",
       "      <td>482.484800</td>\n",
       "      <td>80.743450</td>\n",
       "      <td>36.427788</td>\n",
       "      <td>...</td>\n",
       "      <td>0.101797</td>\n",
       "      <td>0.006154</td>\n",
       "      <td>0.036091</td>\n",
       "      <td>2.020202</td>\n",
       "      <td>1.278773</td>\n",
       "      <td>0.284000</td>\n",
       "      <td>0.136029</td>\n",
       "      <td>0.396667</td>\n",
       "      <td>0.468496</td>\n",
       "      <td>-35.436405</td>\n",
       "    </tr>\n",
       "    <tr>\n",
       "      <th>2242</th>\n",
       "      <td>36.912320</td>\n",
       "      <td>0.074441</td>\n",
       "      <td>34.913330</td>\n",
       "      <td>36.732590</td>\n",
       "      <td>39.113068</td>\n",
       "      <td>4.199738</td>\n",
       "      <td>43.395910</td>\n",
       "      <td>41.328815</td>\n",
       "      <td>120.333530</td>\n",
       "      <td>145.930900</td>\n",
       "      <td>...</td>\n",
       "      <td>0.110965</td>\n",
       "      <td>0.011310</td>\n",
       "      <td>0.010739</td>\n",
       "      <td>2.313625</td>\n",
       "      <td>1.562500</td>\n",
       "      <td>0.243333</td>\n",
       "      <td>0.238723</td>\n",
       "      <td>0.321429</td>\n",
       "      <td>0.451519</td>\n",
       "      <td>-44.980280</td>\n",
       "    </tr>\n",
       "    <tr>\n",
       "      <th>2243</th>\n",
       "      <td>37.919730</td>\n",
       "      <td>0.086249</td>\n",
       "      <td>36.324245</td>\n",
       "      <td>37.561394</td>\n",
       "      <td>39.467224</td>\n",
       "      <td>3.142979</td>\n",
       "      <td>70.663250</td>\n",
       "      <td>30.958630</td>\n",
       "      <td>60.976696</td>\n",
       "      <td>65.553024</td>\n",
       "      <td>...</td>\n",
       "      <td>0.087361</td>\n",
       "      <td>0.008799</td>\n",
       "      <td>0.026411</td>\n",
       "      <td>1.682692</td>\n",
       "      <td>0.973236</td>\n",
       "      <td>0.430000</td>\n",
       "      <td>0.209165</td>\n",
       "      <td>0.460000</td>\n",
       "      <td>0.415548</td>\n",
       "      <td>-30.640230</td>\n",
       "    </tr>\n",
       "  </tbody>\n",
       "</table>\n",
       "<p>208 rows × 88 columns</p>\n",
       "</div>"
      ],
      "text/plain": [
       "      F0semitoneFrom27.5Hz_sma3nz_amean  \\\n",
       "0                             31.162280   \n",
       "1                             32.832066   \n",
       "2                             27.816698   \n",
       "3                             32.421530   \n",
       "4                             27.446953   \n",
       "...                                 ...   \n",
       "2239                          33.384823   \n",
       "2240                          44.803856   \n",
       "2241                          45.137970   \n",
       "2242                          36.912320   \n",
       "2243                          37.919730   \n",
       "\n",
       "      F0semitoneFrom27.5Hz_sma3nz_stddevNorm  \\\n",
       "0                                   0.103659   \n",
       "1                                   0.058510   \n",
       "2                                   0.067164   \n",
       "3                                   0.047639   \n",
       "4                                   0.111269   \n",
       "...                                      ...   \n",
       "2239                                0.129291   \n",
       "2240                                0.036632   \n",
       "2241                                0.160381   \n",
       "2242                                0.074441   \n",
       "2243                                0.086249   \n",
       "\n",
       "      F0semitoneFrom27.5Hz_sma3nz_percentile20.0  \\\n",
       "0                                      28.436132   \n",
       "1                                      31.873330   \n",
       "2                                      26.149890   \n",
       "3                                      31.190117   \n",
       "4                                      24.586010   \n",
       "...                                          ...   \n",
       "2239                                   29.832968   \n",
       "2240                                   43.755340   \n",
       "2241                                   38.204502   \n",
       "2242                                   34.913330   \n",
       "2243                                   36.324245   \n",
       "\n",
       "      F0semitoneFrom27.5Hz_sma3nz_percentile50.0  \\\n",
       "0                                      31.203695   \n",
       "1                                      32.315525   \n",
       "2                                      27.284214   \n",
       "3                                      31.982471   \n",
       "4                                      26.893717   \n",
       "...                                          ...   \n",
       "2239                                   34.702780   \n",
       "2240                                   44.315247   \n",
       "2241                                   43.318493   \n",
       "2242                                   36.732590   \n",
       "2243                                   37.561394   \n",
       "\n",
       "      F0semitoneFrom27.5Hz_sma3nz_percentile80.0  \\\n",
       "0                                      34.530006   \n",
       "1                                      34.425636   \n",
       "2                                      29.173655   \n",
       "3                                      34.491623   \n",
       "4                                      29.436794   \n",
       "...                                          ...   \n",
       "2239                                   36.774480   \n",
       "2240                                   46.523070   \n",
       "2241                                   54.491745   \n",
       "2242                                   39.113068   \n",
       "2243                                   39.467224   \n",
       "\n",
       "      F0semitoneFrom27.5Hz_sma3nz_pctlrange0-2  \\\n",
       "0                                     6.093874   \n",
       "1                                     2.552307   \n",
       "2                                     3.023764   \n",
       "3                                     3.301506   \n",
       "4                                     4.850784   \n",
       "...                                        ...   \n",
       "2239                                  6.941511   \n",
       "2240                                  2.767731   \n",
       "2241                                 16.287243   \n",
       "2242                                  4.199738   \n",
       "2243                                  3.142979   \n",
       "\n",
       "      F0semitoneFrom27.5Hz_sma3nz_meanRisingSlope  \\\n",
       "0                                       71.695320   \n",
       "1                                       74.677790   \n",
       "2                                       62.032460   \n",
       "3                                       40.428272   \n",
       "4                                       44.066093   \n",
       "...                                           ...   \n",
       "2239                                   182.749420   \n",
       "2240                                    19.188236   \n",
       "2241                                   297.005070   \n",
       "2242                                    43.395910   \n",
       "2243                                    70.663250   \n",
       "\n",
       "      F0semitoneFrom27.5Hz_sma3nz_stddevRisingSlope  \\\n",
       "0                                         42.723774   \n",
       "1                                         91.683740   \n",
       "2                                         63.740650   \n",
       "3                                         57.734535   \n",
       "4                                         39.952390   \n",
       "...                                             ...   \n",
       "2239                                      97.858444   \n",
       "2240                                       3.504527   \n",
       "2241                                     482.484800   \n",
       "2242                                      41.328815   \n",
       "2243                                      30.958630   \n",
       "\n",
       "      F0semitoneFrom27.5Hz_sma3nz_meanFallingSlope  \\\n",
       "0                                        66.826570   \n",
       "1                                        26.730692   \n",
       "2                                        15.968684   \n",
       "3                                        13.244412   \n",
       "4                                        21.916230   \n",
       "...                                            ...   \n",
       "2239                                     94.744020   \n",
       "2240                                      7.420811   \n",
       "2241                                     80.743450   \n",
       "2242                                    120.333530   \n",
       "2243                                     60.976696   \n",
       "\n",
       "      F0semitoneFrom27.5Hz_sma3nz_stddevFallingSlope  ...  \\\n",
       "0                                          39.508957  ...   \n",
       "1                                          17.436796  ...   \n",
       "2                                           9.053174  ...   \n",
       "3                                          10.956038  ...   \n",
       "4                                           7.514049  ...   \n",
       "...                                              ...  ...   \n",
       "2239                                       83.644226  ...   \n",
       "2240                                        6.073164  ...   \n",
       "2241                                       36.427788  ...   \n",
       "2242                                      145.930900  ...   \n",
       "2243                                       65.553024  ...   \n",
       "\n",
       "      slopeUV0-500_sma3nz_amean  slopeUV500-1500_sma3nz_amean  \\\n",
       "0                      0.075190                      0.014015   \n",
       "1                      0.020998                      0.009869   \n",
       "2                      0.047365                      0.011048   \n",
       "3                      0.041743                      0.012340   \n",
       "4                      0.053580                      0.011590   \n",
       "...                         ...                           ...   \n",
       "2239                   0.120215                      0.007377   \n",
       "2240                   0.124252                      0.006430   \n",
       "2241                   0.101797                      0.006154   \n",
       "2242                   0.110965                      0.011310   \n",
       "2243                   0.087361                      0.008799   \n",
       "\n",
       "      spectralFluxUV_sma3nz_amean  loudnessPeaksPerSec  VoicedSegmentsPerSec  \\\n",
       "0                        0.022255             2.150538              1.089918   \n",
       "1                        0.018871             1.492537              0.646552   \n",
       "2                        0.011381             2.247191              0.569801   \n",
       "3                        0.007390             1.394422              0.603622   \n",
       "4                        0.005245             1.535088              0.886918   \n",
       "...                           ...                  ...                   ...   \n",
       "2239                     0.020331             1.970443              1.246883   \n",
       "2240                     0.009222             1.829268              1.437372   \n",
       "2241                     0.036091             2.020202              1.278773   \n",
       "2242                     0.010739             2.313625              1.562500   \n",
       "2243                     0.026411             1.682692              0.973236   \n",
       "\n",
       "      MeanVoicedSegmentLengthSec  StddevVoicedSegmentLengthSec  \\\n",
       "0                       0.282500                      0.126763   \n",
       "1                       0.820000                      0.277248   \n",
       "2                       0.590000                      0.160000   \n",
       "3                       0.930000                      0.885701   \n",
       "4                       0.387500                      0.206079   \n",
       "...                          ...                           ...   \n",
       "2239                    0.304000                      0.177831   \n",
       "2240                    0.334286                      0.253932   \n",
       "2241                    0.284000                      0.136029   \n",
       "2242                    0.243333                      0.238723   \n",
       "2243                    0.430000                      0.209165   \n",
       "\n",
       "      MeanUnvoicedSegmentLength  StddevUnvoicedSegmentLength  \\\n",
       "0                      0.490000                     0.397291   \n",
       "1                      0.527500                     0.438770   \n",
       "2                      0.760000                     0.296985   \n",
       "3                      0.527500                     0.420260   \n",
       "4                      0.574000                     0.424999   \n",
       "...                         ...                          ...   \n",
       "2239                   0.474000                     0.398979   \n",
       "2240                   0.338571                     0.450315   \n",
       "2241                   0.396667                     0.468496   \n",
       "2242                   0.321429                     0.451519   \n",
       "2243                   0.460000                     0.415548   \n",
       "\n",
       "      equivalentSoundLevel_dBp  \n",
       "0                   -36.658245  \n",
       "1                   -29.391884  \n",
       "2                   -43.332924  \n",
       "3                   -37.549572  \n",
       "4                   -43.261425  \n",
       "...                        ...  \n",
       "2239                -38.670864  \n",
       "2240                -41.181730  \n",
       "2241                -35.436405  \n",
       "2242                -44.980280  \n",
       "2243                -30.640230  \n",
       "\n",
       "[208 rows x 88 columns]"
      ]
     },
     "execution_count": 17,
     "metadata": {},
     "output_type": "execute_result"
    }
   ],
   "source": [
    "X_test"
   ]
  },
  {
   "cell_type": "markdown",
   "metadata": {},
   "source": [
    "## Desarrollo de modelos de ensamble\n",
    "\n",
    "B) Elegir un modelo de ensamble visto durante las clases y entrenarlo para predecir emociones dividiendo el dataset de las siguientes maneras:\n",
    "    i) 12-fold cross validation armando los folds de forma aleatoria.\n",
    "    ii) Leave-2-speakers out. Es decir, 12 folds conteniendo cada uno 2 actores distintos. Se recomienda utilizar la función de sklearn LeaveOneGroupOut\n",
    "\n",
    "Reportar los resultados obtenidos y realizar un análisis de los mismos, teniendo en cuenta las características del dataset utilizado."
   ]
  },
  {
   "cell_type": "markdown",
   "metadata": {},
   "source": [
    "### Métricas\n",
    "\n",
    "f1. \n",
    "\n",
    "Si no está desbalanceado accuracy puede ser bien. \n",
    "\n",
    "F1 es un poco más robusta, pensando en que tiene en cuenta recall y precision."
   ]
  },
  {
   "cell_type": "code",
   "execution_count": 18,
   "metadata": {
    "scrolled": true
   },
   "outputs": [
    {
     "data": {
      "text/plain": [
       "<BarContainer object of 8 artists>"
      ]
     },
     "execution_count": 18,
     "metadata": {},
     "output_type": "execute_result"
    },
    {
     "data": {
      "image/png": "[encoded data removed]",
      "text/plain": [
       "<Figure size 432x288 with 1 Axes>"
      ]
     },
     "metadata": {
      "needs_background": "light"
     },
     "output_type": "display_data"
    }
   ],
   "source": [
    "plt.bar(\n",
    "    df_proc.groupby([\"emotion\"]).loudness_sma3_amean.count().index,\n",
    "    df_proc.groupby([\"emotion\"]).loudness_sma3_amean.count(),\n",
    ")"
   ]
  },
  {
   "cell_type": "markdown",
   "metadata": {},
   "source": [
    "### Método elegido\n",
    "\n",
    "Bagging con n árboles\n"
   ]
  },
  {
   "cell_type": "markdown",
   "metadata": {},
   "source": [
    "### Árboles y búsqueda de hiperparámetros\n",
    "\n",
    "Random search en 5000 árboles. Guardar esos 5000 en un pickle/csv para recuperarlo rápido. Quedarnos con el top 100."
   ]
  },
  {
   "cell_type": "markdown",
   "metadata": {},
   "source": [
    "#### Setup mlflow\n",
    "Mlflow es una herramienta para versionado de modelos. Permite registrar paramétros, métricas y guardar los modelos entrenados asociados a una iteración.\n",
    "\n",
    "En caso de no ser necesario comentar estas lineas."
   ]
  },
  {
   "cell_type": "code",
   "execution_count": 19,
   "metadata": {},
   "outputs": [],
   "source": [
    "# # now = datetime.datetime.now()\n",
    "# mlflow.set_tracking_uri(\"http://mlflow_server:5000\")\n",
    "# tracking_uri = mlflow.get_tracking_uri()\n",
    "# print(\"Current tracking uri: {}\".format(tracking_uri))"
   ]
  },
  {
   "cell_type": "code",
   "execution_count": 20,
   "metadata": {},
   "outputs": [],
   "source": [
    "# # No hace falta el create, el set lo crea si no existe\n",
    "# experiment = mlflow.set_experiment(\n",
    "#     \"AA.TP2.RandomizedSearchCV.{0}\".format(now.strftime(\"%Y-%m-%d\"))\n",
    "# )"
   ]
  },
  {
   "cell_type": "markdown",
   "metadata": {},
   "source": [
    "### Bagging propiamente dicho"
   ]
  },
  {
   "cell_type": "markdown",
   "metadata": {},
   "source": [
    "Combinan strong learners, los cuales tienen varianza alta, para reducir su varianza. El bagging consiste en utilizar distintos subsets de los datos de entrenamiento para entrenar cada learner. Los subsets se generan tomando muestras con reemplazo. Si no se hace reemplazo se denomina **pasting**, y si en lugar de tomar subsets sobre los datos, los tomamos sobre los atributos, se denomina **random subspaces**. La combinación de bagging y random subspaces se denomina **random patches**.\n",
    "\n",
    "https://www.pluralsight.com/guides/ensemble-methods:-bagging-versus-boosting\n",
    "\n",
    "Scikit Learn cuenta un tipo de objetos llamados meta-estimadores para representar a los ensambles. Este nombre se debe a que estos meta-estimadores necesitan definir estimadores base que van a ser justamente los modelos que se ajusten en cada uno de los pasos de bootstrapping. Como modelos/estimadores base podemos instanciar cualquier estimador de sklearn. Para el caso de Bagging, el meta-estimador para clasificación es:\n",
    "\n",
    "https://scikit-learn.org/stable/modules/generated/sklearn.ensemble.BaggingClassifier.html\n",
    "\n",
    "Este objeto tiene como principal parámetro a base_estimator en el cual instanciaremos un modelo. Veamos un pequeño ejemplo:"
   ]
  },
  {
   "cell_type": "markdown",
   "metadata": {},
   "source": [
    "**tbd** Acomodarlo a los árboles que usamos"
   ]
  },
  {
   "cell_type": "code",
   "execution_count": 21,
   "metadata": {},
   "outputs": [],
   "source": [
    "# Version 0 del árbol\n",
    "\n",
    "# kfold = KFold(n_splits = 12,\n",
    "#                        random_state = PARAM_RANDOM_STATE, shuffle=True)\n",
    "\n",
    "# # initialize the base classifier\n",
    "# # TBD: Inicializar con el mejor árbol\n",
    "# #      ¿Se puede inicializar con n arboles?\n",
    "# # TBD: Hacer un par y compararlos? Tiene sentido?\n",
    "# base_cls = DecisionTreeClassifier()\n",
    "\n",
    "# # no. of base classifier\n",
    "# num_trees = 1000\n",
    "\n",
    "# # bagging classifier\n",
    "# model = BaggingClassifier(base_estimator = base_cls,\n",
    "#                           n_estimators = num_trees,\n",
    "#                           random_state = PARAM_RANDOM_STATE)\n",
    "\n",
    "# # max_samples en float nos dice que porcentaje del training set queremos remuestrear\n",
    "# # max_features nos da un grado mas de aleatorizacion, muestreo en las columnas/features del conjunto de datos\n",
    "# results = cross_val_score(model, X_train, y_train, cv = kfold)\n",
    "\n",
    "# # fit\n",
    "# model.fit(X_train, y_train)"
   ]
  },
  {
   "cell_type": "code",
   "execution_count": 22,
   "metadata": {},
   "outputs": [
    {
     "name": "stderr",
     "output_type": "stream",
     "text": [
      "[Parallel(n_jobs=10)]: Using backend LokyBackend with 10 concurrent workers.\n",
      "[Parallel(n_jobs=10)]: Done   2 out of  10 | elapsed:   11.0s remaining:   44.2s\n"
     ]
    },
    {
     "name": "stdout",
     "output_type": "stream",
     "text": [
      "Tiempo: 137.49 segundos\n"
     ]
    },
    {
     "name": "stderr",
     "output_type": "stream",
     "text": [
      "[Parallel(n_jobs=10)]: Done  10 out of  10 | elapsed:   12.2s finished\n"
     ]
    }
   ],
   "source": [
    "start = time.time()\n",
    "\n",
    "kfold = StratifiedKFold(n_splits=12, random_state=PARAM_RANDOM_STATE, shuffle=True)\n",
    "# seteamos una metrica apropiada al problema multiclase\n",
    "scorer_fn = make_scorer(\n",
    "    f1_score, average=\"weighted\"\n",
    ")  \n",
    "\n",
    "base_cls = DecisionTreeClassifier(class_weight=\"balanced\")\n",
    "\n",
    "# no. of base classifier\n",
    "num_trees = 500\n",
    "\n",
    "# bagging classifier\n",
    "model = BaggingClassifier(\n",
    "    base_estimator=base_cls,\n",
    "    n_estimators=num_trees,\n",
    "    random_state=PARAM_RANDOM_STATE,\n",
    "    # shuffle=True,\n",
    "    n_jobs=10,\n",
    "    verbose=True,\n",
    ")\n",
    "\n",
    "results_f1 = cross_val_score(\n",
    "    estimator=model, X=X_train, y=y_train, cv=kfold, n_jobs=10, scoring=scorer_fn\n",
    ")\n",
    "model.fit(X_train, y_train)\n",
    "\n",
    "end = time.time()\n",
    "print(f\"Tiempo: { round(end - start, 2) } segundos\")"
   ]
  },
  {
   "cell_type": "code",
   "execution_count": 23,
   "metadata": {},
   "outputs": [],
   "source": [
    "# Ref: https://machinelearningmastery.com/save-load-machine-learning-models-python-scikit-learn/\n",
    "# pickle.dump(model, open('03.02.Bagging_stratified_balanced.pkl', 'wb'))"
   ]
  },
  {
   "cell_type": "code",
   "execution_count": 24,
   "metadata": {},
   "outputs": [],
   "source": [
    "# En caso de estar reejecutando => load model\n",
    "# loaded_model = pickle.load(open('03.02.Bagging_balanced.pkl', 'rb'))\n",
    "loaded_model = pickle.load(open(\"03.02.Bagging_stratified_balanced.pkl\", \"rb\"))"
   ]
  },
  {
   "cell_type": "code",
   "execution_count": 25,
   "metadata": {},
   "outputs": [
    {
     "name": "stderr",
     "output_type": "stream",
     "text": [
      "[Parallel(n_jobs=10)]: Using backend LokyBackend with 10 concurrent workers.\n",
      "[Parallel(n_jobs=10)]: Done   2 out of  10 | elapsed:    0.2s remaining:    0.8s\n",
      "[Parallel(n_jobs=10)]: Done  10 out of  10 | elapsed:    0.7s finished\n",
      "[Parallel(n_jobs=10)]: Using backend LokyBackend with 10 concurrent workers.\n",
      "[Parallel(n_jobs=10)]: Done   2 out of  10 | elapsed:    0.2s remaining:    0.9s\n",
      "[Parallel(n_jobs=10)]: Done  10 out of  10 | elapsed:    0.8s finished\n",
      "[Parallel(n_jobs=10)]: Using backend LokyBackend with 10 concurrent workers.\n",
      "[Parallel(n_jobs=10)]: Done   2 out of  10 | elapsed:    0.3s remaining:    1.0s\n",
      "[Parallel(n_jobs=10)]: Done  10 out of  10 | elapsed:    0.8s finished\n",
      "[Parallel(n_jobs=10)]: Using backend LokyBackend with 10 concurrent workers.\n"
     ]
    },
    {
     "name": "stdout",
     "output_type": "stream",
     "text": [
      "Accuracy training : 1.000\n"
     ]
    },
    {
     "name": "stderr",
     "output_type": "stream",
     "text": [
      "[Parallel(n_jobs=10)]: Done   2 out of  10 | elapsed:    0.2s remaining:    0.7s\n"
     ]
    },
    {
     "name": "stdout",
     "output_type": "stream",
     "text": [
      "Accuracy test: 0.567\n",
      "Train acc: 1.0\n",
      "Test acc: 0.5673076923076923\n",
      "Test recall: 0.5673076923076923\n",
      "Test F1: 0.5705818371177761\n",
      "Test F2: 0.5637935741211533\n"
     ]
    },
    {
     "name": "stderr",
     "output_type": "stream",
     "text": [
      "[Parallel(n_jobs=10)]: Done  10 out of  10 | elapsed:    0.6s finished\n"
     ]
    }
   ],
   "source": [
    "y_pred_test = loaded_model.predict(X_test)\n",
    "y_pred_train = loaded_model.predict(X_train)\n",
    "# evaluación\n",
    "print(\"Accuracy training : {:.3f}\".format(loaded_model.score(X_train, y_train)))\n",
    "print(\"Accuracy test: {:.3f}\".format(loaded_model.score(X_test, y_test)))\n",
    "\n",
    "print(\"Train acc: {}\".format(accuracy_score(y_train, y_pred_train)))\n",
    "print(\"Test acc: {}\".format(accuracy_score(y_test, y_pred_test)))\n",
    "print(\"Test recall: {}\".format(recall_score(y_test, y_pred_test, average=\"weighted\")))\n",
    "print(\n",
    "    \"Test F1: {}\".format(fbeta_score(y_test, y_pred_test, beta=1, average=\"weighted\"))\n",
    ")\n",
    "print(\n",
    "    \"Test F2: {}\".format(fbeta_score(y_test, y_pred_test, beta=2, average=\"weighted\"))\n",
    ")"
   ]
  },
  {
   "cell_type": "code",
   "execution_count": 26,
   "metadata": {
    "scrolled": true
   },
   "outputs": [
    {
     "name": "stdout",
     "output_type": "stream",
     "text": [
      "              precision    recall  f1-score   support\n",
      "\n",
      "           1       0.32      0.62      0.43        16\n",
      "           2       0.73      0.69      0.71        32\n",
      "           3       0.48      0.34      0.40        32\n",
      "           4       0.50      0.56      0.53        32\n",
      "           5       0.80      0.62      0.70        32\n",
      "           6       0.73      0.59      0.66        32\n",
      "           7       0.71      0.31      0.43        16\n",
      "           8       0.43      0.81      0.57        16\n",
      "\n",
      "    accuracy                           0.57       208\n",
      "   macro avg       0.59      0.57      0.55       208\n",
      "weighted avg       0.61      0.57      0.57       208\n",
      "\n"
     ]
    }
   ],
   "source": [
    "print(classification_report(y_test, y_pred_test))"
   ]
  },
  {
   "cell_type": "markdown",
   "metadata": {},
   "source": [
    "En esta implementación del *BaggingClassifier* no es necesario usar estimadores base que sean *strong learners*, podemos usar cualquier tipo de estimador. Sin embargo, para que bagging performe mejor que el modelo base, si es necesaria esta condición. "
   ]
  },
  {
   "cell_type": "markdown",
   "metadata": {},
   "source": [
    "### 12-fold cross validation"
   ]
  },
  {
   "cell_type": "code",
   "execution_count": 27,
   "metadata": {},
   "outputs": [],
   "source": [
    "# scores = cross_val_score(estimator=loaded_model, X=X_train, y=y_train, cv=12, n_jobs=4)"
   ]
  },
  {
   "cell_type": "code",
   "execution_count": 28,
   "metadata": {},
   "outputs": [],
   "source": [
    "all_metrics = []\n",
    "metric_labels = []"
   ]
  },
  {
   "cell_type": "code",
   "execution_count": 29,
   "metadata": {},
   "outputs": [],
   "source": [
    "k_folds_accs = []\n",
    "k_folds_precisions = []\n",
    "k_folds_recalls = []\n",
    "k_folds_f1 = []\n",
    "k_folds_f2 = []"
   ]
  },
  {
   "cell_type": "code",
   "execution_count": 30,
   "metadata": {},
   "outputs": [
    {
     "name": "stdout",
     "output_type": "stream",
     "text": [
      "Tiempo: 1239.39 segundos\n"
     ]
    }
   ],
   "source": [
    "start = time.time()\n",
    "\n",
    "k_folds_accs = cross_val_score(\n",
    "    estimator=loaded_model, X=X_train, y=y_train, cv=12, n_jobs=4\n",
    ")\n",
    "scorer_precision = make_scorer(precision_score, average=\"weighted\")\n",
    "k_folds_precisions = cross_val_score(\n",
    "    estimator=loaded_model,\n",
    "    X=X_train,\n",
    "    y=y_train,\n",
    "    cv=12,\n",
    "    n_jobs=4,\n",
    "    scoring=scorer_precision,\n",
    ")\n",
    "scorer_recall = make_scorer(recall_score, average=\"weighted\")\n",
    "k_folds_recalls = cross_val_score(\n",
    "    estimator=loaded_model, X=X_train, y=y_train, cv=12, n_jobs=4, scoring=scorer_recall\n",
    ")\n",
    "scorer_f1 = make_scorer(fbeta_score, beta=1, average=\"weighted\")\n",
    "k_folds_f1 = cross_val_score(\n",
    "    estimator=loaded_model, X=X_train, y=y_train, cv=12, n_jobs=4, scoring=scorer_f1\n",
    ")\n",
    "# Scorer que vamos a usar durante el notebook\n",
    "scorer_f2 = make_scorer(fbeta_score, beta=2, average=\"weighted\")\n",
    "k_folds_f2.append(\n",
    "    cross_val_score(\n",
    "        estimator=loaded_model, X=X_train, y=y_train, cv=12, n_jobs=4, scoring=scorer_f2\n",
    "    )\n",
    ")\n",
    "\n",
    "end = time.time()\n",
    "print(f\"Tiempo: { round(end - start, 2) } segundos\")"
   ]
  },
  {
   "cell_type": "code",
   "execution_count": 31,
   "metadata": {},
   "outputs": [],
   "source": [
    "all_metrics = (\n",
    "    all_metrics\n",
    "    + list(k_folds_accs)\n",
    "    + list(k_folds_precisions)\n",
    "    + list(k_folds_recalls)\n",
    "    + list(k_folds_f1)\n",
    "    + list(k_folds_f2[0])\n",
    ")\n",
    "metric_labels = (\n",
    "    metric_labels\n",
    "    + [\"Accuracy\"] * len(k_folds_accs)\n",
    "    + [\"Precision\"] * len(k_folds_precisions)\n",
    "    + [\"Recall\"] * len(k_folds_recalls)\n",
    "    + [\"F1 Score\"] * len(k_folds_f1)\n",
    "    + [\"F2 Score\"] * len(k_folds_f2[0])\n",
    ")"
   ]
  },
  {
   "cell_type": "code",
   "execution_count": 32,
   "metadata": {},
   "outputs": [
    {
     "data": {
      "text/plain": [
       "60"
      ]
     },
     "execution_count": 32,
     "metadata": {},
     "output_type": "execute_result"
    }
   ],
   "source": [
    "len(all_metrics)"
   ]
  },
  {
   "cell_type": "code",
   "execution_count": 33,
   "metadata": {
    "scrolled": true
   },
   "outputs": [
    {
     "data": {
      "text/plain": [
       "[0.5941176470588235,\n",
       " 0.5058823529411764,\n",
       " 0.49411764705882355,\n",
       " 0.6941176470588235,\n",
       " 0.5882352941176471,\n",
       " 0.5529411764705883,\n",
       " 0.5882352941176471,\n",
       " 0.6058823529411764,\n",
       " 0.48520710059171596,\n",
       " 0.5680473372781065,\n",
       " 0.5088757396449705,\n",
       " 0.5207100591715976,\n",
       " 0.6176583053438729,\n",
       " 0.5613191434931744,\n",
       " 0.5517448680351906,\n",
       " 0.7083645315711423,\n",
       " 0.6337701697279703,\n",
       " 0.5804008684813639,\n",
       " 0.6249807169244509,\n",
       " 0.648516143299425,\n",
       " 0.5474974301061257,\n",
       " 0.5833118298705343,\n",
       " 0.5160148644894547,\n",
       " 0.5145869408813788,\n",
       " 0.5941176470588235,\n",
       " 0.5058823529411764,\n",
       " 0.49411764705882355,\n",
       " 0.6941176470588235,\n",
       " 0.5882352941176471,\n",
       " 0.5529411764705883,\n",
       " 0.5882352941176471,\n",
       " 0.6058823529411764,\n",
       " 0.48520710059171596,\n",
       " 0.5680473372781065,\n",
       " 0.5088757396449705,\n",
       " 0.5207100591715976,\n",
       " 0.5853256134989882,\n",
       " 0.49838719502868417,\n",
       " 0.4920223056855728,\n",
       " 0.6902240771439846,\n",
       " 0.5735838375114856,\n",
       " 0.5495896248734704,\n",
       " 0.5824679845014062,\n",
       " 0.5890551780665825,\n",
       " 0.4804748772712159,\n",
       " 0.564015743455187,\n",
       " 0.4974573512753374,\n",
       " 0.5046324966974025,\n",
       " 0.586475121449546,\n",
       " 0.49619641297434053,\n",
       " 0.48818599388753686,\n",
       " 0.6900555512317176,\n",
       " 0.5776970424497648,\n",
       " 0.5482345224985302,\n",
       " 0.5810705708553696,\n",
       " 0.5935787675441526,\n",
       " 0.47383223639493754,\n",
       " 0.5638348273567121,\n",
       " 0.5008412727918519,\n",
       " 0.5117324907144974]"
      ]
     },
     "execution_count": 33,
     "metadata": {},
     "output_type": "execute_result"
    }
   ],
   "source": [
    "all_metrics"
   ]
  },
  {
   "cell_type": "markdown",
   "metadata": {},
   "source": [
    "### Leave-2-speakers out."
   ]
  },
  {
   "cell_type": "code",
   "execution_count": 34,
   "metadata": {
    "scrolled": false
   },
   "outputs": [
    {
     "data": {
      "text/plain": [
       "[1,\n",
       " 2,\n",
       " 3,\n",
       " 4,\n",
       " 5,\n",
       " 6,\n",
       " 7,\n",
       " 8,\n",
       " 9,\n",
       " 10,\n",
       " 11,\n",
       " 12,\n",
       " 13,\n",
       " 14,\n",
       " 15,\n",
       " 16,\n",
       " 17,\n",
       " 18,\n",
       " 19,\n",
       " 20,\n",
       " 21,\n",
       " 22,\n",
       " 23,\n",
       " 24]"
      ]
     },
     "execution_count": 34,
     "metadata": {},
     "output_type": "execute_result"
    }
   ],
   "source": [
    "sorted(df_original.actor.unique())"
   ]
  },
  {
   "cell_type": "code",
   "execution_count": 35,
   "metadata": {},
   "outputs": [],
   "source": [
    "groups = (df_original.actor // 2) + (df_original.actor % 2)"
   ]
  },
  {
   "cell_type": "code",
   "execution_count": 36,
   "metadata": {},
   "outputs": [
    {
     "data": {
      "text/plain": [
       "11    208\n",
       "7     208\n",
       "5     208\n",
       "3     208\n",
       "1     208\n",
       "12    208\n",
       "10    208\n",
       "8     208\n",
       "6     208\n",
       "4     208\n",
       "2     208\n",
       "9     164\n",
       "Name: actor, dtype: int64"
      ]
     },
     "execution_count": 36,
     "metadata": {},
     "output_type": "execute_result"
    }
   ],
   "source": [
    "# sorted(groups)\n",
    "sorted(groups.unique())\n",
    "groups.value_counts()"
   ]
  },
  {
   "cell_type": "code",
   "execution_count": 37,
   "metadata": {},
   "outputs": [
    {
     "data": {
      "text/plain": [
       "<AxesSubplot:>"
      ]
     },
     "execution_count": 37,
     "metadata": {},
     "output_type": "execute_result"
    },
    {
     "data": {
      "image/png": "[encoded data removed]",
      "text/plain": [
       "<Figure size 432x288 with 1 Axes>"
      ]
     },
     "metadata": {
      "needs_background": "light"
     },
     "output_type": "display_data"
    }
   ],
   "source": [
    "groups.sort_values().plot(kind=\"bar\")"
   ]
  },
  {
   "cell_type": "code",
   "execution_count": 38,
   "metadata": {},
   "outputs": [
    {
     "name": "stdout",
     "output_type": "stream",
     "text": [
      "count: 2036\n",
      "count: 2036\n",
      "count: 2452\n"
     ]
    }
   ],
   "source": [
    "print(f\"count: {len(X_train)}\")\n",
    "print(f\"count: {len(y_train)}\")\n",
    "print(f\"count: {len(groups)}\")"
   ]
  },
  {
   "cell_type": "code",
   "execution_count": 39,
   "metadata": {},
   "outputs": [
    {
     "name": "stdout",
     "output_type": "stream",
     "text": [
      "count: (2036, 88)\n",
      "count: (2036,)\n",
      "count: (2452,)\n"
     ]
    }
   ],
   "source": [
    "print(f\"count: {X_train.shape}\")\n",
    "print(f\"count: {y_train.shape}\")\n",
    "print(f\"count: {groups.shape}\")"
   ]
  },
  {
   "cell_type": "code",
   "execution_count": 40,
   "metadata": {
    "scrolled": true
   },
   "outputs": [
    {
     "data": {
      "text/html": [
       "<div>\n",
       "<style scoped>\n",
       "    .dataframe tbody tr th:only-of-type {\n",
       "        vertical-align: middle;\n",
       "    }\n",
       "\n",
       "    .dataframe tbody tr th {\n",
       "        vertical-align: top;\n",
       "    }\n",
       "\n",
       "    .dataframe thead th {\n",
       "        text-align: right;\n",
       "    }\n",
       "</style>\n",
       "<table border=\"1\" class=\"dataframe\">\n",
       "  <thead>\n",
       "    <tr style=\"text-align: right;\">\n",
       "      <th></th>\n",
       "      <th>F0semitoneFrom27.5Hz_sma3nz_amean</th>\n",
       "      <th>F0semitoneFrom27.5Hz_sma3nz_stddevNorm</th>\n",
       "      <th>F0semitoneFrom27.5Hz_sma3nz_percentile20.0</th>\n",
       "      <th>F0semitoneFrom27.5Hz_sma3nz_percentile50.0</th>\n",
       "      <th>F0semitoneFrom27.5Hz_sma3nz_percentile80.0</th>\n",
       "      <th>F0semitoneFrom27.5Hz_sma3nz_pctlrange0-2</th>\n",
       "      <th>F0semitoneFrom27.5Hz_sma3nz_meanRisingSlope</th>\n",
       "      <th>F0semitoneFrom27.5Hz_sma3nz_stddevRisingSlope</th>\n",
       "      <th>F0semitoneFrom27.5Hz_sma3nz_meanFallingSlope</th>\n",
       "      <th>F0semitoneFrom27.5Hz_sma3nz_stddevFallingSlope</th>\n",
       "      <th>...</th>\n",
       "      <th>slopeUV0-500_sma3nz_amean</th>\n",
       "      <th>slopeUV500-1500_sma3nz_amean</th>\n",
       "      <th>spectralFluxUV_sma3nz_amean</th>\n",
       "      <th>loudnessPeaksPerSec</th>\n",
       "      <th>VoicedSegmentsPerSec</th>\n",
       "      <th>MeanVoicedSegmentLengthSec</th>\n",
       "      <th>StddevVoicedSegmentLengthSec</th>\n",
       "      <th>MeanUnvoicedSegmentLength</th>\n",
       "      <th>StddevUnvoicedSegmentLength</th>\n",
       "      <th>equivalentSoundLevel_dBp</th>\n",
       "    </tr>\n",
       "  </thead>\n",
       "  <tbody>\n",
       "    <tr>\n",
       "      <th>104</th>\n",
       "      <td>32.667942</td>\n",
       "      <td>0.065519</td>\n",
       "      <td>31.263319</td>\n",
       "      <td>32.097430</td>\n",
       "      <td>35.721237</td>\n",
       "      <td>4.457918</td>\n",
       "      <td>14.956980</td>\n",
       "      <td>5.565262</td>\n",
       "      <td>10.083265</td>\n",
       "      <td>5.565086</td>\n",
       "      <td>...</td>\n",
       "      <td>0.098178</td>\n",
       "      <td>0.015592</td>\n",
       "      <td>0.005733</td>\n",
       "      <td>1.822324</td>\n",
       "      <td>0.460830</td>\n",
       "      <td>1.120000</td>\n",
       "      <td>0.520000</td>\n",
       "      <td>0.683333</td>\n",
       "      <td>0.450506</td>\n",
       "      <td>-37.140460</td>\n",
       "    </tr>\n",
       "    <tr>\n",
       "      <th>105</th>\n",
       "      <td>32.622143</td>\n",
       "      <td>0.049787</td>\n",
       "      <td>31.440880</td>\n",
       "      <td>32.059650</td>\n",
       "      <td>34.900654</td>\n",
       "      <td>3.459774</td>\n",
       "      <td>21.115547</td>\n",
       "      <td>16.798904</td>\n",
       "      <td>11.710975</td>\n",
       "      <td>6.603377</td>\n",
       "      <td>...</td>\n",
       "      <td>0.068033</td>\n",
       "      <td>0.011409</td>\n",
       "      <td>0.009596</td>\n",
       "      <td>2.036199</td>\n",
       "      <td>0.457666</td>\n",
       "      <td>1.160000</td>\n",
       "      <td>0.520000</td>\n",
       "      <td>0.666667</td>\n",
       "      <td>0.422085</td>\n",
       "      <td>-34.182198</td>\n",
       "    </tr>\n",
       "    <tr>\n",
       "      <th>106</th>\n",
       "      <td>23.421627</td>\n",
       "      <td>0.071589</td>\n",
       "      <td>22.393826</td>\n",
       "      <td>23.624762</td>\n",
       "      <td>24.891598</td>\n",
       "      <td>2.497772</td>\n",
       "      <td>150.534040</td>\n",
       "      <td>203.807540</td>\n",
       "      <td>35.221855</td>\n",
       "      <td>31.733028</td>\n",
       "      <td>...</td>\n",
       "      <td>0.052928</td>\n",
       "      <td>0.010891</td>\n",
       "      <td>0.007966</td>\n",
       "      <td>2.023121</td>\n",
       "      <td>0.879765</td>\n",
       "      <td>0.416667</td>\n",
       "      <td>0.141970</td>\n",
       "      <td>0.522500</td>\n",
       "      <td>0.458605</td>\n",
       "      <td>-46.895203</td>\n",
       "    </tr>\n",
       "    <tr>\n",
       "      <th>107</th>\n",
       "      <td>24.396180</td>\n",
       "      <td>0.087991</td>\n",
       "      <td>22.433584</td>\n",
       "      <td>24.256900</td>\n",
       "      <td>26.340778</td>\n",
       "      <td>3.907194</td>\n",
       "      <td>252.458370</td>\n",
       "      <td>358.249000</td>\n",
       "      <td>31.001072</td>\n",
       "      <td>12.709707</td>\n",
       "      <td>...</td>\n",
       "      <td>0.074990</td>\n",
       "      <td>0.012042</td>\n",
       "      <td>0.011143</td>\n",
       "      <td>2.380952</td>\n",
       "      <td>1.510574</td>\n",
       "      <td>0.194000</td>\n",
       "      <td>0.124836</td>\n",
       "      <td>0.444000</td>\n",
       "      <td>0.454911</td>\n",
       "      <td>-48.063854</td>\n",
       "    </tr>\n",
       "    <tr>\n",
       "      <th>108</th>\n",
       "      <td>27.157800</td>\n",
       "      <td>0.190745</td>\n",
       "      <td>25.587510</td>\n",
       "      <td>26.391394</td>\n",
       "      <td>27.204054</td>\n",
       "      <td>1.616545</td>\n",
       "      <td>211.116470</td>\n",
       "      <td>205.744930</td>\n",
       "      <td>155.215330</td>\n",
       "      <td>145.674260</td>\n",
       "      <td>...</td>\n",
       "      <td>0.043434</td>\n",
       "      <td>0.008983</td>\n",
       "      <td>0.015381</td>\n",
       "      <td>2.439024</td>\n",
       "      <td>1.098901</td>\n",
       "      <td>0.332500</td>\n",
       "      <td>0.341788</td>\n",
       "      <td>0.444000</td>\n",
       "      <td>0.442746</td>\n",
       "      <td>-42.572178</td>\n",
       "    </tr>\n",
       "    <tr>\n",
       "      <th>...</th>\n",
       "      <td>...</td>\n",
       "      <td>...</td>\n",
       "      <td>...</td>\n",
       "      <td>...</td>\n",
       "      <td>...</td>\n",
       "      <td>...</td>\n",
       "      <td>...</td>\n",
       "      <td>...</td>\n",
       "      <td>...</td>\n",
       "      <td>...</td>\n",
       "      <td>...</td>\n",
       "      <td>...</td>\n",
       "      <td>...</td>\n",
       "      <td>...</td>\n",
       "      <td>...</td>\n",
       "      <td>...</td>\n",
       "      <td>...</td>\n",
       "      <td>...</td>\n",
       "      <td>...</td>\n",
       "      <td>...</td>\n",
       "      <td>...</td>\n",
       "    </tr>\n",
       "    <tr>\n",
       "      <th>2343</th>\n",
       "      <td>44.560787</td>\n",
       "      <td>0.063941</td>\n",
       "      <td>43.413990</td>\n",
       "      <td>44.316803</td>\n",
       "      <td>46.398100</td>\n",
       "      <td>2.984112</td>\n",
       "      <td>129.616990</td>\n",
       "      <td>195.710800</td>\n",
       "      <td>21.788360</td>\n",
       "      <td>15.365043</td>\n",
       "      <td>...</td>\n",
       "      <td>0.141634</td>\n",
       "      <td>0.016549</td>\n",
       "      <td>0.012033</td>\n",
       "      <td>2.173913</td>\n",
       "      <td>0.914077</td>\n",
       "      <td>0.638000</td>\n",
       "      <td>0.376478</td>\n",
       "      <td>0.361667</td>\n",
       "      <td>0.443148</td>\n",
       "      <td>-37.267227</td>\n",
       "    </tr>\n",
       "    <tr>\n",
       "      <th>2344</th>\n",
       "      <td>30.963875</td>\n",
       "      <td>0.173062</td>\n",
       "      <td>23.106842</td>\n",
       "      <td>33.840866</td>\n",
       "      <td>34.122574</td>\n",
       "      <td>11.015732</td>\n",
       "      <td>23.248434</td>\n",
       "      <td>0.000000</td>\n",
       "      <td>118.830840</td>\n",
       "      <td>0.000000</td>\n",
       "      <td>...</td>\n",
       "      <td>0.117290</td>\n",
       "      <td>0.010528</td>\n",
       "      <td>0.007361</td>\n",
       "      <td>2.292263</td>\n",
       "      <td>0.872093</td>\n",
       "      <td>0.040000</td>\n",
       "      <td>0.000000</td>\n",
       "      <td>0.644000</td>\n",
       "      <td>0.469238</td>\n",
       "      <td>-63.180332</td>\n",
       "    </tr>\n",
       "    <tr>\n",
       "      <th>2345</th>\n",
       "      <td>44.649708</td>\n",
       "      <td>0.038449</td>\n",
       "      <td>43.541440</td>\n",
       "      <td>44.083908</td>\n",
       "      <td>45.436850</td>\n",
       "      <td>1.895412</td>\n",
       "      <td>87.684890</td>\n",
       "      <td>124.352330</td>\n",
       "      <td>15.508397</td>\n",
       "      <td>6.425661</td>\n",
       "      <td>...</td>\n",
       "      <td>0.130399</td>\n",
       "      <td>0.018723</td>\n",
       "      <td>0.015202</td>\n",
       "      <td>2.057613</td>\n",
       "      <td>0.831601</td>\n",
       "      <td>0.640000</td>\n",
       "      <td>0.163095</td>\n",
       "      <td>0.713333</td>\n",
       "      <td>0.419868</td>\n",
       "      <td>-33.109707</td>\n",
       "    </tr>\n",
       "    <tr>\n",
       "      <th>2346</th>\n",
       "      <td>32.257084</td>\n",
       "      <td>0.123510</td>\n",
       "      <td>31.786459</td>\n",
       "      <td>33.777252</td>\n",
       "      <td>34.393433</td>\n",
       "      <td>2.606974</td>\n",
       "      <td>157.340850</td>\n",
       "      <td>154.486600</td>\n",
       "      <td>123.891420</td>\n",
       "      <td>57.611485</td>\n",
       "      <td>...</td>\n",
       "      <td>0.109062</td>\n",
       "      <td>0.012997</td>\n",
       "      <td>0.009449</td>\n",
       "      <td>3.179191</td>\n",
       "      <td>1.173021</td>\n",
       "      <td>0.102500</td>\n",
       "      <td>0.059319</td>\n",
       "      <td>0.574000</td>\n",
       "      <td>0.517401</td>\n",
       "      <td>-59.825146</td>\n",
       "    </tr>\n",
       "    <tr>\n",
       "      <th>2347</th>\n",
       "      <td>34.860760</td>\n",
       "      <td>0.041419</td>\n",
       "      <td>33.985725</td>\n",
       "      <td>34.429962</td>\n",
       "      <td>35.969110</td>\n",
       "      <td>1.983383</td>\n",
       "      <td>24.173610</td>\n",
       "      <td>0.000000</td>\n",
       "      <td>0.884509</td>\n",
       "      <td>6.443624</td>\n",
       "      <td>...</td>\n",
       "      <td>0.123020</td>\n",
       "      <td>0.011129</td>\n",
       "      <td>0.008931</td>\n",
       "      <td>2.486188</td>\n",
       "      <td>1.960784</td>\n",
       "      <td>0.102857</td>\n",
       "      <td>0.058971</td>\n",
       "      <td>0.337500</td>\n",
       "      <td>0.438599</td>\n",
       "      <td>-57.574352</td>\n",
       "    </tr>\n",
       "  </tbody>\n",
       "</table>\n",
       "<p>2036 rows × 88 columns</p>\n",
       "</div>"
      ],
      "text/plain": [
       "      F0semitoneFrom27.5Hz_sma3nz_amean  \\\n",
       "104                           32.667942   \n",
       "105                           32.622143   \n",
       "106                           23.421627   \n",
       "107                           24.396180   \n",
       "108                           27.157800   \n",
       "...                                 ...   \n",
       "2343                          44.560787   \n",
       "2344                          30.963875   \n",
       "2345                          44.649708   \n",
       "2346                          32.257084   \n",
       "2347                          34.860760   \n",
       "\n",
       "      F0semitoneFrom27.5Hz_sma3nz_stddevNorm  \\\n",
       "104                                 0.065519   \n",
       "105                                 0.049787   \n",
       "106                                 0.071589   \n",
       "107                                 0.087991   \n",
       "108                                 0.190745   \n",
       "...                                      ...   \n",
       "2343                                0.063941   \n",
       "2344                                0.173062   \n",
       "2345                                0.038449   \n",
       "2346                                0.123510   \n",
       "2347                                0.041419   \n",
       "\n",
       "      F0semitoneFrom27.5Hz_sma3nz_percentile20.0  \\\n",
       "104                                    31.263319   \n",
       "105                                    31.440880   \n",
       "106                                    22.393826   \n",
       "107                                    22.433584   \n",
       "108                                    25.587510   \n",
       "...                                          ...   \n",
       "2343                                   43.413990   \n",
       "2344                                   23.106842   \n",
       "2345                                   43.541440   \n",
       "2346                                   31.786459   \n",
       "2347                                   33.985725   \n",
       "\n",
       "      F0semitoneFrom27.5Hz_sma3nz_percentile50.0  \\\n",
       "104                                    32.097430   \n",
       "105                                    32.059650   \n",
       "106                                    23.624762   \n",
       "107                                    24.256900   \n",
       "108                                    26.391394   \n",
       "...                                          ...   \n",
       "2343                                   44.316803   \n",
       "2344                                   33.840866   \n",
       "2345                                   44.083908   \n",
       "2346                                   33.777252   \n",
       "2347                                   34.429962   \n",
       "\n",
       "      F0semitoneFrom27.5Hz_sma3nz_percentile80.0  \\\n",
       "104                                    35.721237   \n",
       "105                                    34.900654   \n",
       "106                                    24.891598   \n",
       "107                                    26.340778   \n",
       "108                                    27.204054   \n",
       "...                                          ...   \n",
       "2343                                   46.398100   \n",
       "2344                                   34.122574   \n",
       "2345                                   45.436850   \n",
       "2346                                   34.393433   \n",
       "2347                                   35.969110   \n",
       "\n",
       "      F0semitoneFrom27.5Hz_sma3nz_pctlrange0-2  \\\n",
       "104                                   4.457918   \n",
       "105                                   3.459774   \n",
       "106                                   2.497772   \n",
       "107                                   3.907194   \n",
       "108                                   1.616545   \n",
       "...                                        ...   \n",
       "2343                                  2.984112   \n",
       "2344                                 11.015732   \n",
       "2345                                  1.895412   \n",
       "2346                                  2.606974   \n",
       "2347                                  1.983383   \n",
       "\n",
       "      F0semitoneFrom27.5Hz_sma3nz_meanRisingSlope  \\\n",
       "104                                     14.956980   \n",
       "105                                     21.115547   \n",
       "106                                    150.534040   \n",
       "107                                    252.458370   \n",
       "108                                    211.116470   \n",
       "...                                           ...   \n",
       "2343                                   129.616990   \n",
       "2344                                    23.248434   \n",
       "2345                                    87.684890   \n",
       "2346                                   157.340850   \n",
       "2347                                    24.173610   \n",
       "\n",
       "      F0semitoneFrom27.5Hz_sma3nz_stddevRisingSlope  \\\n",
       "104                                        5.565262   \n",
       "105                                       16.798904   \n",
       "106                                      203.807540   \n",
       "107                                      358.249000   \n",
       "108                                      205.744930   \n",
       "...                                             ...   \n",
       "2343                                     195.710800   \n",
       "2344                                       0.000000   \n",
       "2345                                     124.352330   \n",
       "2346                                     154.486600   \n",
       "2347                                       0.000000   \n",
       "\n",
       "      F0semitoneFrom27.5Hz_sma3nz_meanFallingSlope  \\\n",
       "104                                      10.083265   \n",
       "105                                      11.710975   \n",
       "106                                      35.221855   \n",
       "107                                      31.001072   \n",
       "108                                     155.215330   \n",
       "...                                            ...   \n",
       "2343                                     21.788360   \n",
       "2344                                    118.830840   \n",
       "2345                                     15.508397   \n",
       "2346                                    123.891420   \n",
       "2347                                      0.884509   \n",
       "\n",
       "      F0semitoneFrom27.5Hz_sma3nz_stddevFallingSlope  ...  \\\n",
       "104                                         5.565086  ...   \n",
       "105                                         6.603377  ...   \n",
       "106                                        31.733028  ...   \n",
       "107                                        12.709707  ...   \n",
       "108                                       145.674260  ...   \n",
       "...                                              ...  ...   \n",
       "2343                                       15.365043  ...   \n",
       "2344                                        0.000000  ...   \n",
       "2345                                        6.425661  ...   \n",
       "2346                                       57.611485  ...   \n",
       "2347                                        6.443624  ...   \n",
       "\n",
       "      slopeUV0-500_sma3nz_amean  slopeUV500-1500_sma3nz_amean  \\\n",
       "104                    0.098178                      0.015592   \n",
       "105                    0.068033                      0.011409   \n",
       "106                    0.052928                      0.010891   \n",
       "107                    0.074990                      0.012042   \n",
       "108                    0.043434                      0.008983   \n",
       "...                         ...                           ...   \n",
       "2343                   0.141634                      0.016549   \n",
       "2344                   0.117290                      0.010528   \n",
       "2345                   0.130399                      0.018723   \n",
       "2346                   0.109062                      0.012997   \n",
       "2347                   0.123020                      0.011129   \n",
       "\n",
       "      spectralFluxUV_sma3nz_amean  loudnessPeaksPerSec  VoicedSegmentsPerSec  \\\n",
       "104                      0.005733             1.822324              0.460830   \n",
       "105                      0.009596             2.036199              0.457666   \n",
       "106                      0.007966             2.023121              0.879765   \n",
       "107                      0.011143             2.380952              1.510574   \n",
       "108                      0.015381             2.439024              1.098901   \n",
       "...                           ...                  ...                   ...   \n",
       "2343                     0.012033             2.173913              0.914077   \n",
       "2344                     0.007361             2.292263              0.872093   \n",
       "2345                     0.015202             2.057613              0.831601   \n",
       "2346                     0.009449             3.179191              1.173021   \n",
       "2347                     0.008931             2.486188              1.960784   \n",
       "\n",
       "      MeanVoicedSegmentLengthSec  StddevVoicedSegmentLengthSec  \\\n",
       "104                     1.120000                      0.520000   \n",
       "105                     1.160000                      0.520000   \n",
       "106                     0.416667                      0.141970   \n",
       "107                     0.194000                      0.124836   \n",
       "108                     0.332500                      0.341788   \n",
       "...                          ...                           ...   \n",
       "2343                    0.638000                      0.376478   \n",
       "2344                    0.040000                      0.000000   \n",
       "2345                    0.640000                      0.163095   \n",
       "2346                    0.102500                      0.059319   \n",
       "2347                    0.102857                      0.058971   \n",
       "\n",
       "      MeanUnvoicedSegmentLength  StddevUnvoicedSegmentLength  \\\n",
       "104                    0.683333                     0.450506   \n",
       "105                    0.666667                     0.422085   \n",
       "106                    0.522500                     0.458605   \n",
       "107                    0.444000                     0.454911   \n",
       "108                    0.444000                     0.442746   \n",
       "...                         ...                          ...   \n",
       "2343                   0.361667                     0.443148   \n",
       "2344                   0.644000                     0.469238   \n",
       "2345                   0.713333                     0.419868   \n",
       "2346                   0.574000                     0.517401   \n",
       "2347                   0.337500                     0.438599   \n",
       "\n",
       "      equivalentSoundLevel_dBp  \n",
       "104                 -37.140460  \n",
       "105                 -34.182198  \n",
       "106                 -46.895203  \n",
       "107                 -48.063854  \n",
       "108                 -42.572178  \n",
       "...                        ...  \n",
       "2343                -37.267227  \n",
       "2344                -63.180332  \n",
       "2345                -33.109707  \n",
       "2346                -59.825146  \n",
       "2347                -57.574352  \n",
       "\n",
       "[2036 rows x 88 columns]"
      ]
     },
     "execution_count": 40,
     "metadata": {},
     "output_type": "execute_result"
    }
   ],
   "source": [
    "X_train"
   ]
  },
  {
   "cell_type": "code",
   "execution_count": 41,
   "metadata": {},
   "outputs": [],
   "source": [
    "groups_accs = []\n",
    "groups_precisions = []\n",
    "groups_recalls = []\n",
    "groups_f1 = []\n",
    "groups_f2 = []"
   ]
  },
  {
   "cell_type": "code",
   "execution_count": 42,
   "metadata": {
    "scrolled": true
   },
   "outputs": [
    {
     "ename": "ValueError",
     "evalue": "Found input variables with inconsistent numbers of samples: [2036, 2036, 2452]",
     "output_type": "error",
     "traceback": [
      "\u001b[0;31m---------------------------------------------------------------------------\u001b[0m",
      "\u001b[0;31mValueError\u001b[0m                                Traceback (most recent call last)",
      "\u001b[0;32m<ipython-input-42-2c9742486217>\u001b[0m in \u001b[0;36m<module>\u001b[0;34m\u001b[0m\n\u001b[1;32m      5\u001b[0m \u001b[0mlogo\u001b[0m \u001b[0;34m=\u001b[0m \u001b[0mLeaveOneGroupOut\u001b[0m\u001b[0;34m(\u001b[0m\u001b[0;34m)\u001b[0m\u001b[0;34m\u001b[0m\u001b[0;34m\u001b[0m\u001b[0m\n\u001b[1;32m      6\u001b[0m \u001b[0mlogo\u001b[0m\u001b[0;34m.\u001b[0m\u001b[0mget_n_splits\u001b[0m\u001b[0;34m(\u001b[0m\u001b[0mX_train\u001b[0m\u001b[0;34m,\u001b[0m \u001b[0my_train\u001b[0m\u001b[0;34m,\u001b[0m \u001b[0mgroups\u001b[0m\u001b[0;34m)\u001b[0m\u001b[0;34m\u001b[0m\u001b[0;34m\u001b[0m\u001b[0m\n\u001b[0;32m----> 7\u001b[0;31m \u001b[0;32mfor\u001b[0m \u001b[0mtrain_index\u001b[0m\u001b[0;34m,\u001b[0m \u001b[0mtest_index\u001b[0m \u001b[0;32min\u001b[0m \u001b[0mlogo\u001b[0m\u001b[0;34m.\u001b[0m\u001b[0msplit\u001b[0m\u001b[0;34m(\u001b[0m\u001b[0mX_train\u001b[0m\u001b[0;34m,\u001b[0m \u001b[0my_train\u001b[0m\u001b[0;34m,\u001b[0m \u001b[0mgroups\u001b[0m\u001b[0;34m)\u001b[0m\u001b[0;34m:\u001b[0m\u001b[0;34m\u001b[0m\u001b[0;34m\u001b[0m\u001b[0m\n\u001b[0m\u001b[1;32m      8\u001b[0m     \u001b[0mprint\u001b[0m\u001b[0;34m(\u001b[0m\u001b[0;34m\"TRAIN:\"\u001b[0m\u001b[0;34m,\u001b[0m \u001b[0mtrain_index\u001b[0m\u001b[0;34m,\u001b[0m \u001b[0;34m\"TEST:\"\u001b[0m\u001b[0;34m,\u001b[0m \u001b[0mtest_index\u001b[0m\u001b[0;34m)\u001b[0m\u001b[0;34m\u001b[0m\u001b[0;34m\u001b[0m\u001b[0m\n\u001b[1;32m      9\u001b[0m     \u001b[0mprint\u001b[0m\u001b[0;34m(\u001b[0m\u001b[0;34m\"x_train\"\u001b[0m\u001b[0;34m)\u001b[0m\u001b[0;34m\u001b[0m\u001b[0;34m\u001b[0m\u001b[0m\n",
      "\u001b[0;32m~/.local/lib/python3.6/site-packages/sklearn/model_selection/_split.py\u001b[0m in \u001b[0;36msplit\u001b[0;34m(self, X, y, groups)\u001b[0m\n\u001b[1;32m     76\u001b[0m             \u001b[0mThe\u001b[0m \u001b[0mtesting\u001b[0m \u001b[0mset\u001b[0m \u001b[0mindices\u001b[0m \u001b[0;32mfor\u001b[0m \u001b[0mthat\u001b[0m \u001b[0msplit\u001b[0m\u001b[0;34m.\u001b[0m\u001b[0;34m\u001b[0m\u001b[0;34m\u001b[0m\u001b[0m\n\u001b[1;32m     77\u001b[0m         \"\"\"\n\u001b[0;32m---> 78\u001b[0;31m         \u001b[0mX\u001b[0m\u001b[0;34m,\u001b[0m \u001b[0my\u001b[0m\u001b[0;34m,\u001b[0m \u001b[0mgroups\u001b[0m \u001b[0;34m=\u001b[0m \u001b[0mindexable\u001b[0m\u001b[0;34m(\u001b[0m\u001b[0mX\u001b[0m\u001b[0;34m,\u001b[0m \u001b[0my\u001b[0m\u001b[0;34m,\u001b[0m \u001b[0mgroups\u001b[0m\u001b[0;34m)\u001b[0m\u001b[0;34m\u001b[0m\u001b[0;34m\u001b[0m\u001b[0m\n\u001b[0m\u001b[1;32m     79\u001b[0m         \u001b[0mindices\u001b[0m \u001b[0;34m=\u001b[0m \u001b[0mnp\u001b[0m\u001b[0;34m.\u001b[0m\u001b[0marange\u001b[0m\u001b[0;34m(\u001b[0m\u001b[0m_num_samples\u001b[0m\u001b[0;34m(\u001b[0m\u001b[0mX\u001b[0m\u001b[0;34m)\u001b[0m\u001b[0;34m)\u001b[0m\u001b[0;34m\u001b[0m\u001b[0;34m\u001b[0m\u001b[0m\n\u001b[1;32m     80\u001b[0m         \u001b[0;32mfor\u001b[0m \u001b[0mtest_index\u001b[0m \u001b[0;32min\u001b[0m \u001b[0mself\u001b[0m\u001b[0;34m.\u001b[0m\u001b[0m_iter_test_masks\u001b[0m\u001b[0;34m(\u001b[0m\u001b[0mX\u001b[0m\u001b[0;34m,\u001b[0m \u001b[0my\u001b[0m\u001b[0;34m,\u001b[0m \u001b[0mgroups\u001b[0m\u001b[0;34m)\u001b[0m\u001b[0;34m:\u001b[0m\u001b[0;34m\u001b[0m\u001b[0;34m\u001b[0m\u001b[0m\n",
      "\u001b[0;32m~/.local/lib/python3.6/site-packages/sklearn/utils/validation.py\u001b[0m in \u001b[0;36mindexable\u001b[0;34m(*iterables)\u001b[0m\n\u001b[1;32m    354\u001b[0m     \"\"\"\n\u001b[1;32m    355\u001b[0m     \u001b[0mresult\u001b[0m \u001b[0;34m=\u001b[0m \u001b[0;34m[\u001b[0m\u001b[0m_make_indexable\u001b[0m\u001b[0;34m(\u001b[0m\u001b[0mX\u001b[0m\u001b[0;34m)\u001b[0m \u001b[0;32mfor\u001b[0m \u001b[0mX\u001b[0m \u001b[0;32min\u001b[0m \u001b[0miterables\u001b[0m\u001b[0;34m]\u001b[0m\u001b[0;34m\u001b[0m\u001b[0;34m\u001b[0m\u001b[0m\n\u001b[0;32m--> 356\u001b[0;31m     \u001b[0mcheck_consistent_length\u001b[0m\u001b[0;34m(\u001b[0m\u001b[0;34m*\u001b[0m\u001b[0mresult\u001b[0m\u001b[0;34m)\u001b[0m\u001b[0;34m\u001b[0m\u001b[0;34m\u001b[0m\u001b[0m\n\u001b[0m\u001b[1;32m    357\u001b[0m     \u001b[0;32mreturn\u001b[0m \u001b[0mresult\u001b[0m\u001b[0;34m\u001b[0m\u001b[0;34m\u001b[0m\u001b[0m\n\u001b[1;32m    358\u001b[0m \u001b[0;34m\u001b[0m\u001b[0m\n",
      "\u001b[0;32m~/.local/lib/python3.6/site-packages/sklearn/utils/validation.py\u001b[0m in \u001b[0;36mcheck_consistent_length\u001b[0;34m(*arrays)\u001b[0m\n\u001b[1;32m    318\u001b[0m     \u001b[0;32mif\u001b[0m \u001b[0mlen\u001b[0m\u001b[0;34m(\u001b[0m\u001b[0muniques\u001b[0m\u001b[0;34m)\u001b[0m \u001b[0;34m>\u001b[0m \u001b[0;36m1\u001b[0m\u001b[0;34m:\u001b[0m\u001b[0;34m\u001b[0m\u001b[0;34m\u001b[0m\u001b[0m\n\u001b[1;32m    319\u001b[0m         raise ValueError(\"Found input variables with inconsistent numbers of\"\n\u001b[0;32m--> 320\u001b[0;31m                          \" samples: %r\" % [int(l) for l in lengths])\n\u001b[0m\u001b[1;32m    321\u001b[0m \u001b[0;34m\u001b[0m\u001b[0m\n\u001b[1;32m    322\u001b[0m \u001b[0;34m\u001b[0m\u001b[0m\n",
      "\u001b[0;31mValueError\u001b[0m: Found input variables with inconsistent numbers of samples: [2036, 2036, 2452]"
     ]
    }
   ],
   "source": [
    "start = time.time()\n",
    "\n",
    "# X = df_proc.loc[:, df_proc.columns != \"emotion\"]\n",
    "# y = df_proc[\"emotion\"]\n",
    "logo = LeaveOneGroupOut()\n",
    "logo.get_n_splits(X_train, y_train, groups)\n",
    "for train_index, test_index in logo.split(X_train, y_train, groups):\n",
    "    print(\"TRAIN:\", train_index, \"TEST:\", test_index)\n",
    "    print(\"x_train\")\n",
    "    group_X_train, group_X_test = X_train.iloc[train_index], X_train.iloc[test_index]\n",
    "    print(\"y_train\")\n",
    "    group_y_train, group_y_test = y_train.iloc[train_index], y_train.iloc[test_index]\n",
    "    # print(group_X_train, group_X_test, group_y_train, group_y_test)\n",
    "\n",
    "    # Train - Fit - Metrics (A array => boxplot)\n",
    "    loaded_model.fit(group_X_train, group_y_train)\n",
    "    group_y_pred_test = loaded_model.predict(group_X_test)\n",
    "    group_y_pred_train = loaded_model.predict(group_X_train)\n",
    "    # evaluación\n",
    "    print(\n",
    "        \"Accuracy training : {:.3f}\".format(\n",
    "            loaded_model.score(group_X_train, group_y_train)\n",
    "        )\n",
    "    )\n",
    "    print(\n",
    "        \"Accuracy test: {:.3f}\".format(loaded_model.score(group_X_test, group_y_test))\n",
    "    )\n",
    "\n",
    "    print(\"Train acc: {}\".format(accuracy_score(group_y_train, group_y_pred_train)))\n",
    "    print(\"Test acc: {}\".format(accuracy_score(group_y_test, group_y_pred_test)))\n",
    "    print(\n",
    "        \"Test recall: {}\".format(\n",
    "            recall_score(group_y_test, group_y_pred_test, average=\"weighted\")\n",
    "        )\n",
    "    )\n",
    "    print(\n",
    "        \"Test F1: {}\".format(\n",
    "            fbeta_score(group_y_test, group_y_pred_test, beta=1, average=\"weighted\")\n",
    "        )\n",
    "    )\n",
    "    print(\n",
    "        \"Test F2: {}\".format(\n",
    "            fbeta_score(group_y_test, group_y_pred_test, beta=2, average=\"weighted\")\n",
    "        )\n",
    "    )\n",
    "\n",
    "    groups_accs.append(accuracy_score(group_y_test, group_y_pred_test))\n",
    "    groups_precisions.append(\n",
    "        precision_score(group_y_test, group_y_pred_test, average=\"weighted\")\n",
    "    )\n",
    "    groups_recalls.append(\n",
    "        recall_score(group_y_test, group_y_pred_test, average=\"weighted\")\n",
    "    )\n",
    "    groups_f1.append(\n",
    "        fbeta_score(group_y_test, group_y_pred_test, beta=1, average=\"weighted\")\n",
    "    )\n",
    "    groups_f2.append(\n",
    "        fbeta_score(group_y_test, group_y_pred_test, beta=2, average=\"weighted\")\n",
    "    )\n",
    "\n",
    "end = time.time()\n",
    "print(f\"Tiempo: { round(end - start, 2) } segundos\")"
   ]
  },
  {
   "cell_type": "code",
   "execution_count": null,
   "metadata": {},
   "outputs": [],
   "source": [
    "all_metrics = (\n",
    "    all_metrics\n",
    "    + list(groups_accs)\n",
    "    + list(groups_precisions)\n",
    "    + list(groups_recalls)\n",
    "    + list(groups_f1)\n",
    "    + list(groups_f2)\n",
    ")\n",
    "metric_labels = (\n",
    "    metric_labels\n",
    "    + [\"Accuracy\"] * len(groups_accs)\n",
    "    + [\"Precision\"] * len(groups_precisions)\n",
    "    + [\"Recall\"] * len(groups_recalls)\n",
    "    + [\"F1 Score\"] * len(groups_f1)\n",
    "    + [\"F2 Score\"] * len(groups_f2)\n",
    ")"
   ]
  },
  {
   "cell_type": "code",
   "execution_count": null,
   "metadata": {},
   "outputs": [],
   "source": [
    "len(all_metrics)  # Porque 65?"
   ]
  },
  {
   "cell_type": "code",
   "execution_count": null,
   "metadata": {
    "scrolled": true
   },
   "outputs": [],
   "source": [
    "all_metrics"
   ]
  },
  {
   "cell_type": "code",
   "execution_count": null,
   "metadata": {
    "scrolled": false
   },
   "outputs": [],
   "source": [
    "hue = [\"Kfold\"] * 60 + [\"Leave-2-speakers\"] * 60\n",
    "fig = plt.figure(figsize=(15, 8))\n",
    "sns.boxplot(metric_labels, all_metrics, hue=hue)\n",
    "\n",
    "fig.savefig(\"04.01.Bagging_balanced.png\")"
   ]
  },
  {
   "cell_type": "markdown",
   "metadata": {},
   "source": [
    "## Comparación de modelos\n",
    "\n",
    "C) Realizar la división de datos de la manera que considere más adecuada, teniendo en cuenta el análisis realizado en b), y comparar el desempeño de Random Forests y AdaBoost. Realizar una búsqueda de hiperparámetros para ambos modelos. Para esto, deberá elegirse una métrica de evaluación y justificar la elección. Reportar y analizar la matriz de confusión del mejor modelo, tanto para el caso de audios cantados como hablados.\n",
    "\n",
    "1. Train/Test\n",
    "2. Métrica\n",
    "3. Busqueda hiperparámetros (Cuáles son los hiperparametros? Cual el espacio de búsqueda acotado?)\n",
    "    * Random forest\n",
    "    * Adaboost\n",
    "4. Comparación de modelos\n",
    "    * Matriz de confusión\n",
    "5. Comprar ambos modelos\n",
    "    * Cantados\n",
    "    * Hablados\n",
    "\n",
    "### Métrica"
   ]
  },
  {
   "cell_type": "markdown",
   "metadata": {},
   "source": [
    "f1? o accuracy?"
   ]
  },
  {
   "cell_type": "markdown",
   "metadata": {},
   "source": [
    "### Random Forests\n",
    "\n",
    "Random Forest es una implementación de un algoritmo de *Bagging* que propone como estimadores base a **n_estimators** árboles de decisión. Cada árbol verá un subset distinto de los datos de entrenamiento (bagging, llamado **bootstrap** en los parámetros de sklearn). A su vez, para elegir el mejor split en cada nivel, se tienen en cuenta solo **max_features** atributos, seleccionados al azar. Estas 2 técnicas combinadas llevan a obtener árboles que sean distintos entre si y estén decorrelacionados, lo cual es bueno ya que si un árbol comete errores, probablemente otros no lo cometerán y se compensarán. Cuanto más independientes sean los árboles entre si más reduciremos la varianza."
   ]
  },
  {
   "cell_type": "markdown",
   "metadata": {},
   "source": [
    "random forest pelado"
   ]
  },
  {
   "cell_type": "code",
   "execution_count": 43,
   "metadata": {
    "scrolled": true
   },
   "outputs": [
    {
     "name": "stdout",
     "output_type": "stream",
     "text": [
      "Accuracy training : 1.000\n",
      "Accuracy test: 0.611\n"
     ]
    }
   ],
   "source": [
    "from sklearn.ensemble import RandomForestClassifier\n",
    "\n",
    "rf = RandomForestClassifier(n_estimators=1000, random_state=PARAM_RANDOM_STATE)\n",
    "rf.fit(X_train, y_train)\n",
    "print(\"Accuracy training : {:.3f}\".format(rf.score(X_train, y_train)))\n",
    "print(\"Accuracy test: {:.3f}\".format(rf.score(X_test, y_test)))"
   ]
  },
  {
   "cell_type": "code",
   "execution_count": 44,
   "metadata": {},
   "outputs": [],
   "source": [
    "random_model = pickle.load(open(\"03.04.Random_forest.pkl\", \"rb\"))"
   ]
  },
  {
   "cell_type": "markdown",
   "metadata": {},
   "source": [
    "clf.best_score_\n",
    "0.5136253725424362\n",
    "clf.best_params_\n",
    "{'n_estimators': 410}"
   ]
  },
  {
   "cell_type": "code",
   "execution_count": 45,
   "metadata": {
    "colab": {
     "base_uri": "https://localhost:8080/",
     "height": 384
    },
    "id": "msbLdTxMlur9",
    "outputId": "9693fbde-50bf-4f1e-e483-3f7ed1b59d1b",
    "scrolled": true
   },
   "outputs": [
    {
     "data": {
      "image/png": "[encoded data removed]",
      "text/plain": [
       "<Figure size 7200x4320 with 1 Axes>"
      ]
     },
     "metadata": {
      "needs_background": "light"
     },
     "output_type": "display_data"
    }
   ],
   "source": [
    "features = [x for i, x in enumerate(df_proc.columns) if i != 8]\n",
    "feat_importances = random_model.feature_importances_\n",
    "\n",
    "plt.figure(figsize=(100, 60))\n",
    "graph_importance = sns.barplot(\n",
    "    y=features,\n",
    "    x=feat_importances,\n",
    "    orient=\"h\",\n",
    "    order=reversed(np.array(features)[np.argsort(feat_importances)]),\n",
    ")\n",
    "\n",
    "\n",
    "graph_importance.figure.savefig(\n",
    "    \"04.03.Random_forest.feature_importante.png\", bbox_inches=\"tight\"\n",
    ")"
   ]
  },
  {
   "cell_type": "code",
   "execution_count": 46,
   "metadata": {},
   "outputs": [
    {
     "name": "stdout",
     "output_type": "stream",
     "text": [
      "Importancia de los predictores en el modelo\n",
      "-------------------------------------------\n"
     ]
    },
    {
     "data": {
      "text/html": [
       "<div>\n",
       "<style scoped>\n",
       "    .dataframe tbody tr th:only-of-type {\n",
       "        vertical-align: middle;\n",
       "    }\n",
       "\n",
       "    .dataframe tbody tr th {\n",
       "        vertical-align: top;\n",
       "    }\n",
       "\n",
       "    .dataframe thead th {\n",
       "        text-align: right;\n",
       "    }\n",
       "</style>\n",
       "<table border=\"1\" class=\"dataframe\">\n",
       "  <thead>\n",
       "    <tr style=\"text-align: right;\">\n",
       "      <th></th>\n",
       "      <th>Predictor</th>\n",
       "      <th>Importancia</th>\n",
       "    </tr>\n",
       "  </thead>\n",
       "  <tbody>\n",
       "    <tr>\n",
       "      <th>5</th>\n",
       "      <td>(F, 0, s, e, m, i, t, o, n, e, F, r, o, m, 2, ...</td>\n",
       "      <td>0.032106</td>\n",
       "    </tr>\n",
       "    <tr>\n",
       "      <th>66</th>\n",
       "      <td>(s, p, e, c, t, r, a, l, F, l, u, x, V, _, s, ...</td>\n",
       "      <td>0.025672</td>\n",
       "    </tr>\n",
       "    <tr>\n",
       "      <th>1</th>\n",
       "      <td>(F, 0, s, e, m, i, t, o, n, e, F, r, o, m, 2, ...</td>\n",
       "      <td>0.025441</td>\n",
       "    </tr>\n",
       "    <tr>\n",
       "      <th>30</th>\n",
       "      <td>(j, i, t, t, e, r, L, o, c, a, l, _, s, m, a, ...</td>\n",
       "      <td>0.018968</td>\n",
       "    </tr>\n",
       "    <tr>\n",
       "      <th>16</th>\n",
       "      <td>(l, o, u, d, n, e, s, s, _, s, m, a, 3, _, m, ...</td>\n",
       "      <td>0.018967</td>\n",
       "    </tr>\n",
       "    <tr>\n",
       "      <th>...</th>\n",
       "      <td>...</td>\n",
       "      <td>...</td>\n",
       "    </tr>\n",
       "    <tr>\n",
       "      <th>78</th>\n",
       "      <td>(s, l, o, p, e, U, V, 0, -, 5, 0, 0, _, s, m, ...</td>\n",
       "      <td>0.007555</td>\n",
       "    </tr>\n",
       "    <tr>\n",
       "      <th>22</th>\n",
       "      <td>(m, f, c, c, 1, _, s, m, a, 3, _, a, m, e, a, n)</td>\n",
       "      <td>0.007447</td>\n",
       "    </tr>\n",
       "    <tr>\n",
       "      <th>49</th>\n",
       "      <td>(F, 2, b, a, n, d, w, i, d, t, h, _, s, m, a, ...</td>\n",
       "      <td>0.007392</td>\n",
       "    </tr>\n",
       "    <tr>\n",
       "      <th>76</th>\n",
       "      <td>(a, l, p, h, a, R, a, t, i, o, U, V, _, s, m, ...</td>\n",
       "      <td>0.007099</td>\n",
       "    </tr>\n",
       "    <tr>\n",
       "      <th>77</th>\n",
       "      <td>(h, a, m, m, a, r, b, e, r, g, I, n, d, e, x, ...</td>\n",
       "      <td>0.006680</td>\n",
       "    </tr>\n",
       "  </tbody>\n",
       "</table>\n",
       "<p>88 rows × 2 columns</p>\n",
       "</div>"
      ],
      "text/plain": [
       "                                            Predictor  Importancia\n",
       "5   (F, 0, s, e, m, i, t, o, n, e, F, r, o, m, 2, ...     0.032106\n",
       "66  (s, p, e, c, t, r, a, l, F, l, u, x, V, _, s, ...     0.025672\n",
       "1   (F, 0, s, e, m, i, t, o, n, e, F, r, o, m, 2, ...     0.025441\n",
       "30  (j, i, t, t, e, r, L, o, c, a, l, _, s, m, a, ...     0.018968\n",
       "16  (l, o, u, d, n, e, s, s, _, s, m, a, 3, _, m, ...     0.018967\n",
       "..                                                ...          ...\n",
       "78  (s, l, o, p, e, U, V, 0, -, 5, 0, 0, _, s, m, ...     0.007555\n",
       "22   (m, f, c, c, 1, _, s, m, a, 3, _, a, m, e, a, n)     0.007447\n",
       "49  (F, 2, b, a, n, d, w, i, d, t, h, _, s, m, a, ...     0.007392\n",
       "76  (a, l, p, h, a, R, a, t, i, o, U, V, _, s, m, ...     0.007099\n",
       "77  (h, a, m, m, a, r, b, e, r, g, I, n, d, e, x, ...     0.006680\n",
       "\n",
       "[88 rows x 2 columns]"
      ]
     },
     "execution_count": 46,
     "metadata": {},
     "output_type": "execute_result"
    }
   ],
   "source": [
    "# df_proc.loc[:, df_proc.columns != \"emotion\"],\n",
    "#     df_proc[\"emotion\"],\n",
    "\n",
    "importancia_predictores = pd.DataFrame(\n",
    "    {\n",
    "        \"Predictor\": df_proc.loc[:, df_proc.columns != \"emotion\"],\n",
    "        \"Importancia\": random_model.feature_importances_,\n",
    "    }\n",
    ")\n",
    "print(\"Importancia de los predictores en el modelo\")\n",
    "print(\"-------------------------------------------\")\n",
    "importancia_predictores.sort_values(\"Importancia\", ascending=False)"
   ]
  },
  {
   "cell_type": "code",
   "execution_count": 47,
   "metadata": {
    "scrolled": false
   },
   "outputs": [
    {
     "name": "stdout",
     "output_type": "stream",
     "text": [
      "Accuracy training : 1.000\n",
      "Accuracy test: 0.596\n",
      "Train acc: 1.0\n",
      "Test acc: 0.5961538461538461\n",
      "Test recall: 0.5961538461538461\n",
      "Test F1: 0.5963982386490976\n",
      "Test F2: 0.5925251282471268\n"
     ]
    }
   ],
   "source": [
    "y_pred_test = random_model.predict(X_test)\n",
    "y_pred_train = random_model.predict(X_train)\n",
    "# evaluación\n",
    "print(\"Accuracy training : {:.3f}\".format(random_model.score(X_train, y_train)))\n",
    "print(\"Accuracy test: {:.3f}\".format(random_model.score(X_test, y_test)))\n",
    "print(\"Train acc: {}\".format(accuracy_score(y_train, y_pred_train)))\n",
    "print(\"Test acc: {}\".format(accuracy_score(y_test, y_pred_test)))\n",
    "print(\"Test recall: {}\".format(recall_score(y_test, y_pred_test, average=\"weighted\")))\n",
    "print(\n",
    "    \"Test F1: {}\".format(fbeta_score(y_test, y_pred_test, beta=1, average=\"weighted\"))\n",
    ")\n",
    "print(\n",
    "    \"Test F2: {}\".format(fbeta_score(y_test, y_pred_test, beta=2, average=\"weighted\"))\n",
    ")"
   ]
  },
  {
   "cell_type": "code",
   "execution_count": 48,
   "metadata": {},
   "outputs": [
    {
     "name": "stdout",
     "output_type": "stream",
     "text": [
      "              precision    recall  f1-score   support\n",
      "\n",
      "           1       0.41      0.56      0.47        16\n",
      "           2       0.70      0.72      0.71        32\n",
      "           3       0.39      0.34      0.37        32\n",
      "           4       0.54      0.59      0.57        32\n",
      "           5       0.95      0.62      0.75        32\n",
      "           6       0.70      0.66      0.68        32\n",
      "           7       0.67      0.38      0.48        16\n",
      "           8       0.50      0.94      0.65        16\n",
      "\n",
      "    accuracy                           0.60       208\n",
      "   macro avg       0.61      0.60      0.58       208\n",
      "weighted avg       0.63      0.60      0.60       208\n",
      "\n"
     ]
    }
   ],
   "source": [
    "print(classification_report(y_test, y_pred_test))"
   ]
  },
  {
   "cell_type": "code",
   "execution_count": 49,
   "metadata": {
    "scrolled": true
   },
   "outputs": [
    {
     "data": {
      "image/png": "[encoded data removed]",
      "text/plain": [
       "<Figure size 432x288 with 2 Axes>"
      ]
     },
     "metadata": {
      "needs_background": "light"
     },
     "output_type": "display_data"
    }
   ],
   "source": [
    "ax = plt.subplot()\n",
    "cm = confusion_matrix(y_test, y_pred_test)\n",
    "matriz_n_aria = sns.heatmap(cm, cmap=\"Blues\", annot=True, fmt=\"g\")\n",
    "plt.xlabel(\"Predicted\")\n",
    "plt.ylabel(\"True\")\n",
    "ax.xaxis.set_ticklabels(labels_cm)\n",
    "ax.yaxis.set_ticklabels(labels_cm)\n",
    "\n",
    "matriz_n_aria.figure.savefig(\"04.04.Random_forest.matriz.png\", bbox_inches=\"tight\")"
   ]
  },
  {
   "cell_type": "code",
   "execution_count": null,
   "metadata": {},
   "outputs": [],
   "source": []
  },
  {
   "cell_type": "markdown",
   "metadata": {},
   "source": [
    "### AdaBoost\n",
    "En cada iteración construye un stump nuevo y le da más peso a las muestras que fueron clasificadas mal por el anterior stump. De esta manera, en cada iteración se intenta corregir los errores que cometió el anterior clasificador. Una vez armado el ensamble, cada stump tendrá asociado un peso en sus predicciones de acuerdo a qué tan bueno fue clasificando durante el entrenamiento. A continuación les dejamos un video explicativo del funcionamiento del algoritmo:\n",
    "\n",
    "https://www.youtube.com/watch?v=LsK-xG1cLYA&ab_channel=StatQuestwithJoshStarmerStatQuestwithJoshStarmerVerified\n",
    "\n",
    "La implementación de AdaBoost de sklearn nos provee de un meta-estimador para Boosting, al cual le podemos pasar cualquier estimador (por defecto usa un arbol de profundidad 1, un stump):\n",
    "\n",
    "https://scikit-learn.org/stable/modules/generated/sklearn.ensemble.AdaBoostClassifier.html?highlight=adaboost#sklearn.ensemble.AdaBoostClassifier\n",
    "\n",
    "Paper original:\n",
    "https://web.stanford.edu/~hastie/Papers/samme.pdf \n"
   ]
  },
  {
   "cell_type": "code",
   "execution_count": 50,
   "metadata": {},
   "outputs": [],
   "source": [
    "adaboost_model = pickle.load(open(\"03.05.AdaBoost.pkl\", \"rb\"))"
   ]
  },
  {
   "cell_type": "markdown",
   "metadata": {},
   "source": [
    "clf.best_score_\n",
    "0.38099717517653114\n",
    "\n",
    "clf.best_params_\n",
    "{'n_estimators': 285, 'learning_rate': 1.3009999999999997}"
   ]
  },
  {
   "cell_type": "code",
   "execution_count": 51,
   "metadata": {},
   "outputs": [
    {
     "name": "stdout",
     "output_type": "stream",
     "text": [
      "Accuracy training : 0.778\n",
      "Accuracy test: 0.394\n",
      "Train acc: 0.7784872298624754\n",
      "Test acc: 0.3942307692307692\n",
      "Test recall: 0.3942307692307692\n",
      "Test F1: 0.3936150821276679\n",
      "Test F2: 0.38994364819744176\n"
     ]
    }
   ],
   "source": [
    "# matriz de confusión y classification_report\n",
    "y_pred_test = adaboost_model.predict(X_test)\n",
    "y_pred_train = adaboost_model.predict(X_train)\n",
    "\n",
    "# evaluación\n",
    "print(\"Accuracy training : {:.3f}\".format(adaboost_model.score(X_train, y_train)))\n",
    "print(\"Accuracy test: {:.3f}\".format(adaboost_model.score(X_test, y_test)))\n",
    "print(\"Train acc: {}\".format(accuracy_score(y_train, y_pred_train)))\n",
    "print(\"Test acc: {}\".format(accuracy_score(y_test, y_pred_test)))\n",
    "print(\"Test recall: {}\".format(recall_score(y_test, y_pred_test, average=\"weighted\")))\n",
    "print(\n",
    "    \"Test F1: {}\".format(fbeta_score(y_test, y_pred_test, beta=1, average=\"weighted\"))\n",
    ")\n",
    "print(\n",
    "    \"Test F2: {}\".format(fbeta_score(y_test, y_pred_test, beta=2, average=\"weighted\"))\n",
    ")"
   ]
  },
  {
   "cell_type": "code",
   "execution_count": 52,
   "metadata": {},
   "outputs": [
    {
     "name": "stdout",
     "output_type": "stream",
     "text": [
      "              precision    recall  f1-score   support\n",
      "\n",
      "           1       0.35      0.56      0.43        16\n",
      "           2       0.60      0.47      0.53        32\n",
      "           3       0.26      0.34      0.30        32\n",
      "           4       0.24      0.31      0.27        32\n",
      "           5       0.61      0.34      0.44        32\n",
      "           6       0.45      0.31      0.37        32\n",
      "           7       0.43      0.19      0.26        16\n",
      "           8       0.50      0.81      0.62        16\n",
      "\n",
      "    accuracy                           0.39       208\n",
      "   macro avg       0.43      0.42      0.40       208\n",
      "weighted avg       0.43      0.39      0.39       208\n",
      "\n"
     ]
    }
   ],
   "source": [
    "print(classification_report(y_test, y_pred_test))"
   ]
  },
  {
   "cell_type": "code",
   "execution_count": 53,
   "metadata": {
    "scrolled": true
   },
   "outputs": [
    {
     "data": {
      "image/png": "[encoded data removed]",
      "text/plain": [
       "<Figure size 432x288 with 2 Axes>"
      ]
     },
     "metadata": {
      "needs_background": "light"
     },
     "output_type": "display_data"
    }
   ],
   "source": [
    "ax = plt.subplot()\n",
    "cm = confusion_matrix(y_test, y_pred_test)\n",
    "matriz_n_aria = sns.heatmap(cm, cmap=\"Blues\", annot=True, fmt=\"g\")\n",
    "plt.xlabel(\"Predicted\")\n",
    "plt.ylabel(\"True\")\n",
    "ax.xaxis.set_ticklabels(labels_cm)\n",
    "ax.yaxis.set_ticklabels(labels_cm)\n",
    "\n",
    "\n",
    "matriz_n_aria.figure.savefig(\"04.05.Adaboost.matriz.png\", bbox_inches=\"tight\")"
   ]
  },
  {
   "cell_type": "markdown",
   "metadata": {},
   "source": [
    "### Matriz de confusión\n",
    "\n",
    "Mejor modelo: Random forest\n",
    "\n",
    "Comparación cantados vs speech\n",
    "\n",
    "#### Representatividad de cada categoría\n"
   ]
  },
  {
   "cell_type": "code",
   "execution_count": 54,
   "metadata": {
    "scrolled": true
   },
   "outputs": [
    {
     "data": {
      "text/plain": [
       "<AxesSubplot:xlabel='emotion'>"
      ]
     },
     "execution_count": 54,
     "metadata": {},
     "output_type": "execute_result"
    },
    {
     "data": {
      "image/png": "[encoded data removed]",
      "text/plain": [
       "<Figure size 432x288 with 1 Axes>"
      ]
     },
     "metadata": {
      "needs_background": "light"
     },
     "output_type": "display_data"
    }
   ],
   "source": [
    "pd.crosstab(df_original[\"emotion\"], df_original[\"vocal_channel\"]).plot.bar()"
   ]
  },
  {
   "cell_type": "code",
   "execution_count": 55,
   "metadata": {},
   "outputs": [
    {
     "data": {
      "text/plain": [
       "1    120\n",
       "2     88\n",
       "Name: vocal_channel, dtype: int64"
      ]
     },
     "execution_count": 55,
     "metadata": {},
     "output_type": "execute_result"
    }
   ],
   "source": [
    "df_original.loc[groups == 12, \"vocal_channel\"].value_counts()\n",
    "# 1 - speech\n",
    "# 2 - son"
   ]
  },
  {
   "cell_type": "code",
   "execution_count": 56,
   "metadata": {
    "scrolled": true
   },
   "outputs": [],
   "source": [
    "y_speech_pred_test = random_model.predict(X_test)"
   ]
  },
  {
   "cell_type": "code",
   "execution_count": 57,
   "metadata": {},
   "outputs": [
    {
     "data": {
      "text/plain": [
       "0       7\n",
       "2       4\n",
       "4       2\n",
       "7       7\n",
       "11      2\n",
       "       ..\n",
       "2238    6\n",
       "2239    7\n",
       "2241    8\n",
       "2242    3\n",
       "2243    5\n",
       "Name: emotion, Length: 120, dtype: int64"
      ]
     },
     "execution_count": 57,
     "metadata": {},
     "output_type": "execute_result"
    }
   ],
   "source": [
    "# df_original.loc[groups == 12]\n",
    "y_test[df_original.loc[groups == 12, \"vocal_channel\"] == 1]"
   ]
  },
  {
   "cell_type": "code",
   "execution_count": 58,
   "metadata": {
    "scrolled": true
   },
   "outputs": [
    {
     "data": {
      "image/png": "[encoded data removed]",
      "text/plain": [
       "<Figure size 432x288 with 2 Axes>"
      ]
     },
     "metadata": {
      "needs_background": "light"
     },
     "output_type": "display_data"
    }
   ],
   "source": [
    "ax = plt.subplot()\n",
    "cm = confusion_matrix(\n",
    "    y_test[df_original.loc[groups == 12, \"vocal_channel\"] == 1],\n",
    "    y_speech_pred_test[df_original.loc[groups == 12, \"vocal_channel\"] == 1],\n",
    ")\n",
    "heat_speech = sns.heatmap(\n",
    "    cm,\n",
    "    cmap=\"Blues\",\n",
    "    annot=True,\n",
    "    fmt=\"g\",\n",
    ")\n",
    "plt.xlabel(\"Predicted\")\n",
    "plt.ylabel(\"True\")\n",
    "ax.xaxis.set_ticklabels(labels_cm)\n",
    "ax.yaxis.set_ticklabels(labels_cm)\n",
    "\n",
    "heat_speech.figure.savefig(\"04.06.Matriz.speech.png\", bbox_inches=\"tight\")"
   ]
  },
  {
   "cell_type": "code",
   "execution_count": 59,
   "metadata": {},
   "outputs": [
    {
     "name": "stdout",
     "output_type": "stream",
     "text": [
      "Accuracy test: 0.475\n",
      "Test F1: 0.4710238618064705\n"
     ]
    }
   ],
   "source": [
    "print(\n",
    "    \"Accuracy test: {:.3f}\".format(\n",
    "        random_model.score(\n",
    "            X_test[df_original.loc[groups == 12, \"vocal_channel\"] == 1],\n",
    "            y_test[df_original.loc[groups == 12, \"vocal_channel\"] == 1],\n",
    "        )\n",
    "    )\n",
    ")\n",
    "print(\n",
    "    \"Test F1: {}\".format(\n",
    "        fbeta_score(\n",
    "            y_test[df_original.loc[groups == 12, \"vocal_channel\"] == 1],\n",
    "            y_speech_pred_test[df_original.loc[groups == 12, \"vocal_channel\"] == 1],\n",
    "            beta=1,\n",
    "            average=\"weighted\",\n",
    "        )\n",
    "    )\n",
    ")"
   ]
  },
  {
   "cell_type": "code",
   "execution_count": 60,
   "metadata": {},
   "outputs": [
    {
     "data": {
      "image/png": "[encoded data removed]",
      "text/plain": [
       "<Figure size 432x288 with 2 Axes>"
      ]
     },
     "metadata": {
      "needs_background": "light"
     },
     "output_type": "display_data"
    }
   ],
   "source": [
    "ax = plt.subplot()\n",
    "cm = confusion_matrix(\n",
    "    y_test[df_original.loc[groups == 12, \"vocal_channel\"] == 2],\n",
    "    y_speech_pred_test[df_original.loc[groups == 12, \"vocal_channel\"] == 2],\n",
    ")\n",
    "heat_song = sns.heatmap(cm, cmap=\"Blues\", annot=True, fmt=\"g\")\n",
    "plt.xlabel(\"Predicted\")\n",
    "plt.ylabel(\"True\")\n",
    "ax.xaxis.set_ticklabels(labels_cm[:-2])\n",
    "ax.yaxis.set_ticklabels(labels_cm[:-2])\n",
    "\n",
    "heat_song.figure.savefig(\"04.06.Matriz.song.png\", bbox_inches=\"tight\")"
   ]
  },
  {
   "cell_type": "code",
   "execution_count": 61,
   "metadata": {},
   "outputs": [
    {
     "name": "stdout",
     "output_type": "stream",
     "text": [
      "Accuracy test: 0.761\n",
      "Test F1: 0.7602521477129628\n"
     ]
    }
   ],
   "source": [
    "print(\n",
    "    \"Accuracy test: {:.3f}\".format(\n",
    "        random_model.score(\n",
    "            X_test[df_original.loc[groups == 12, \"vocal_channel\"] == 2],\n",
    "            y_test[df_original.loc[groups == 12, \"vocal_channel\"] == 2],\n",
    "        )\n",
    "    )\n",
    ")\n",
    "print(\n",
    "    \"Test F1: {}\".format(\n",
    "        fbeta_score(\n",
    "            y_test[df_original.loc[groups == 12, \"vocal_channel\"] == 2],\n",
    "            y_speech_pred_test[df_original.loc[groups == 12, \"vocal_channel\"] == 2],\n",
    "            beta=1,\n",
    "            average=\"weighted\",\n",
    "        )\n",
    "    )\n",
    ")"
   ]
  }
 ],
 "metadata": {
  "kernelspec": {
   "display_name": "Python 3",
   "language": "python",
   "name": "python3"
  },
  "language_info": {
   "codemirror_mode": {
    "name": "ipython",
    "version": 3
   },
   "file_extension": ".py",
   "mimetype": "text/x-python",
   "name": "python",
   "nbconvert_exporter": "python",
   "pygments_lexer": "ipython3",
   "version": "3.7.6"
  }
 },
 "nbformat": 4,
 "nbformat_minor": 2
}
